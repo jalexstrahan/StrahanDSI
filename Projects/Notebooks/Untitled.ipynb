{
 "cells": [
  {
   "cell_type": "code",
   "execution_count": null,
   "metadata": {
    "collapsed": true
   },
   "outputs": [],
   "source": []
  },
  {
   "cell_type": "code",
   "execution_count": null,
   "metadata": {
    "collapsed": true
   },
   "outputs": [],
   "source": [
    "df['x1st.week'] = df['x1st.week'].astype(float) \n",
    "\n",
    "df = df.rename(columns={'artist.inverted':'Artist', 'time':'Length', 'date.entered':'Entered', 'date.peaked':'Peak'})\n",
    "\n",
    "df"
   ]
  },
  {
   "cell_type": "code",
   "execution_count": null,
   "metadata": {
    "collapsed": true
   },
   "outputs": [],
   "source": [
    "#function to rename week columns\n",
    "df.columns = df.columns.str.replace('.week','')\n",
    "df.columns = df.columns.str.replace('x','')\n",
    "df.columns = df.columns.str.replace('th','')\n",
    "df.columns = df.columns.str.replace('rd','')\n",
    "df.columns = df.columns.str.replace('nd','')\n",
    "df.columns = df.columns.str.replace('st','')\n",
    "\n",
    "df = df.rename(columns={'Arti':'Artist', 'Leng':'Length', 'date.entered':'Entered', 'date.peaked':'Peak'})\n",
    "df"
   ]
  }
 ],
 "metadata": {
  "kernelspec": {
   "display_name": "Python 2",
   "language": "python",
   "name": "python2"
  },
  "language_info": {
   "codemirror_mode": {
    "name": "ipython",
    "version": 2
   },
   "file_extension": ".py",
   "mimetype": "text/x-python",
   "name": "python",
   "nbconvert_exporter": "python",
   "pygments_lexer": "ipython2",
   "version": "2.7.11"
  }
 },
 "nbformat": 4,
 "nbformat_minor": 0
}
