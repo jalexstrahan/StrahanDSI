{
 "cells": [
  {
   "cell_type": "code",
   "execution_count": null,
   "metadata": {
    "collapsed": true
   },
   "outputs": [],
   "source": [
    "import requests\n",
    "import bs4\n",
    "from bs4 import BeautifulSoup\n",
    "import pandas as pd"
   ]
  },
  {
   "cell_type": "code",
   "execution_count": null,
   "metadata": {
    "collapsed": true
   },
   "outputs": [],
   "source": [
    "#location = []\n",
    "#company = []\n",
    "#jobTitle = []\n",
    "#salary = []\n",
    "#summary = []"
   ]
  },
  {
   "cell_type": "code",
   "execution_count": null,
   "metadata": {
    "collapsed": true
   },
   "outputs": [],
   "source": [
    "#def locFind(URL):\n",
    "    #soup = BeautifulSoup(requests.get(URL).text)\n",
    "    #for loc in soup.find_all(\"span\", class_=\"location\"):\n",
    "        #locat = loc.text.strip()\n",
    "        #if locat != None:\n",
    "            #location.append(locat)\n",
    "        #else:\n",
    "            #location.append(\"NaN\")\n",
    "    "
   ]
  },
  {
   "cell_type": "code",
   "execution_count": null,
   "metadata": {
    "collapsed": true
   },
   "outputs": [],
   "source": [
    "#def compFind(URL):\n",
    "    #soup = BeautifulSoup(requests.get(URL).text)\n",
    "    #for comp in soup.find_all(\"span\", class_=\"company\"):\n",
    "        #comp1 = comp.text.strip()\n",
    "        #if comp1 != None:\n",
    "            #company.append(comp1)\n",
    "        #else:\n",
    "            #company.append(\"NaN\")\n",
    "\n",
    "#def salaryFind(URL):\n",
    "    #soup = BeautifulSoup(requests.get(URL).text)\n",
    "    #for sal,sal2 in zip(soup.find_all(\"td\", class_=\"snip\"),soup.find_all(\"span\", class_=\"location\")):\n",
    "        #Sibling = sal.findChild(\"nobr\")\n",
    "        #Sibling2 = sal2.findNextSibling(\"div\")\n",
    "        #if Sibling != None:\n",
    "            #salary.append(Sibling.text.strip())\n",
    "        #elif Sibling2 != None:\n",
    "            #salary.append(Sibling2.text.strip())\n",
    "        #else:\n",
    "            #salary.append('NaN')\n",
    "\n",
    "#def jobFind(URL):\n",
    "    #soup = BeautifulSoup(requests.get(URL).text)\n",
    "    #for job in soup.find_all(\"a\", {\"data-tn-element\":\"jobTitle\"}):\n",
    "        #job1 = job.text.strip()\n",
    "        #if job1 != None:\n",
    "            #jobTitle.append(job1)\n",
    "        #else:\n",
    "            #jobTitle.append(\"NaN\")\n",
    "\n"
   ]
  },
  {
   "cell_type": "code",
   "execution_count": null,
   "metadata": {
    "collapsed": true
   },
   "outputs": [],
   "source": [
    "#max_results_per_city = 100\n",
    "\n",
    "\n",
    "#for city in set(['New+York', 'Chicago', 'San+Francisco', 'Austin','Atlanta','Boston','Los+Angeles','Seattle','Phoenix',\n",
    "                 #'Denver','Minneapolis','Huntsville',]):\n",
    "\n",
    "    #for start in range(0, max_results_per_city, 10):\n",
    "        #url_template = \"http://www.indeed.com/jobs?q=data+scientist+%2420%2C000&l=\"+city+\"&start=\"+str(start)\n",
    "        #salaryFind(url_template)\n",
    "        #jobFind(url_template)\n",
    "        #compFind(url_template)\n",
    "        #locFind(url_template)\n"
   ]
  },
  {
   "cell_type": "code",
   "execution_count": null,
   "metadata": {
    "collapsed": true
   },
   "outputs": [],
   "source": [
    "#print len(salary)\n",
    "#print len(jobTitle)\n",
    "#print len(company)\n",
    "#print len(location)\n"
   ]
  },
  {
   "cell_type": "code",
   "execution_count": null,
   "metadata": {
    "collapsed": true
   },
   "outputs": [],
   "source": [
    "#df=pd.DataFrame({'JobTitle':jobTitle, 'company':company, 'location':location, 'salary':salary})\n",
    "#df.describe()"
   ]
  }
 ],
 "metadata": {
  "kernelspec": {
   "display_name": "Python 2",
   "language": "python",
   "name": "python2"
  },
  "language_info": {
   "codemirror_mode": {
    "name": "ipython",
    "version": 2
   },
   "file_extension": ".py",
   "mimetype": "text/x-python",
   "name": "python",
   "nbconvert_exporter": "python",
   "pygments_lexer": "ipython2",
   "version": "2.7.11"
  }
 },
 "nbformat": 4,
 "nbformat_minor": 0
}
