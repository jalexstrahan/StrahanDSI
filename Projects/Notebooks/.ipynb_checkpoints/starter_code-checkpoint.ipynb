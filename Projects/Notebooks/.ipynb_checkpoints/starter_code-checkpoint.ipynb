{
 "cells": [
  {
   "cell_type": "markdown",
   "metadata": {
    "focus": false,
    "id": "69b9a648-bcc7-490d-9f9b-ea244d156bd6"
   },
   "source": [
    "# Web Scraping for Indeed.com & Predicting Salaries"
   ]
  },
  {
   "cell_type": "markdown",
   "metadata": {},
   "source": [
    "**Problem Statement:**\n",
    "\n",
    "Many different variables can influence the salary of a job in data science. One main variable is the city in which the job is located. Websites such as Indeed.com provide a wealth of information on jobs, including salary and location. This code uses web scraping and logistic regression to predict whether a salary will be high or low depending on the location of the job. "
   ]
  },
  {
   "cell_type": "code",
   "execution_count": 539,
   "metadata": {
    "collapsed": false,
    "focus": false,
    "id": "e915023e-6b0d-4982-af2a-b1e0355f4927"
   },
   "outputs": [],
   "source": [
    "URL = \"http://www.indeed.com/jobs?q=data+scientist+%2420%2C000&l=New+York&start=10\""
   ]
  },
  {
   "cell_type": "code",
   "execution_count": 2,
   "metadata": {
    "collapsed": true,
    "focus": false,
    "id": "2efefc73-064a-482d-b3b5-ddf5508cb4ec"
   },
   "outputs": [],
   "source": [
    "import requests\n",
    "import bs4\n",
    "from bs4 import BeautifulSoup\n",
    "import pandas as pd\n",
    "import numpy as np"
   ]
  },
  {
   "cell_type": "code",
   "execution_count": 542,
   "metadata": {
    "collapsed": false,
    "focus": false,
    "id": "a1af53c9-9090-494f-b82e-cadb60a54909",
    "scrolled": true
   },
   "outputs": [],
   "source": [
    "#Functions to parse html on Indeed.com \n",
    "def extract_text(el):\n",
    "    if el:\n",
    "        return el.text.strip()\n",
    "    else:\n",
    "        return ''\n",
    "        \n",
    "\n",
    "def get_company_from_result(result):\n",
    "    return extract_text(result.find('span', {'class' : 'company'}))\n",
    "\n",
    "def get_location_from_result(result):\n",
    "    return  extract_text(result.find('span', {'class' : 'location'}))\n",
    "\n",
    "def get_summary_from_result(result):\n",
    "    return  extract_text(result.find('span', {'class' : 'summary'}))\n",
    "\n",
    "def get_title_from_result(result):\n",
    "    return result.find('a', {'data-tn-element' : 'jobTitle'}).text.strip()\n",
    "\n",
    "def get_salary_from_result(result):\n",
    "    salary_table = result.find('td', {'class' : 'snip'})\n",
    "    if salary_table:\n",
    "        snip = salary_table.find('nobr')\n",
    "        if snip:\n",
    "            return snip.text.strip()\n",
    "        \n",
    "    return None"
   ]
  },
  {
   "cell_type": "code",
   "execution_count": 544,
   "metadata": {
    "collapsed": false,
    "focus": false,
    "id": "04b0f9af-540e-402f-8292-81748707c676"
   },
   "outputs": [],
   "source": [
    "#Function that substitutes city names and iterates through results to gain enough salary information to analyze\n",
    "#Code has been commented out so that it does not run unintentionally\n",
    "\n",
    "\n",
    "#url = \"http://www.indeed.com/jobs?q=data+scientist+%2420%2C000&l={}&start={}\"\n",
    "#rows = []\n",
    "\n",
    "#for city in set(['New+York', 'Chicago', 'San+Francisco', 'Austin', 'Seattle']):\n",
    " #   for start in range(10, 8000, 10):\n",
    "  #      r = requests.get(url.format(city, start))\n",
    "   #     soup = BeautifulSoup(r.content)\n",
    "    #    results = soup.findAll('div', { \"class\" : \"result\" })\n",
    "     #   for result in results:\n",
    "      #      if result:\n",
    "       #         row = {}\n",
    "        #        row['title'] = get_title_from_result(result)\n",
    "         #       row['company'] = get_company_from_result(result)\n",
    "          #      row['summary'] = get_summary_from_result(result)\n",
    "           #     row['salary'] = get_salary_from_result(result)\n",
    "            #    row['city'] = city\n",
    "             #   rows.append(row)\n",
    "\n",
    "\n",
    "data = pd.DataFrame.from_records(rows)\n",
    "\n",
    "salary_data = data[data.salary.notnull()]\n",
    "salary_data = salary_data[~(salary_data.salary.astype('str').str.contains('hour'))]"
   ]
  },
  {
   "cell_type": "code",
   "execution_count": 138,
   "metadata": {
    "collapsed": false
   },
   "outputs": [
    {
     "ename": "NameError",
     "evalue": "name 'salary_data' is not defined",
     "output_type": "error",
     "traceback": [
      "\u001b[0;31m---------------------------------------------------------------------------\u001b[0m",
      "\u001b[0;31mNameError\u001b[0m                                 Traceback (most recent call last)",
      "\u001b[0;32m<ipython-input-138-20333d6fad74>\u001b[0m in \u001b[0;36m<module>\u001b[0;34m()\u001b[0m\n\u001b[0;32m----> 1\u001b[0;31m \u001b[0msalary_data\u001b[0m\u001b[0;34m.\u001b[0m\u001b[0mhead\u001b[0m\u001b[0;34m(\u001b[0m\u001b[0;34m)\u001b[0m\u001b[0;34m\u001b[0m\u001b[0m\n\u001b[0m",
      "\u001b[0;31mNameError\u001b[0m: name 'salary_data' is not defined"
     ]
    }
   ],
   "source": [
    "salary_data.head()"
   ]
  },
  {
   "cell_type": "code",
   "execution_count": null,
   "metadata": {
    "collapsed": false
   },
   "outputs": [],
   "source": [
    "#commented out because running line again would cause csv to be empty unless I rerun Beautifulsoup...as I found out\n",
    "#salary_data.to_csv('../assets/Project4/IndeedSalaryData.csv', encoding='utf-8',index=False)"
   ]
  },
  {
   "cell_type": "code",
   "execution_count": 3,
   "metadata": {
    "collapsed": false
   },
   "outputs": [],
   "source": [
    "sdf = pd.read_csv('../Assets/Project4/IndeedSalaryData.csv')"
   ]
  },
  {
   "cell_type": "code",
   "execution_count": 4,
   "metadata": {
    "collapsed": false
   },
   "outputs": [
    {
     "data": {
      "text/html": [
       "<div>\n",
       "<table border=\"1\" class=\"dataframe\">\n",
       "  <thead>\n",
       "    <tr style=\"text-align: right;\">\n",
       "      <th></th>\n",
       "      <th>city</th>\n",
       "      <th>company</th>\n",
       "      <th>salary</th>\n",
       "      <th>summary</th>\n",
       "      <th>title</th>\n",
       "    </tr>\n",
       "  </thead>\n",
       "  <tbody>\n",
       "    <tr>\n",
       "      <th>0</th>\n",
       "      <td>San+Francisco</td>\n",
       "      <td>Workbridge Associates</td>\n",
       "      <td>$120,000 - $165,000 a year</td>\n",
       "      <td>Familiarity with data visualization, web analy...</td>\n",
       "      <td>Senior Level Data Scientist</td>\n",
       "    </tr>\n",
       "    <tr>\n",
       "      <th>1</th>\n",
       "      <td>San+Francisco</td>\n",
       "      <td>Workbridge Associates</td>\n",
       "      <td>$125,000 - $135,000 a year</td>\n",
       "      <td>Experience with big data stack technologies, s...</td>\n",
       "      <td>Mid-Level Data Scientist</td>\n",
       "    </tr>\n",
       "    <tr>\n",
       "      <th>2</th>\n",
       "      <td>San+Francisco</td>\n",
       "      <td>MarkMonitor</td>\n",
       "      <td>$180,000 a year</td>\n",
       "      <td>Data skills (SQL, Hive, Pig). Applying machine...</td>\n",
       "      <td>Data Scientist</td>\n",
       "    </tr>\n",
       "    <tr>\n",
       "      <th>3</th>\n",
       "      <td>San+Francisco</td>\n",
       "      <td>Mines.io</td>\n",
       "      <td>$80,000 - $120,000 a year</td>\n",
       "      <td>We are looking for a data scientist/developer ...</td>\n",
       "      <td>Full-Stack Data Scientist</td>\n",
       "    </tr>\n",
       "    <tr>\n",
       "      <th>4</th>\n",
       "      <td>San+Francisco</td>\n",
       "      <td>Selby Jennings</td>\n",
       "      <td>$160,000 a year</td>\n",
       "      <td>Integrate data and control APIs utilzing 3rd p...</td>\n",
       "      <td>Business Intelligence/Data Scientist at VC Bay...</td>\n",
       "    </tr>\n",
       "    <tr>\n",
       "      <th>5</th>\n",
       "      <td>San+Francisco</td>\n",
       "      <td>Workbridge Associates</td>\n",
       "      <td>$130,000 - $175,000 a year</td>\n",
       "      <td>3+ years as a Data Scientist required. FinTech...</td>\n",
       "      <td>Senior Data Scientist (FinTech)</td>\n",
       "    </tr>\n",
       "    <tr>\n",
       "      <th>6</th>\n",
       "      <td>San+Francisco</td>\n",
       "      <td>Workbridge Associates</td>\n",
       "      <td>$120,000 - $150,000 a year</td>\n",
       "      <td>There is a small team of Data Engineers and Da...</td>\n",
       "      <td>Mid-Level Data Engineer</td>\n",
       "    </tr>\n",
       "    <tr>\n",
       "      <th>7</th>\n",
       "      <td>San+Francisco</td>\n",
       "      <td>Workbridge Associates</td>\n",
       "      <td>$150,000 - $180,000 a year</td>\n",
       "      <td>A well-known San Francisco gaming company is l...</td>\n",
       "      <td>Senior Data Scientist</td>\n",
       "    </tr>\n",
       "    <tr>\n",
       "      <th>8</th>\n",
       "      <td>San+Francisco</td>\n",
       "      <td>California State University</td>\n",
       "      <td>$50,400 - $60,000 a year</td>\n",
       "      <td>Compile and analyze data for written reports a...</td>\n",
       "      <td>Administrative Analyst/Specialist, Exempt I - ...</td>\n",
       "    </tr>\n",
       "    <tr>\n",
       "      <th>9</th>\n",
       "      <td>San+Francisco</td>\n",
       "      <td>University of California Berkeley</td>\n",
       "      <td>$3,811 - $3,889 a month</td>\n",
       "      <td>Must be able to work in a greenhouse, manage d...</td>\n",
       "      <td>Staff Research Associate, PMB</td>\n",
       "    </tr>\n",
       "    <tr>\n",
       "      <th>10</th>\n",
       "      <td>San+Francisco</td>\n",
       "      <td>Workbridge Associates</td>\n",
       "      <td>$150,000 - $180,000 a year</td>\n",
       "      <td>In this position you will share programming an...</td>\n",
       "      <td>Data Scientist</td>\n",
       "    </tr>\n",
       "    <tr>\n",
       "      <th>11</th>\n",
       "      <td>San+Francisco</td>\n",
       "      <td>Smith Hanley Associates</td>\n",
       "      <td>$140,000 a year</td>\n",
       "      <td>This person will recruit, build and lead a tea...</td>\n",
       "      <td>Data Scientist</td>\n",
       "    </tr>\n",
       "    <tr>\n",
       "      <th>12</th>\n",
       "      <td>San+Francisco</td>\n",
       "      <td>University of California Berkeley</td>\n",
       "      <td>$49,012 a year</td>\n",
       "      <td>Concepts in Computing with Data. (On reproduci...</td>\n",
       "      <td>Lecturer - Statistics - Department of Statisti...</td>\n",
       "    </tr>\n",
       "    <tr>\n",
       "      <th>13</th>\n",
       "      <td>San+Francisco</td>\n",
       "      <td>Oakland Unified School District</td>\n",
       "      <td>$72,364 - $96,934 a year</td>\n",
       "      <td>Provide training on data analysis, data system...</td>\n",
       "      <td>Data Analyst II (Department: Research, Assessm...</td>\n",
       "    </tr>\n",
       "    <tr>\n",
       "      <th>14</th>\n",
       "      <td>San+Francisco</td>\n",
       "      <td>Brilent</td>\n",
       "      <td>$150,000 a year</td>\n",
       "      <td>The Brilent team brings together deep experien...</td>\n",
       "      <td>Senior NLP Scientist/Engineer</td>\n",
       "    </tr>\n",
       "    <tr>\n",
       "      <th>15</th>\n",
       "      <td>San+Francisco</td>\n",
       "      <td>University of California Berkeley</td>\n",
       "      <td>$43,692 - $51,120 a year</td>\n",
       "      <td>Demonstrated experience with programming for b...</td>\n",
       "      <td>Post-Doctoral Scholar-Employee: Analysis of om...</td>\n",
       "    </tr>\n",
       "    <tr>\n",
       "      <th>16</th>\n",
       "      <td>San+Francisco</td>\n",
       "      <td>Engage Recruiting LLC</td>\n",
       "      <td>$145,000 a year</td>\n",
       "      <td>The person will be working with a team of Engi...</td>\n",
       "      <td>Data Engineer</td>\n",
       "    </tr>\n",
       "    <tr>\n",
       "      <th>17</th>\n",
       "      <td>San+Francisco</td>\n",
       "      <td>Workbridge Associates</td>\n",
       "      <td>$115,000 - $145,000 a year</td>\n",
       "      <td>2+ years of experience in Data Scientist, Quan...</td>\n",
       "      <td>Senior Data Scientist (Econometrics)</td>\n",
       "    </tr>\n",
       "    <tr>\n",
       "      <th>18</th>\n",
       "      <td>San+Francisco</td>\n",
       "      <td>Talent Compliance Consulting Services</td>\n",
       "      <td>$100,000 a year</td>\n",
       "      <td>Strong data analysis skills including setting ...</td>\n",
       "      <td>Quality Control Scientist</td>\n",
       "    </tr>\n",
       "    <tr>\n",
       "      <th>19</th>\n",
       "      <td>San+Francisco</td>\n",
       "      <td>All-In Analytics</td>\n",
       "      <td>$100,000 - $150,000 a year</td>\n",
       "      <td>Fraud Data Scientist. Seeking someone with ski...</td>\n",
       "      <td>Fraud Data Scientist</td>\n",
       "    </tr>\n",
       "    <tr>\n",
       "      <th>20</th>\n",
       "      <td>San+Francisco</td>\n",
       "      <td>NJF Search</td>\n",
       "      <td>$200,000 a year</td>\n",
       "      <td>RESPONSIBILITIES:  Design and develop predicti...</td>\n",
       "      <td>Quantitative Researcher - Statistical Machine ...</td>\n",
       "    </tr>\n",
       "    <tr>\n",
       "      <th>21</th>\n",
       "      <td>San+Francisco</td>\n",
       "      <td>Workbridge Associates</td>\n",
       "      <td>$120,000 - $155,000 a year</td>\n",
       "      <td>Industry experience working as a data scientis...</td>\n",
       "      <td>Senior Data Scientist (Healthcare)</td>\n",
       "    </tr>\n",
       "    <tr>\n",
       "      <th>22</th>\n",
       "      <td>San+Francisco</td>\n",
       "      <td>Brilent</td>\n",
       "      <td>$130,000 a year</td>\n",
       "      <td>Perform large-scale data analysis, find intere...</td>\n",
       "      <td>Senior Data Scientist</td>\n",
       "    </tr>\n",
       "    <tr>\n",
       "      <th>23</th>\n",
       "      <td>San+Francisco</td>\n",
       "      <td>Corporate Labs Technology</td>\n",
       "      <td>$110,000 - $180,000 a year</td>\n",
       "      <td>Natural Language Processing Brisbane, CA Sign ...</td>\n",
       "      <td>Data Scientist (Natural Language Processing)</td>\n",
       "    </tr>\n",
       "    <tr>\n",
       "      <th>24</th>\n",
       "      <td>San+Francisco</td>\n",
       "      <td>Corporate Labs Technology</td>\n",
       "      <td>$110,000 - $180,000 a year</td>\n",
       "      <td>Machine Learning Developer Brisbane, CA Sign o...</td>\n",
       "      <td>Data Scientist (Machine Learning)</td>\n",
       "    </tr>\n",
       "    <tr>\n",
       "      <th>25</th>\n",
       "      <td>San+Francisco</td>\n",
       "      <td>HSF Consulting</td>\n",
       "      <td>$160,000 a year</td>\n",
       "      <td>More data- they simply have more data than the...</td>\n",
       "      <td>Senior Data Scientist</td>\n",
       "    </tr>\n",
       "    <tr>\n",
       "      <th>26</th>\n",
       "      <td>San+Francisco</td>\n",
       "      <td>Workbridge Associates</td>\n",
       "      <td>$140,000 - $200,000 a year</td>\n",
       "      <td>The Senior Data Scientist position requires a ...</td>\n",
       "      <td>Senior Data Scientist (Autonomous Vehicle Rese...</td>\n",
       "    </tr>\n",
       "    <tr>\n",
       "      <th>27</th>\n",
       "      <td>San+Francisco</td>\n",
       "      <td>University of California Berkeley</td>\n",
       "      <td>$67,500 - $81,600 a year</td>\n",
       "      <td>Ensures accuracy and completeness of data in m...</td>\n",
       "      <td>Database Administrator, GSE</td>\n",
       "    </tr>\n",
       "    <tr>\n",
       "      <th>28</th>\n",
       "      <td>San+Francisco</td>\n",
       "      <td>HSF Consulting</td>\n",
       "      <td>$300,000 a year</td>\n",
       "      <td>Teams included Data Services(including data en...</td>\n",
       "      <td>VP of Data Services</td>\n",
       "    </tr>\n",
       "    <tr>\n",
       "      <th>29</th>\n",
       "      <td>San+Francisco</td>\n",
       "      <td>Jobspring Partners</td>\n",
       "      <td>$150,000 - $175,000 a year</td>\n",
       "      <td>Given the high volume of data collected by the...</td>\n",
       "      <td>Python Developer (Machine Learning)</td>\n",
       "    </tr>\n",
       "    <tr>\n",
       "      <th>...</th>\n",
       "      <td>...</td>\n",
       "      <td>...</td>\n",
       "      <td>...</td>\n",
       "      <td>...</td>\n",
       "      <td>...</td>\n",
       "    </tr>\n",
       "    <tr>\n",
       "      <th>70</th>\n",
       "      <td>Austin</td>\n",
       "      <td>University of Texas at Austin</td>\n",
       "      <td>$3,210 a month</td>\n",
       "      <td>Ability to interpret CT data as applicable to ...</td>\n",
       "      <td>Research Engineering/ Scientist Associate II -...</td>\n",
       "    </tr>\n",
       "    <tr>\n",
       "      <th>71</th>\n",
       "      <td>Austin</td>\n",
       "      <td>University of Texas at Austin</td>\n",
       "      <td>$3,210 a month</td>\n",
       "      <td>Ability to interpret CT data as applicable to ...</td>\n",
       "      <td>Research Engineering/ Scientist Associate II -...</td>\n",
       "    </tr>\n",
       "    <tr>\n",
       "      <th>72</th>\n",
       "      <td>Austin</td>\n",
       "      <td>University of Texas at Austin</td>\n",
       "      <td>$3,210 a month</td>\n",
       "      <td>Ability to interpret CT data as applicable to ...</td>\n",
       "      <td>Research Engineering/ Scientist Associate II -...</td>\n",
       "    </tr>\n",
       "    <tr>\n",
       "      <th>73</th>\n",
       "      <td>Austin</td>\n",
       "      <td>University of Texas at Austin</td>\n",
       "      <td>$3,210 a month</td>\n",
       "      <td>Ability to interpret CT data as applicable to ...</td>\n",
       "      <td>Research Engineering/ Scientist Associate II -...</td>\n",
       "    </tr>\n",
       "    <tr>\n",
       "      <th>74</th>\n",
       "      <td>Austin</td>\n",
       "      <td>University of Texas at Austin</td>\n",
       "      <td>$3,210 a month</td>\n",
       "      <td>Ability to interpret CT data as applicable to ...</td>\n",
       "      <td>Research Engineering/ Scientist Associate II -...</td>\n",
       "    </tr>\n",
       "    <tr>\n",
       "      <th>75</th>\n",
       "      <td>Austin</td>\n",
       "      <td>University of Texas at Austin</td>\n",
       "      <td>$3,210 a month</td>\n",
       "      <td>Ability to interpret CT data as applicable to ...</td>\n",
       "      <td>Research Engineering/ Scientist Associate II -...</td>\n",
       "    </tr>\n",
       "    <tr>\n",
       "      <th>76</th>\n",
       "      <td>Austin</td>\n",
       "      <td>University of Texas at Austin</td>\n",
       "      <td>$3,210 a month</td>\n",
       "      <td>Ability to interpret CT data as applicable to ...</td>\n",
       "      <td>Research Engineering/ Scientist Associate II -...</td>\n",
       "    </tr>\n",
       "    <tr>\n",
       "      <th>77</th>\n",
       "      <td>Austin</td>\n",
       "      <td>University of Texas at Austin</td>\n",
       "      <td>$3,210 a month</td>\n",
       "      <td>Ability to interpret CT data as applicable to ...</td>\n",
       "      <td>Research Engineering/ Scientist Associate II -...</td>\n",
       "    </tr>\n",
       "    <tr>\n",
       "      <th>78</th>\n",
       "      <td>Austin</td>\n",
       "      <td>University of Texas at Austin</td>\n",
       "      <td>$3,210 a month</td>\n",
       "      <td>Ability to interpret CT data as applicable to ...</td>\n",
       "      <td>Research Engineering/ Scientist Associate II -...</td>\n",
       "    </tr>\n",
       "    <tr>\n",
       "      <th>79</th>\n",
       "      <td>Austin</td>\n",
       "      <td>University of Texas at Austin</td>\n",
       "      <td>$3,210 a month</td>\n",
       "      <td>Ability to interpret CT data as applicable to ...</td>\n",
       "      <td>Research Engineering/ Scientist Associate II -...</td>\n",
       "    </tr>\n",
       "    <tr>\n",
       "      <th>80</th>\n",
       "      <td>Austin</td>\n",
       "      <td>University of Texas at Austin</td>\n",
       "      <td>$3,210 a month</td>\n",
       "      <td>Ability to interpret CT data as applicable to ...</td>\n",
       "      <td>Research Engineering/ Scientist Associate II -...</td>\n",
       "    </tr>\n",
       "    <tr>\n",
       "      <th>81</th>\n",
       "      <td>Austin</td>\n",
       "      <td>University of Texas at Austin</td>\n",
       "      <td>$3,210 a month</td>\n",
       "      <td>Ability to interpret CT data as applicable to ...</td>\n",
       "      <td>Research Engineering/ Scientist Associate II -...</td>\n",
       "    </tr>\n",
       "    <tr>\n",
       "      <th>82</th>\n",
       "      <td>Austin</td>\n",
       "      <td>University of Texas at Austin</td>\n",
       "      <td>$3,210 a month</td>\n",
       "      <td>Ability to interpret CT data as applicable to ...</td>\n",
       "      <td>Research Engineering/ Scientist Associate II -...</td>\n",
       "    </tr>\n",
       "    <tr>\n",
       "      <th>83</th>\n",
       "      <td>Austin</td>\n",
       "      <td>University of Texas at Austin</td>\n",
       "      <td>$3,210 a month</td>\n",
       "      <td>Ability to interpret CT data as applicable to ...</td>\n",
       "      <td>Research Engineering/ Scientist Associate II -...</td>\n",
       "    </tr>\n",
       "    <tr>\n",
       "      <th>84</th>\n",
       "      <td>Austin</td>\n",
       "      <td>University of Texas at Austin</td>\n",
       "      <td>$3,210 a month</td>\n",
       "      <td>Ability to interpret CT data as applicable to ...</td>\n",
       "      <td>Research Engineering/ Scientist Associate II -...</td>\n",
       "    </tr>\n",
       "    <tr>\n",
       "      <th>85</th>\n",
       "      <td>Austin</td>\n",
       "      <td>University of Texas at Austin</td>\n",
       "      <td>$3,210 a month</td>\n",
       "      <td>Ability to interpret CT data as applicable to ...</td>\n",
       "      <td>Research Engineering/ Scientist Associate II -...</td>\n",
       "    </tr>\n",
       "    <tr>\n",
       "      <th>86</th>\n",
       "      <td>Austin</td>\n",
       "      <td>University of Texas at Austin</td>\n",
       "      <td>$3,210 a month</td>\n",
       "      <td>Ability to interpret CT data as applicable to ...</td>\n",
       "      <td>Research Engineering/ Scientist Associate II -...</td>\n",
       "    </tr>\n",
       "    <tr>\n",
       "      <th>87</th>\n",
       "      <td>Austin</td>\n",
       "      <td>University of Texas at Austin</td>\n",
       "      <td>$3,210 a month</td>\n",
       "      <td>Ability to interpret CT data as applicable to ...</td>\n",
       "      <td>Research Engineering/ Scientist Associate II -...</td>\n",
       "    </tr>\n",
       "    <tr>\n",
       "      <th>88</th>\n",
       "      <td>Austin</td>\n",
       "      <td>University of Texas at Austin</td>\n",
       "      <td>$3,210 a month</td>\n",
       "      <td>Ability to interpret CT data as applicable to ...</td>\n",
       "      <td>Research Engineering/ Scientist Associate II -...</td>\n",
       "    </tr>\n",
       "    <tr>\n",
       "      <th>89</th>\n",
       "      <td>Austin</td>\n",
       "      <td>University of Texas at Austin</td>\n",
       "      <td>$3,210 a month</td>\n",
       "      <td>Ability to interpret CT data as applicable to ...</td>\n",
       "      <td>Research Engineering/ Scientist Associate II -...</td>\n",
       "    </tr>\n",
       "    <tr>\n",
       "      <th>90</th>\n",
       "      <td>Austin</td>\n",
       "      <td>University of Texas at Austin</td>\n",
       "      <td>$3,210 a month</td>\n",
       "      <td>Ability to interpret CT data as applicable to ...</td>\n",
       "      <td>Research Engineering/ Scientist Associate II -...</td>\n",
       "    </tr>\n",
       "    <tr>\n",
       "      <th>91</th>\n",
       "      <td>Austin</td>\n",
       "      <td>University of Texas at Austin</td>\n",
       "      <td>$3,210 a month</td>\n",
       "      <td>Ability to interpret CT data as applicable to ...</td>\n",
       "      <td>Research Engineering/ Scientist Associate II -...</td>\n",
       "    </tr>\n",
       "    <tr>\n",
       "      <th>92</th>\n",
       "      <td>Austin</td>\n",
       "      <td>University of Texas at Austin</td>\n",
       "      <td>$3,210 a month</td>\n",
       "      <td>Ability to interpret CT data as applicable to ...</td>\n",
       "      <td>Research Engineering/ Scientist Associate II -...</td>\n",
       "    </tr>\n",
       "    <tr>\n",
       "      <th>93</th>\n",
       "      <td>Austin</td>\n",
       "      <td>University of Texas at Austin</td>\n",
       "      <td>$3,210 a month</td>\n",
       "      <td>Ability to interpret CT data as applicable to ...</td>\n",
       "      <td>Research Engineering/ Scientist Associate II -...</td>\n",
       "    </tr>\n",
       "    <tr>\n",
       "      <th>94</th>\n",
       "      <td>Austin</td>\n",
       "      <td>University of Texas at Austin</td>\n",
       "      <td>$3,210 a month</td>\n",
       "      <td>Ability to interpret CT data as applicable to ...</td>\n",
       "      <td>Research Engineering/ Scientist Associate II -...</td>\n",
       "    </tr>\n",
       "    <tr>\n",
       "      <th>95</th>\n",
       "      <td>Austin</td>\n",
       "      <td>University of Texas at Austin</td>\n",
       "      <td>$3,210 a month</td>\n",
       "      <td>Ability to interpret CT data as applicable to ...</td>\n",
       "      <td>Research Engineering/ Scientist Associate II -...</td>\n",
       "    </tr>\n",
       "    <tr>\n",
       "      <th>96</th>\n",
       "      <td>Austin</td>\n",
       "      <td>University of Texas at Austin</td>\n",
       "      <td>$3,210 a month</td>\n",
       "      <td>Ability to interpret CT data as applicable to ...</td>\n",
       "      <td>Research Engineering/ Scientist Associate II -...</td>\n",
       "    </tr>\n",
       "    <tr>\n",
       "      <th>97</th>\n",
       "      <td>Austin</td>\n",
       "      <td>University of Texas at Austin</td>\n",
       "      <td>$3,210 a month</td>\n",
       "      <td>Ability to interpret CT data as applicable to ...</td>\n",
       "      <td>Research Engineering/ Scientist Associate II -...</td>\n",
       "    </tr>\n",
       "    <tr>\n",
       "      <th>98</th>\n",
       "      <td>Austin</td>\n",
       "      <td>University of Texas at Austin</td>\n",
       "      <td>$3,210 a month</td>\n",
       "      <td>Ability to interpret CT data as applicable to ...</td>\n",
       "      <td>Research Engineering/ Scientist Associate II -...</td>\n",
       "    </tr>\n",
       "    <tr>\n",
       "      <th>99</th>\n",
       "      <td>Austin</td>\n",
       "      <td>University of Texas at Austin</td>\n",
       "      <td>$3,210 a month</td>\n",
       "      <td>Ability to interpret CT data as applicable to ...</td>\n",
       "      <td>Research Engineering/ Scientist Associate II -...</td>\n",
       "    </tr>\n",
       "  </tbody>\n",
       "</table>\n",
       "<p>100 rows × 5 columns</p>\n",
       "</div>"
      ],
      "text/plain": [
       "             city                                company  \\\n",
       "0   San+Francisco                  Workbridge Associates   \n",
       "1   San+Francisco                  Workbridge Associates   \n",
       "2   San+Francisco                            MarkMonitor   \n",
       "3   San+Francisco                               Mines.io   \n",
       "4   San+Francisco                         Selby Jennings   \n",
       "5   San+Francisco                  Workbridge Associates   \n",
       "6   San+Francisco                  Workbridge Associates   \n",
       "7   San+Francisco                  Workbridge Associates   \n",
       "8   San+Francisco            California State University   \n",
       "9   San+Francisco      University of California Berkeley   \n",
       "10  San+Francisco                  Workbridge Associates   \n",
       "11  San+Francisco                Smith Hanley Associates   \n",
       "12  San+Francisco      University of California Berkeley   \n",
       "13  San+Francisco        Oakland Unified School District   \n",
       "14  San+Francisco                                Brilent   \n",
       "15  San+Francisco      University of California Berkeley   \n",
       "16  San+Francisco                  Engage Recruiting LLC   \n",
       "17  San+Francisco                  Workbridge Associates   \n",
       "18  San+Francisco  Talent Compliance Consulting Services   \n",
       "19  San+Francisco                       All-In Analytics   \n",
       "20  San+Francisco                             NJF Search   \n",
       "21  San+Francisco                  Workbridge Associates   \n",
       "22  San+Francisco                                Brilent   \n",
       "23  San+Francisco              Corporate Labs Technology   \n",
       "24  San+Francisco              Corporate Labs Technology   \n",
       "25  San+Francisco                         HSF Consulting   \n",
       "26  San+Francisco                  Workbridge Associates   \n",
       "27  San+Francisco      University of California Berkeley   \n",
       "28  San+Francisco                         HSF Consulting   \n",
       "29  San+Francisco                     Jobspring Partners   \n",
       "..            ...                                    ...   \n",
       "70         Austin          University of Texas at Austin   \n",
       "71         Austin          University of Texas at Austin   \n",
       "72         Austin          University of Texas at Austin   \n",
       "73         Austin          University of Texas at Austin   \n",
       "74         Austin          University of Texas at Austin   \n",
       "75         Austin          University of Texas at Austin   \n",
       "76         Austin          University of Texas at Austin   \n",
       "77         Austin          University of Texas at Austin   \n",
       "78         Austin          University of Texas at Austin   \n",
       "79         Austin          University of Texas at Austin   \n",
       "80         Austin          University of Texas at Austin   \n",
       "81         Austin          University of Texas at Austin   \n",
       "82         Austin          University of Texas at Austin   \n",
       "83         Austin          University of Texas at Austin   \n",
       "84         Austin          University of Texas at Austin   \n",
       "85         Austin          University of Texas at Austin   \n",
       "86         Austin          University of Texas at Austin   \n",
       "87         Austin          University of Texas at Austin   \n",
       "88         Austin          University of Texas at Austin   \n",
       "89         Austin          University of Texas at Austin   \n",
       "90         Austin          University of Texas at Austin   \n",
       "91         Austin          University of Texas at Austin   \n",
       "92         Austin          University of Texas at Austin   \n",
       "93         Austin          University of Texas at Austin   \n",
       "94         Austin          University of Texas at Austin   \n",
       "95         Austin          University of Texas at Austin   \n",
       "96         Austin          University of Texas at Austin   \n",
       "97         Austin          University of Texas at Austin   \n",
       "98         Austin          University of Texas at Austin   \n",
       "99         Austin          University of Texas at Austin   \n",
       "\n",
       "                        salary  \\\n",
       "0   $120,000 - $165,000 a year   \n",
       "1   $125,000 - $135,000 a year   \n",
       "2              $180,000 a year   \n",
       "3    $80,000 - $120,000 a year   \n",
       "4              $160,000 a year   \n",
       "5   $130,000 - $175,000 a year   \n",
       "6   $120,000 - $150,000 a year   \n",
       "7   $150,000 - $180,000 a year   \n",
       "8     $50,400 - $60,000 a year   \n",
       "9      $3,811 - $3,889 a month   \n",
       "10  $150,000 - $180,000 a year   \n",
       "11             $140,000 a year   \n",
       "12              $49,012 a year   \n",
       "13    $72,364 - $96,934 a year   \n",
       "14             $150,000 a year   \n",
       "15    $43,692 - $51,120 a year   \n",
       "16             $145,000 a year   \n",
       "17  $115,000 - $145,000 a year   \n",
       "18             $100,000 a year   \n",
       "19  $100,000 - $150,000 a year   \n",
       "20             $200,000 a year   \n",
       "21  $120,000 - $155,000 a year   \n",
       "22             $130,000 a year   \n",
       "23  $110,000 - $180,000 a year   \n",
       "24  $110,000 - $180,000 a year   \n",
       "25             $160,000 a year   \n",
       "26  $140,000 - $200,000 a year   \n",
       "27    $67,500 - $81,600 a year   \n",
       "28             $300,000 a year   \n",
       "29  $150,000 - $175,000 a year   \n",
       "..                         ...   \n",
       "70              $3,210 a month   \n",
       "71              $3,210 a month   \n",
       "72              $3,210 a month   \n",
       "73              $3,210 a month   \n",
       "74              $3,210 a month   \n",
       "75              $3,210 a month   \n",
       "76              $3,210 a month   \n",
       "77              $3,210 a month   \n",
       "78              $3,210 a month   \n",
       "79              $3,210 a month   \n",
       "80              $3,210 a month   \n",
       "81              $3,210 a month   \n",
       "82              $3,210 a month   \n",
       "83              $3,210 a month   \n",
       "84              $3,210 a month   \n",
       "85              $3,210 a month   \n",
       "86              $3,210 a month   \n",
       "87              $3,210 a month   \n",
       "88              $3,210 a month   \n",
       "89              $3,210 a month   \n",
       "90              $3,210 a month   \n",
       "91              $3,210 a month   \n",
       "92              $3,210 a month   \n",
       "93              $3,210 a month   \n",
       "94              $3,210 a month   \n",
       "95              $3,210 a month   \n",
       "96              $3,210 a month   \n",
       "97              $3,210 a month   \n",
       "98              $3,210 a month   \n",
       "99              $3,210 a month   \n",
       "\n",
       "                                              summary  \\\n",
       "0   Familiarity with data visualization, web analy...   \n",
       "1   Experience with big data stack technologies, s...   \n",
       "2   Data skills (SQL, Hive, Pig). Applying machine...   \n",
       "3   We are looking for a data scientist/developer ...   \n",
       "4   Integrate data and control APIs utilzing 3rd p...   \n",
       "5   3+ years as a Data Scientist required. FinTech...   \n",
       "6   There is a small team of Data Engineers and Da...   \n",
       "7   A well-known San Francisco gaming company is l...   \n",
       "8   Compile and analyze data for written reports a...   \n",
       "9   Must be able to work in a greenhouse, manage d...   \n",
       "10  In this position you will share programming an...   \n",
       "11  This person will recruit, build and lead a tea...   \n",
       "12  Concepts in Computing with Data. (On reproduci...   \n",
       "13  Provide training on data analysis, data system...   \n",
       "14  The Brilent team brings together deep experien...   \n",
       "15  Demonstrated experience with programming for b...   \n",
       "16  The person will be working with a team of Engi...   \n",
       "17  2+ years of experience in Data Scientist, Quan...   \n",
       "18  Strong data analysis skills including setting ...   \n",
       "19  Fraud Data Scientist. Seeking someone with ski...   \n",
       "20  RESPONSIBILITIES:  Design and develop predicti...   \n",
       "21  Industry experience working as a data scientis...   \n",
       "22  Perform large-scale data analysis, find intere...   \n",
       "23  Natural Language Processing Brisbane, CA Sign ...   \n",
       "24  Machine Learning Developer Brisbane, CA Sign o...   \n",
       "25  More data- they simply have more data than the...   \n",
       "26  The Senior Data Scientist position requires a ...   \n",
       "27  Ensures accuracy and completeness of data in m...   \n",
       "28  Teams included Data Services(including data en...   \n",
       "29  Given the high volume of data collected by the...   \n",
       "..                                                ...   \n",
       "70  Ability to interpret CT data as applicable to ...   \n",
       "71  Ability to interpret CT data as applicable to ...   \n",
       "72  Ability to interpret CT data as applicable to ...   \n",
       "73  Ability to interpret CT data as applicable to ...   \n",
       "74  Ability to interpret CT data as applicable to ...   \n",
       "75  Ability to interpret CT data as applicable to ...   \n",
       "76  Ability to interpret CT data as applicable to ...   \n",
       "77  Ability to interpret CT data as applicable to ...   \n",
       "78  Ability to interpret CT data as applicable to ...   \n",
       "79  Ability to interpret CT data as applicable to ...   \n",
       "80  Ability to interpret CT data as applicable to ...   \n",
       "81  Ability to interpret CT data as applicable to ...   \n",
       "82  Ability to interpret CT data as applicable to ...   \n",
       "83  Ability to interpret CT data as applicable to ...   \n",
       "84  Ability to interpret CT data as applicable to ...   \n",
       "85  Ability to interpret CT data as applicable to ...   \n",
       "86  Ability to interpret CT data as applicable to ...   \n",
       "87  Ability to interpret CT data as applicable to ...   \n",
       "88  Ability to interpret CT data as applicable to ...   \n",
       "89  Ability to interpret CT data as applicable to ...   \n",
       "90  Ability to interpret CT data as applicable to ...   \n",
       "91  Ability to interpret CT data as applicable to ...   \n",
       "92  Ability to interpret CT data as applicable to ...   \n",
       "93  Ability to interpret CT data as applicable to ...   \n",
       "94  Ability to interpret CT data as applicable to ...   \n",
       "95  Ability to interpret CT data as applicable to ...   \n",
       "96  Ability to interpret CT data as applicable to ...   \n",
       "97  Ability to interpret CT data as applicable to ...   \n",
       "98  Ability to interpret CT data as applicable to ...   \n",
       "99  Ability to interpret CT data as applicable to ...   \n",
       "\n",
       "                                                title  \n",
       "0                         Senior Level Data Scientist  \n",
       "1                            Mid-Level Data Scientist  \n",
       "2                                      Data Scientist  \n",
       "3                           Full-Stack Data Scientist  \n",
       "4   Business Intelligence/Data Scientist at VC Bay...  \n",
       "5                     Senior Data Scientist (FinTech)  \n",
       "6                             Mid-Level Data Engineer  \n",
       "7                               Senior Data Scientist  \n",
       "8   Administrative Analyst/Specialist, Exempt I - ...  \n",
       "9                       Staff Research Associate, PMB  \n",
       "10                                     Data Scientist  \n",
       "11                                     Data Scientist  \n",
       "12  Lecturer - Statistics - Department of Statisti...  \n",
       "13  Data Analyst II (Department: Research, Assessm...  \n",
       "14                      Senior NLP Scientist/Engineer  \n",
       "15  Post-Doctoral Scholar-Employee: Analysis of om...  \n",
       "16                                      Data Engineer  \n",
       "17               Senior Data Scientist (Econometrics)  \n",
       "18                          Quality Control Scientist  \n",
       "19                               Fraud Data Scientist  \n",
       "20  Quantitative Researcher - Statistical Machine ...  \n",
       "21                 Senior Data Scientist (Healthcare)  \n",
       "22                              Senior Data Scientist  \n",
       "23       Data Scientist (Natural Language Processing)  \n",
       "24                  Data Scientist (Machine Learning)  \n",
       "25                              Senior Data Scientist  \n",
       "26  Senior Data Scientist (Autonomous Vehicle Rese...  \n",
       "27                        Database Administrator, GSE  \n",
       "28                                VP of Data Services  \n",
       "29                Python Developer (Machine Learning)  \n",
       "..                                                ...  \n",
       "70  Research Engineering/ Scientist Associate II -...  \n",
       "71  Research Engineering/ Scientist Associate II -...  \n",
       "72  Research Engineering/ Scientist Associate II -...  \n",
       "73  Research Engineering/ Scientist Associate II -...  \n",
       "74  Research Engineering/ Scientist Associate II -...  \n",
       "75  Research Engineering/ Scientist Associate II -...  \n",
       "76  Research Engineering/ Scientist Associate II -...  \n",
       "77  Research Engineering/ Scientist Associate II -...  \n",
       "78  Research Engineering/ Scientist Associate II -...  \n",
       "79  Research Engineering/ Scientist Associate II -...  \n",
       "80  Research Engineering/ Scientist Associate II -...  \n",
       "81  Research Engineering/ Scientist Associate II -...  \n",
       "82  Research Engineering/ Scientist Associate II -...  \n",
       "83  Research Engineering/ Scientist Associate II -...  \n",
       "84  Research Engineering/ Scientist Associate II -...  \n",
       "85  Research Engineering/ Scientist Associate II -...  \n",
       "86  Research Engineering/ Scientist Associate II -...  \n",
       "87  Research Engineering/ Scientist Associate II -...  \n",
       "88  Research Engineering/ Scientist Associate II -...  \n",
       "89  Research Engineering/ Scientist Associate II -...  \n",
       "90  Research Engineering/ Scientist Associate II -...  \n",
       "91  Research Engineering/ Scientist Associate II -...  \n",
       "92  Research Engineering/ Scientist Associate II -...  \n",
       "93  Research Engineering/ Scientist Associate II -...  \n",
       "94  Research Engineering/ Scientist Associate II -...  \n",
       "95  Research Engineering/ Scientist Associate II -...  \n",
       "96  Research Engineering/ Scientist Associate II -...  \n",
       "97  Research Engineering/ Scientist Associate II -...  \n",
       "98  Research Engineering/ Scientist Associate II -...  \n",
       "99  Research Engineering/ Scientist Associate II -...  \n",
       "\n",
       "[100 rows x 5 columns]"
      ]
     },
     "execution_count": 4,
     "metadata": {},
     "output_type": "execute_result"
    }
   ],
   "source": [
    "\n",
    "sdf.head(100)"
   ]
  },
  {
   "cell_type": "markdown",
   "metadata": {},
   "source": [
    "**Data Dictionary**\n",
    "\n",
    "|city|City where job is located|\n",
    "|company|Company that listed the job|\n",
    "|salary|Salary for the listed job|\n",
    "|summary|Job description|\n",
    "|title|Job title|"
   ]
  },
  {
   "cell_type": "code",
   "execution_count": 5,
   "metadata": {
    "collapsed": false
   },
   "outputs": [
    {
     "name": "stdout",
     "output_type": "stream",
     "text": [
      "MinSal    object\n",
      "MaxSal    object\n",
      "dtype: object\n"
     ]
    },
    {
     "data": {
      "text/html": [
       "<div>\n",
       "<table border=\"1\" class=\"dataframe\">\n",
       "  <thead>\n",
       "    <tr style=\"text-align: right;\">\n",
       "      <th></th>\n",
       "      <th>MinSal</th>\n",
       "      <th>MaxSal</th>\n",
       "    </tr>\n",
       "  </thead>\n",
       "  <tbody>\n",
       "    <tr>\n",
       "      <th>0</th>\n",
       "      <td>$120,000</td>\n",
       "      <td>$165,000 a year</td>\n",
       "    </tr>\n",
       "    <tr>\n",
       "      <th>1</th>\n",
       "      <td>$125,000</td>\n",
       "      <td>$135,000 a year</td>\n",
       "    </tr>\n",
       "    <tr>\n",
       "      <th>2</th>\n",
       "      <td>$180,000 a year</td>\n",
       "      <td>NaN</td>\n",
       "    </tr>\n",
       "    <tr>\n",
       "      <th>3</th>\n",
       "      <td>$80,000</td>\n",
       "      <td>$120,000 a year</td>\n",
       "    </tr>\n",
       "    <tr>\n",
       "      <th>4</th>\n",
       "      <td>$160,000 a year</td>\n",
       "      <td>NaN</td>\n",
       "    </tr>\n",
       "  </tbody>\n",
       "</table>\n",
       "</div>"
      ],
      "text/plain": [
       "            MinSal            MaxSal\n",
       "0        $120,000    $165,000 a year\n",
       "1        $125,000    $135,000 a year\n",
       "2  $180,000 a year               NaN\n",
       "3         $80,000    $120,000 a year\n",
       "4  $160,000 a year               NaN"
      ]
     },
     "execution_count": 5,
     "metadata": {},
     "output_type": "execute_result"
    }
   ],
   "source": [
    "#Splitting salary on '-' so that we no longer have a range of salaries\n",
    "sdf2 = sdf['salary'].apply(lambda x: pd.Series(x.split('-'))) \n",
    "sdf2.columns = ['MinSal','MaxSal']\n",
    "print sdf2.dtypes\n",
    "sdf2.head()\n"
   ]
  },
  {
   "cell_type": "code",
   "execution_count": 6,
   "metadata": {
    "collapsed": false
   },
   "outputs": [
    {
     "data": {
      "text/html": [
       "<div>\n",
       "<table border=\"1\" class=\"dataframe\">\n",
       "  <thead>\n",
       "    <tr style=\"text-align: right;\">\n",
       "      <th></th>\n",
       "      <th>MinSal</th>\n",
       "      <th>MaxSal</th>\n",
       "    </tr>\n",
       "  </thead>\n",
       "  <tbody>\n",
       "    <tr>\n",
       "      <th>0</th>\n",
       "      <td>$120,000</td>\n",
       "      <td>$165,000 a year</td>\n",
       "    </tr>\n",
       "    <tr>\n",
       "      <th>1</th>\n",
       "      <td>$125,000</td>\n",
       "      <td>$135,000 a year</td>\n",
       "    </tr>\n",
       "    <tr>\n",
       "      <th>2</th>\n",
       "      <td>$180,000 a year</td>\n",
       "      <td>$180,000 a year</td>\n",
       "    </tr>\n",
       "    <tr>\n",
       "      <th>3</th>\n",
       "      <td>$80,000</td>\n",
       "      <td>$120,000 a year</td>\n",
       "    </tr>\n",
       "    <tr>\n",
       "      <th>4</th>\n",
       "      <td>$160,000 a year</td>\n",
       "      <td>$160,000 a year</td>\n",
       "    </tr>\n",
       "  </tbody>\n",
       "</table>\n",
       "</div>"
      ],
      "text/plain": [
       "            MinSal            MaxSal\n",
       "0        $120,000    $165,000 a year\n",
       "1        $125,000    $135,000 a year\n",
       "2  $180,000 a year   $180,000 a year\n",
       "3         $80,000    $120,000 a year\n",
       "4  $160,000 a year   $160,000 a year"
      ]
     },
     "execution_count": 6,
     "metadata": {},
     "output_type": "execute_result"
    }
   ],
   "source": [
    "#Filling MaxSal column with value from MinSal if there is a null\n",
    "sdf2['MaxSal'].fillna(sdf2['MinSal'], inplace=True)\n",
    "sdf2.head()\n",
    "\n"
   ]
  },
  {
   "cell_type": "code",
   "execution_count": 7,
   "metadata": {
    "collapsed": false
   },
   "outputs": [
    {
     "name": "stdout",
     "output_type": "stream",
     "text": [
      "(1729, 2)\n"
     ]
    },
    {
     "data": {
      "text/html": [
       "<div>\n",
       "<table border=\"1\" class=\"dataframe\">\n",
       "  <thead>\n",
       "    <tr style=\"text-align: right;\">\n",
       "      <th></th>\n",
       "      <th>MinSal</th>\n",
       "      <th>MaxSal</th>\n",
       "    </tr>\n",
       "  </thead>\n",
       "  <tbody>\n",
       "    <tr>\n",
       "      <th>0</th>\n",
       "      <td>120000</td>\n",
       "      <td>165000</td>\n",
       "    </tr>\n",
       "    <tr>\n",
       "      <th>1</th>\n",
       "      <td>125000</td>\n",
       "      <td>135000</td>\n",
       "    </tr>\n",
       "    <tr>\n",
       "      <th>2</th>\n",
       "      <td>180000</td>\n",
       "      <td>180000</td>\n",
       "    </tr>\n",
       "    <tr>\n",
       "      <th>3</th>\n",
       "      <td>80000</td>\n",
       "      <td>120000</td>\n",
       "    </tr>\n",
       "    <tr>\n",
       "      <th>4</th>\n",
       "      <td>160000</td>\n",
       "      <td>160000</td>\n",
       "    </tr>\n",
       "  </tbody>\n",
       "</table>\n",
       "</div>"
      ],
      "text/plain": [
       "    MinSal    MaxSal\n",
       "0  120000    165000 \n",
       "1  125000    135000 \n",
       "2  180000    180000 \n",
       "3   80000    120000 \n",
       "4  160000    160000 "
      ]
     },
     "execution_count": 7,
     "metadata": {},
     "output_type": "execute_result"
    }
   ],
   "source": [
    "#Cleaning extra string from salary columns in dataframe\n",
    "sdf2['MinSal'] = sdf2['MinSal'].astype(str)\n",
    "sdf2['MaxSal'] = sdf2['MaxSal'].astype(str)\n",
    "\n",
    "\n",
    "sdf2['MinSal'] = sdf2['MinSal'].str.replace(\",\",\"\")    \n",
    "sdf2['MinSal'] = sdf2['MinSal'].str.replace(\"$\",\"\")\n",
    "sdf2['MinSal'] = sdf2['MinSal'].str.replace(\"a year\",\"\")\n",
    "sdf2['MinSal'] = sdf2['MinSal'].str.replace(\"a month\",\"\")\n",
    "sdf2['MinSal'] = sdf2['MinSal'].str.replace(\"a day\",\"\")\n",
    "sdf2['MinSal'] = sdf2['MinSal'].str.replace(\"a week\",\"\")\n",
    "\n",
    "\n",
    "sdf2['MaxSal'] = sdf2['MaxSal'].str.replace(\",\",\"\")\n",
    "sdf2['MaxSal'] = sdf2['MaxSal'].str.replace(\"$\",\"\")\n",
    "sdf2['MaxSal'] = sdf2['MaxSal'].str.replace(\"a year\",\"\")\n",
    "sdf2['MaxSal'] = sdf2['MaxSal'].str.replace(\"a month\",\"\")\n",
    "sdf2['MaxSal'] = sdf2['MaxSal'].str.replace(\"a day\",\"\")\n",
    "sdf2['MaxSal'] = sdf2['MaxSal'].str.replace(\"a week\",\"\")\n",
    "\n",
    "\n",
    "print sdf2.shape\n",
    "\n",
    "sdf2.head()"
   ]
  },
  {
   "cell_type": "code",
   "execution_count": 8,
   "metadata": {
    "collapsed": false
   },
   "outputs": [
    {
     "data": {
      "text/plain": [
       "(1729, 7)"
      ]
     },
     "execution_count": 8,
     "metadata": {},
     "output_type": "execute_result"
    }
   ],
   "source": [
    "sdf3 = sdf.join(sdf2)\n",
    "sdf3.shape"
   ]
  },
  {
   "cell_type": "code",
   "execution_count": 9,
   "metadata": {
    "collapsed": false
   },
   "outputs": [
    {
     "data": {
      "text/html": [
       "<div>\n",
       "<table border=\"1\" class=\"dataframe\">\n",
       "  <thead>\n",
       "    <tr style=\"text-align: right;\">\n",
       "      <th></th>\n",
       "      <th>city</th>\n",
       "      <th>company</th>\n",
       "      <th>salary</th>\n",
       "      <th>summary</th>\n",
       "      <th>title</th>\n",
       "      <th>MinSal</th>\n",
       "      <th>MaxSal</th>\n",
       "    </tr>\n",
       "  </thead>\n",
       "  <tbody>\n",
       "    <tr>\n",
       "      <th>0</th>\n",
       "      <td>San+Francisco</td>\n",
       "      <td>Workbridge Associates</td>\n",
       "      <td>$120,000 - $165,000 a year</td>\n",
       "      <td>Familiarity with data visualization, web analy...</td>\n",
       "      <td>Senior Level Data Scientist</td>\n",
       "      <td>120000</td>\n",
       "      <td>165000</td>\n",
       "    </tr>\n",
       "    <tr>\n",
       "      <th>1</th>\n",
       "      <td>San+Francisco</td>\n",
       "      <td>Workbridge Associates</td>\n",
       "      <td>$125,000 - $135,000 a year</td>\n",
       "      <td>Experience with big data stack technologies, s...</td>\n",
       "      <td>Mid-Level Data Scientist</td>\n",
       "      <td>125000</td>\n",
       "      <td>135000</td>\n",
       "    </tr>\n",
       "    <tr>\n",
       "      <th>2</th>\n",
       "      <td>San+Francisco</td>\n",
       "      <td>MarkMonitor</td>\n",
       "      <td>$180,000 a year</td>\n",
       "      <td>Data skills (SQL, Hive, Pig). Applying machine...</td>\n",
       "      <td>Data Scientist</td>\n",
       "      <td>180000</td>\n",
       "      <td>180000</td>\n",
       "    </tr>\n",
       "    <tr>\n",
       "      <th>3</th>\n",
       "      <td>San+Francisco</td>\n",
       "      <td>Mines.io</td>\n",
       "      <td>$80,000 - $120,000 a year</td>\n",
       "      <td>We are looking for a data scientist/developer ...</td>\n",
       "      <td>Full-Stack Data Scientist</td>\n",
       "      <td>80000</td>\n",
       "      <td>120000</td>\n",
       "    </tr>\n",
       "    <tr>\n",
       "      <th>4</th>\n",
       "      <td>San+Francisco</td>\n",
       "      <td>Selby Jennings</td>\n",
       "      <td>$160,000 a year</td>\n",
       "      <td>Integrate data and control APIs utilzing 3rd p...</td>\n",
       "      <td>Business Intelligence/Data Scientist at VC Bay...</td>\n",
       "      <td>160000</td>\n",
       "      <td>160000</td>\n",
       "    </tr>\n",
       "  </tbody>\n",
       "</table>\n",
       "</div>"
      ],
      "text/plain": [
       "            city                company                      salary  \\\n",
       "0  San+Francisco  Workbridge Associates  $120,000 - $165,000 a year   \n",
       "1  San+Francisco  Workbridge Associates  $125,000 - $135,000 a year   \n",
       "2  San+Francisco            MarkMonitor             $180,000 a year   \n",
       "3  San+Francisco               Mines.io   $80,000 - $120,000 a year   \n",
       "4  San+Francisco         Selby Jennings             $160,000 a year   \n",
       "\n",
       "                                             summary  \\\n",
       "0  Familiarity with data visualization, web analy...   \n",
       "1  Experience with big data stack technologies, s...   \n",
       "2  Data skills (SQL, Hive, Pig). Applying machine...   \n",
       "3  We are looking for a data scientist/developer ...   \n",
       "4  Integrate data and control APIs utilzing 3rd p...   \n",
       "\n",
       "                                               title   MinSal    MaxSal  \n",
       "0                        Senior Level Data Scientist  120000    165000   \n",
       "1                           Mid-Level Data Scientist  125000    135000   \n",
       "2                                     Data Scientist  180000    180000   \n",
       "3                          Full-Stack Data Scientist   80000    120000   \n",
       "4  Business Intelligence/Data Scientist at VC Bay...  160000    160000   "
      ]
     },
     "execution_count": 9,
     "metadata": {},
     "output_type": "execute_result"
    }
   ],
   "source": [
    "sdf3.head()"
   ]
  },
  {
   "cell_type": "code",
   "execution_count": 10,
   "metadata": {
    "collapsed": false,
    "focus": false,
    "id": "58533e57-f86b-494a-b841-e7b59c6229c6",
    "scrolled": true
   },
   "outputs": [
    {
     "name": "stdout",
     "output_type": "stream",
     "text": [
      "(884, 5)\n"
     ]
    },
    {
     "data": {
      "text/html": [
       "<div>\n",
       "<table border=\"1\" class=\"dataframe\">\n",
       "  <thead>\n",
       "    <tr style=\"text-align: right;\">\n",
       "      <th></th>\n",
       "      <th>city</th>\n",
       "      <th>company</th>\n",
       "      <th>summary</th>\n",
       "      <th>title</th>\n",
       "      <th>AvgSal</th>\n",
       "    </tr>\n",
       "  </thead>\n",
       "  <tbody>\n",
       "    <tr>\n",
       "      <th>0</th>\n",
       "      <td>San Francisco</td>\n",
       "      <td>Workbridge Associates</td>\n",
       "      <td>Familiarity with data visualization, web analy...</td>\n",
       "      <td>Senior Level Data Scientist</td>\n",
       "      <td>142500.0</td>\n",
       "    </tr>\n",
       "    <tr>\n",
       "      <th>1</th>\n",
       "      <td>San Francisco</td>\n",
       "      <td>Workbridge Associates</td>\n",
       "      <td>Experience with big data stack technologies, s...</td>\n",
       "      <td>Mid-Level Data Scientist</td>\n",
       "      <td>130000.0</td>\n",
       "    </tr>\n",
       "    <tr>\n",
       "      <th>2</th>\n",
       "      <td>San Francisco</td>\n",
       "      <td>MarkMonitor</td>\n",
       "      <td>Data skills (SQL, Hive, Pig). Applying machine...</td>\n",
       "      <td>Data Scientist</td>\n",
       "      <td>180000.0</td>\n",
       "    </tr>\n",
       "    <tr>\n",
       "      <th>3</th>\n",
       "      <td>San Francisco</td>\n",
       "      <td>Mines.io</td>\n",
       "      <td>We are looking for a data scientist/developer ...</td>\n",
       "      <td>Full-Stack Data Scientist</td>\n",
       "      <td>100000.0</td>\n",
       "    </tr>\n",
       "    <tr>\n",
       "      <th>4</th>\n",
       "      <td>San Francisco</td>\n",
       "      <td>Selby Jennings</td>\n",
       "      <td>Integrate data and control APIs utilzing 3rd p...</td>\n",
       "      <td>Business Intelligence/Data Scientist at VC Bay...</td>\n",
       "      <td>160000.0</td>\n",
       "    </tr>\n",
       "  </tbody>\n",
       "</table>\n",
       "</div>"
      ],
      "text/plain": [
       "            city                company  \\\n",
       "0  San Francisco  Workbridge Associates   \n",
       "1  San Francisco  Workbridge Associates   \n",
       "2  San Francisco            MarkMonitor   \n",
       "3  San Francisco               Mines.io   \n",
       "4  San Francisco         Selby Jennings   \n",
       "\n",
       "                                             summary  \\\n",
       "0  Familiarity with data visualization, web analy...   \n",
       "1  Experience with big data stack technologies, s...   \n",
       "2  Data skills (SQL, Hive, Pig). Applying machine...   \n",
       "3  We are looking for a data scientist/developer ...   \n",
       "4  Integrate data and control APIs utilzing 3rd p...   \n",
       "\n",
       "                                               title    AvgSal  \n",
       "0                        Senior Level Data Scientist  142500.0  \n",
       "1                           Mid-Level Data Scientist  130000.0  \n",
       "2                                     Data Scientist  180000.0  \n",
       "3                          Full-Stack Data Scientist  100000.0  \n",
       "4  Business Intelligence/Data Scientist at VC Bay...  160000.0  "
      ]
     },
     "execution_count": 10,
     "metadata": {},
     "output_type": "execute_result"
    }
   ],
   "source": [
    "#Converting to int so that we can average columns and no longer have a range\n",
    "sdf3['MinSal'] = sdf3['MinSal'].astype(int)\n",
    "sdf3['MaxSal'] = sdf3['MaxSal'].astype(int)\n",
    "\n",
    "\n",
    "\n",
    "sdf3[\"AvgSal\"] = sdf3[[\"MinSal\", \"MaxSal\"]].mean(axis=1)\n",
    "\n",
    "sdf3 = sdf3[sdf3['AvgSal'] >= 30000] #getting rid of data where salary was in terms of weeks, days, months, or \n",
    "                                        #we don't care about cause it is too low.\n",
    "\n",
    "sdf3.drop(['salary','MinSal','MaxSal'], axis=1 ,inplace=True)\n",
    "\n",
    "sdf3['city'] = sdf3['city'].str.replace(\"+\", \" \")\n",
    "\n",
    "\n",
    "print sdf3.shape\n",
    "sdf3.head()\n"
   ]
  },
  {
   "cell_type": "code",
   "execution_count": 49,
   "metadata": {
    "collapsed": false
   },
   "outputs": [
    {
     "data": {
      "text/plain": [
       "(185, 7)"
      ]
     },
     "execution_count": 49,
     "metadata": {},
     "output_type": "execute_result"
    }
   ],
   "source": [
    "sdf3.drop_duplicates(keep='first', inplace=True)\n",
    "sdf3.shape"
   ]
  },
  {
   "cell_type": "code",
   "execution_count": 50,
   "metadata": {
    "collapsed": false
   },
   "outputs": [],
   "source": [
    "#Separating salaries into bins, then labeling according to the bin the salary falls in \n",
    "bins = [0.0, 70000.0, 500000.0]\n",
    "groupNames = ['Low','High']\n",
    "category = pd.cut(sdf3['AvgSal'], bins, labels=groupNames)\n"
   ]
  },
  {
   "cell_type": "code",
   "execution_count": 51,
   "metadata": {
    "collapsed": false
   },
   "outputs": [],
   "source": [
    "sdf3['salCategory'] = category\n",
    "sdf3.to_csv('../Assets/Project4/TableauData.csv')"
   ]
  },
  {
   "cell_type": "code",
   "execution_count": 52,
   "metadata": {
    "collapsed": false
   },
   "outputs": [
    {
     "data": {
      "text/html": [
       "<div>\n",
       "<table border=\"1\" class=\"dataframe\">\n",
       "  <thead>\n",
       "    <tr style=\"text-align: right;\">\n",
       "      <th></th>\n",
       "      <th>city</th>\n",
       "      <th>company</th>\n",
       "      <th>summary</th>\n",
       "      <th>title</th>\n",
       "      <th>AvgSal</th>\n",
       "      <th>salCategory</th>\n",
       "      <th>Salary</th>\n",
       "    </tr>\n",
       "  </thead>\n",
       "  <tbody>\n",
       "    <tr>\n",
       "      <th>0</th>\n",
       "      <td>San Francisco</td>\n",
       "      <td>Workbridge Associates</td>\n",
       "      <td>Familiarity with data visualization, web analy...</td>\n",
       "      <td>Senior Level Data Scientist</td>\n",
       "      <td>142500.0</td>\n",
       "      <td>High</td>\n",
       "      <td>1</td>\n",
       "    </tr>\n",
       "    <tr>\n",
       "      <th>1</th>\n",
       "      <td>San Francisco</td>\n",
       "      <td>Workbridge Associates</td>\n",
       "      <td>Experience with big data stack technologies, s...</td>\n",
       "      <td>Mid-Level Data Scientist</td>\n",
       "      <td>130000.0</td>\n",
       "      <td>High</td>\n",
       "      <td>1</td>\n",
       "    </tr>\n",
       "    <tr>\n",
       "      <th>2</th>\n",
       "      <td>San Francisco</td>\n",
       "      <td>MarkMonitor</td>\n",
       "      <td>Data skills (SQL, Hive, Pig). Applying machine...</td>\n",
       "      <td>Data Scientist</td>\n",
       "      <td>180000.0</td>\n",
       "      <td>High</td>\n",
       "      <td>1</td>\n",
       "    </tr>\n",
       "    <tr>\n",
       "      <th>3</th>\n",
       "      <td>San Francisco</td>\n",
       "      <td>Mines.io</td>\n",
       "      <td>We are looking for a data scientist/developer ...</td>\n",
       "      <td>Full-Stack Data Scientist</td>\n",
       "      <td>100000.0</td>\n",
       "      <td>High</td>\n",
       "      <td>1</td>\n",
       "    </tr>\n",
       "    <tr>\n",
       "      <th>4</th>\n",
       "      <td>San Francisco</td>\n",
       "      <td>Selby Jennings</td>\n",
       "      <td>Integrate data and control APIs utilzing 3rd p...</td>\n",
       "      <td>Business Intelligence/Data Scientist at VC Bay...</td>\n",
       "      <td>160000.0</td>\n",
       "      <td>High</td>\n",
       "      <td>1</td>\n",
       "    </tr>\n",
       "  </tbody>\n",
       "</table>\n",
       "</div>"
      ],
      "text/plain": [
       "            city                company  \\\n",
       "0  San Francisco  Workbridge Associates   \n",
       "1  San Francisco  Workbridge Associates   \n",
       "2  San Francisco            MarkMonitor   \n",
       "3  San Francisco               Mines.io   \n",
       "4  San Francisco         Selby Jennings   \n",
       "\n",
       "                                             summary  \\\n",
       "0  Familiarity with data visualization, web analy...   \n",
       "1  Experience with big data stack technologies, s...   \n",
       "2  Data skills (SQL, Hive, Pig). Applying machine...   \n",
       "3  We are looking for a data scientist/developer ...   \n",
       "4  Integrate data and control APIs utilzing 3rd p...   \n",
       "\n",
       "                                               title    AvgSal salCategory  \\\n",
       "0                        Senior Level Data Scientist  142500.0        High   \n",
       "1                           Mid-Level Data Scientist  130000.0        High   \n",
       "2                                     Data Scientist  180000.0        High   \n",
       "3                          Full-Stack Data Scientist  100000.0        High   \n",
       "4  Business Intelligence/Data Scientist at VC Bay...  160000.0        High   \n",
       "\n",
       "   Salary  \n",
       "0       1  \n",
       "1       1  \n",
       "2       1  \n",
       "3       1  \n",
       "4       1  "
      ]
     },
     "execution_count": 52,
     "metadata": {},
     "output_type": "execute_result"
    }
   ],
   "source": [
    "#Making dummy variables for salary from High/Low bins\n",
    "sdf3['Salary'] = sdf3['salCategory'].map({'Low': 0, 'High':1})\n",
    "sdf3.head()"
   ]
  },
  {
   "cell_type": "code",
   "execution_count": 53,
   "metadata": {
    "collapsed": false
   },
   "outputs": [
    {
     "data": {
      "text/plain": [
       "(185, 5)"
      ]
     },
     "execution_count": 53,
     "metadata": {},
     "output_type": "execute_result"
    }
   ],
   "source": [
    "#making dummy ranks for the 5 cities examined\n",
    "dummy_ranks = pd.get_dummies(sdf3['city'])\n",
    "dummy_ranks.shape"
   ]
  },
  {
   "cell_type": "code",
   "execution_count": 54,
   "metadata": {
    "collapsed": false
   },
   "outputs": [],
   "source": [
    "\n",
    "data = sdf3[['Salary']].join(dummy_ranks)\n"
   ]
  },
  {
   "cell_type": "code",
   "execution_count": 55,
   "metadata": {
    "collapsed": false
   },
   "outputs": [
    {
     "data": {
      "text/html": [
       "<div>\n",
       "<table border=\"1\" class=\"dataframe\">\n",
       "  <thead>\n",
       "    <tr style=\"text-align: right;\">\n",
       "      <th></th>\n",
       "      <th>Salary</th>\n",
       "      <th>Austin</th>\n",
       "      <th>Chicago</th>\n",
       "      <th>New York</th>\n",
       "      <th>San Francisco</th>\n",
       "      <th>Seattle</th>\n",
       "    </tr>\n",
       "  </thead>\n",
       "  <tbody>\n",
       "    <tr>\n",
       "      <th>0</th>\n",
       "      <td>1</td>\n",
       "      <td>0.0</td>\n",
       "      <td>0.0</td>\n",
       "      <td>0.0</td>\n",
       "      <td>1.0</td>\n",
       "      <td>0.0</td>\n",
       "    </tr>\n",
       "    <tr>\n",
       "      <th>1</th>\n",
       "      <td>1</td>\n",
       "      <td>0.0</td>\n",
       "      <td>0.0</td>\n",
       "      <td>0.0</td>\n",
       "      <td>1.0</td>\n",
       "      <td>0.0</td>\n",
       "    </tr>\n",
       "    <tr>\n",
       "      <th>2</th>\n",
       "      <td>1</td>\n",
       "      <td>0.0</td>\n",
       "      <td>0.0</td>\n",
       "      <td>0.0</td>\n",
       "      <td>1.0</td>\n",
       "      <td>0.0</td>\n",
       "    </tr>\n",
       "    <tr>\n",
       "      <th>3</th>\n",
       "      <td>1</td>\n",
       "      <td>0.0</td>\n",
       "      <td>0.0</td>\n",
       "      <td>0.0</td>\n",
       "      <td>1.0</td>\n",
       "      <td>0.0</td>\n",
       "    </tr>\n",
       "    <tr>\n",
       "      <th>4</th>\n",
       "      <td>1</td>\n",
       "      <td>0.0</td>\n",
       "      <td>0.0</td>\n",
       "      <td>0.0</td>\n",
       "      <td>1.0</td>\n",
       "      <td>0.0</td>\n",
       "    </tr>\n",
       "  </tbody>\n",
       "</table>\n",
       "</div>"
      ],
      "text/plain": [
       "   Salary  Austin  Chicago  New York  San Francisco  Seattle\n",
       "0       1     0.0      0.0       0.0            1.0      0.0\n",
       "1       1     0.0      0.0       0.0            1.0      0.0\n",
       "2       1     0.0      0.0       0.0            1.0      0.0\n",
       "3       1     0.0      0.0       0.0            1.0      0.0\n",
       "4       1     0.0      0.0       0.0            1.0      0.0"
      ]
     },
     "execution_count": 55,
     "metadata": {},
     "output_type": "execute_result"
    }
   ],
   "source": [
    "data.head()"
   ]
  },
  {
   "cell_type": "code",
   "execution_count": 56,
   "metadata": {
    "collapsed": true,
    "focus": false,
    "id": "783fd153-28ac-47ab-bfca-27e7c1de95b4"
   },
   "outputs": [],
   "source": [
    "data.to_csv('../Assets/Project4/FinalData.csv', encoding='utf-8',index=False)"
   ]
  },
  {
   "cell_type": "code",
   "execution_count": 57,
   "metadata": {
    "collapsed": false,
    "focus": false,
    "id": "588f9845-6143-4bcc-bfd1-85d45b79303d"
   },
   "outputs": [
    {
     "data": {
      "text/html": [
       "<div>\n",
       "<table border=\"1\" class=\"dataframe\">\n",
       "  <thead>\n",
       "    <tr style=\"text-align: right;\">\n",
       "      <th></th>\n",
       "      <th>Salary</th>\n",
       "      <th>Austin</th>\n",
       "      <th>Chicago</th>\n",
       "      <th>New York</th>\n",
       "      <th>San Francisco</th>\n",
       "      <th>Seattle</th>\n",
       "      <th>Intercept</th>\n",
       "    </tr>\n",
       "  </thead>\n",
       "  <tbody>\n",
       "    <tr>\n",
       "      <th>0</th>\n",
       "      <td>1</td>\n",
       "      <td>0.0</td>\n",
       "      <td>0.0</td>\n",
       "      <td>0.0</td>\n",
       "      <td>1.0</td>\n",
       "      <td>0.0</td>\n",
       "      <td>1</td>\n",
       "    </tr>\n",
       "    <tr>\n",
       "      <th>1</th>\n",
       "      <td>1</td>\n",
       "      <td>0.0</td>\n",
       "      <td>0.0</td>\n",
       "      <td>0.0</td>\n",
       "      <td>1.0</td>\n",
       "      <td>0.0</td>\n",
       "      <td>1</td>\n",
       "    </tr>\n",
       "    <tr>\n",
       "      <th>2</th>\n",
       "      <td>1</td>\n",
       "      <td>0.0</td>\n",
       "      <td>0.0</td>\n",
       "      <td>0.0</td>\n",
       "      <td>1.0</td>\n",
       "      <td>0.0</td>\n",
       "      <td>1</td>\n",
       "    </tr>\n",
       "    <tr>\n",
       "      <th>3</th>\n",
       "      <td>1</td>\n",
       "      <td>0.0</td>\n",
       "      <td>0.0</td>\n",
       "      <td>0.0</td>\n",
       "      <td>1.0</td>\n",
       "      <td>0.0</td>\n",
       "      <td>1</td>\n",
       "    </tr>\n",
       "    <tr>\n",
       "      <th>4</th>\n",
       "      <td>1</td>\n",
       "      <td>0.0</td>\n",
       "      <td>0.0</td>\n",
       "      <td>0.0</td>\n",
       "      <td>1.0</td>\n",
       "      <td>0.0</td>\n",
       "      <td>1</td>\n",
       "    </tr>\n",
       "  </tbody>\n",
       "</table>\n",
       "</div>"
      ],
      "text/plain": [
       "   Salary  Austin  Chicago  New York  San Francisco  Seattle  Intercept\n",
       "0       1     0.0      0.0       0.0            1.0      0.0          1\n",
       "1       1     0.0      0.0       0.0            1.0      0.0          1\n",
       "2       1     0.0      0.0       0.0            1.0      0.0          1\n",
       "3       1     0.0      0.0       0.0            1.0      0.0          1\n",
       "4       1     0.0      0.0       0.0            1.0      0.0          1"
      ]
     },
     "execution_count": 57,
     "metadata": {},
     "output_type": "execute_result"
    }
   ],
   "source": [
    "#reading in as new dataframe and adding a column so that we can see the intercept of the logistic regression line\n",
    "Fdata = pd.read_csv('../Assets/Project4/FinalData.csv')\n",
    "Fdata['Intercept'] = 1\n",
    "Fdata.head()"
   ]
  },
  {
   "cell_type": "code",
   "execution_count": 58,
   "metadata": {
    "collapsed": false,
    "focus": false,
    "id": "ddbc6159-6854-4ca7-857f-bfecdaf6d9c2"
   },
   "outputs": [],
   "source": [
    "import statsmodels.api as sm\n",
    "import pylab as pl\n",
    "import numpy as np\n",
    "from sklearn.cross_validation import train_test_split\n",
    "import seaborn as sns\n",
    "from sklearn.metrics import accuracy_score\n",
    "from sklearn.metrics import precision_score\n",
    "from sklearn.metrics import recall_score\n"
   ]
  },
  {
   "cell_type": "code",
   "execution_count": 59,
   "metadata": {
    "collapsed": false
   },
   "outputs": [
    {
     "name": "stdout",
     "output_type": "stream",
     "text": [
      "city   Austin  Chicago  New York  San Francisco  Seattle\n",
      "HiLow                                                   \n",
      "0           3        2        22              4        3\n",
      "1           5       30        66             33       17\n"
     ]
    }
   ],
   "source": [
    "print pd.crosstab(sdf3['Salary'], sdf3['city'], rownames=['HiLow'])"
   ]
  },
  {
   "cell_type": "markdown",
   "metadata": {},
   "source": [
    "This crosstab of the salaries converted to either a High(1) or Low(0) values for each city. High indicates that a job has a salary of over 100,000 dollars annually, whereas Low indicates that the job pays less than 100,000 dollars annually.\n",
    "We can clearly see that New York has the most overall jobs with salaries from our sample, and the most low and high paying jobs. San Francisco has the best ratio of high to low paying jobs and Austin has the fewest jobs in either category. "
   ]
  },
  {
   "cell_type": "code",
   "execution_count": 60,
   "metadata": {
    "collapsed": false
   },
   "outputs": [
    {
     "name": "stdout",
     "output_type": "stream",
     "text": [
      "(185, 5)\n",
      "(185,)\n"
     ]
    }
   ],
   "source": [
    "\n",
    "FdataColumns = Fdata.columns\n",
    "\n",
    "y = Fdata.Salary\n",
    "X = Fdata[FdataColumns[2:]]\n",
    "print X.shape\n",
    "print y.shape\n",
    "#Fdata.head()\n"
   ]
  },
  {
   "cell_type": "code",
   "execution_count": 61,
   "metadata": {
    "collapsed": false
   },
   "outputs": [
    {
     "data": {
      "text/html": [
       "<div>\n",
       "<table border=\"1\" class=\"dataframe\">\n",
       "  <thead>\n",
       "    <tr style=\"text-align: right;\">\n",
       "      <th></th>\n",
       "      <th>Salary</th>\n",
       "      <th>Austin</th>\n",
       "      <th>Chicago</th>\n",
       "      <th>New York</th>\n",
       "      <th>San Francisco</th>\n",
       "      <th>Seattle</th>\n",
       "      <th>Intercept</th>\n",
       "    </tr>\n",
       "  </thead>\n",
       "  <tbody>\n",
       "    <tr>\n",
       "      <th>Salary</th>\n",
       "      <td>1.000000</td>\n",
       "      <td>-0.104961</td>\n",
       "      <td>0.143211</td>\n",
       "      <td>-0.162841</td>\n",
       "      <td>0.097694</td>\n",
       "      <td>0.030369</td>\n",
       "      <td>NaN</td>\n",
       "    </tr>\n",
       "    <tr>\n",
       "      <th>Austin</th>\n",
       "      <td>-0.104961</td>\n",
       "      <td>1.000000</td>\n",
       "      <td>-0.097227</td>\n",
       "      <td>-0.202495</td>\n",
       "      <td>-0.106299</td>\n",
       "      <td>-0.074017</td>\n",
       "      <td>NaN</td>\n",
       "    </tr>\n",
       "    <tr>\n",
       "      <th>Chicago</th>\n",
       "      <td>0.143211</td>\n",
       "      <td>-0.097227</td>\n",
       "      <td>1.000000</td>\n",
       "      <td>-0.435597</td>\n",
       "      <td>-0.228665</td>\n",
       "      <td>-0.159222</td>\n",
       "      <td>NaN</td>\n",
       "    </tr>\n",
       "    <tr>\n",
       "      <th>New York</th>\n",
       "      <td>-0.162841</td>\n",
       "      <td>-0.202495</td>\n",
       "      <td>-0.435597</td>\n",
       "      <td>1.000000</td>\n",
       "      <td>-0.476240</td>\n",
       "      <td>-0.331611</td>\n",
       "      <td>NaN</td>\n",
       "    </tr>\n",
       "    <tr>\n",
       "      <th>San Francisco</th>\n",
       "      <td>0.097694</td>\n",
       "      <td>-0.106299</td>\n",
       "      <td>-0.228665</td>\n",
       "      <td>-0.476240</td>\n",
       "      <td>1.000000</td>\n",
       "      <td>-0.174078</td>\n",
       "      <td>NaN</td>\n",
       "    </tr>\n",
       "    <tr>\n",
       "      <th>Seattle</th>\n",
       "      <td>0.030369</td>\n",
       "      <td>-0.074017</td>\n",
       "      <td>-0.159222</td>\n",
       "      <td>-0.331611</td>\n",
       "      <td>-0.174078</td>\n",
       "      <td>1.000000</td>\n",
       "      <td>NaN</td>\n",
       "    </tr>\n",
       "    <tr>\n",
       "      <th>Intercept</th>\n",
       "      <td>NaN</td>\n",
       "      <td>NaN</td>\n",
       "      <td>NaN</td>\n",
       "      <td>NaN</td>\n",
       "      <td>NaN</td>\n",
       "      <td>NaN</td>\n",
       "      <td>NaN</td>\n",
       "    </tr>\n",
       "  </tbody>\n",
       "</table>\n",
       "</div>"
      ],
      "text/plain": [
       "                 Salary    Austin   Chicago  New York  San Francisco  \\\n",
       "Salary         1.000000 -0.104961  0.143211 -0.162841       0.097694   \n",
       "Austin        -0.104961  1.000000 -0.097227 -0.202495      -0.106299   \n",
       "Chicago        0.143211 -0.097227  1.000000 -0.435597      -0.228665   \n",
       "New York      -0.162841 -0.202495 -0.435597  1.000000      -0.476240   \n",
       "San Francisco  0.097694 -0.106299 -0.228665 -0.476240       1.000000   \n",
       "Seattle        0.030369 -0.074017 -0.159222 -0.331611      -0.174078   \n",
       "Intercept           NaN       NaN       NaN       NaN            NaN   \n",
       "\n",
       "                Seattle  Intercept  \n",
       "Salary         0.030369        NaN  \n",
       "Austin        -0.074017        NaN  \n",
       "Chicago       -0.159222        NaN  \n",
       "New York      -0.331611        NaN  \n",
       "San Francisco -0.174078        NaN  \n",
       "Seattle        1.000000        NaN  \n",
       "Intercept           NaN        NaN  "
      ]
     },
     "execution_count": 61,
     "metadata": {},
     "output_type": "execute_result"
    }
   ],
   "source": [
    "Fdata.corr()"
   ]
  },
  {
   "cell_type": "code",
   "execution_count": 62,
   "metadata": {
    "collapsed": true
   },
   "outputs": [],
   "source": [
    "#Using train, test, split to split the data into a test sample of 30% and a train sample of 70%\n",
    "X_train, X_test, y_train, y_test = train_test_split(X, y, test_size=0.30, random_state=20)"
   ]
  },
  {
   "cell_type": "code",
   "execution_count": 63,
   "metadata": {
    "collapsed": false,
    "focus": false,
    "id": "068dc1cf-7fd7-4f27-a1f1-7f0a5a221d29"
   },
   "outputs": [
    {
     "name": "stdout",
     "output_type": "stream",
     "text": [
      "Optimization terminated successfully.\n",
      "         Current function value: 0.443619\n",
      "         Iterations 6\n"
     ]
    },
    {
     "data": {
      "text/html": [
       "<table class=\"simpletable\">\n",
       "<caption>Logit Regression Results</caption>\n",
       "<tr>\n",
       "  <th>Dep. Variable:</th>      <td>Salary</td>      <th>  No. Observations:  </th>  <td>   129</td> \n",
       "</tr>\n",
       "<tr>\n",
       "  <th>Model:</th>               <td>Logit</td>      <th>  Df Residuals:      </th>  <td>   124</td> \n",
       "</tr>\n",
       "<tr>\n",
       "  <th>Method:</th>               <td>MLE</td>       <th>  Df Model:          </th>  <td>     4</td> \n",
       "</tr>\n",
       "<tr>\n",
       "  <th>Date:</th>          <td>Fri, 01 Jul 2016</td> <th>  Pseudo R-squ.:     </th>  <td>0.05371</td>\n",
       "</tr>\n",
       "<tr>\n",
       "  <th>Time:</th>              <td>07:50:57</td>     <th>  Log-Likelihood:    </th> <td> -57.227</td>\n",
       "</tr>\n",
       "<tr>\n",
       "  <th>converged:</th>           <td>True</td>       <th>  LL-Null:           </th> <td> -60.475</td>\n",
       "</tr>\n",
       "<tr>\n",
       "  <th> </th>                      <td> </td>        <th>  LLR p-value:       </th>  <td>0.1650</td> \n",
       "</tr>\n",
       "</table>\n",
       "<table class=\"simpletable\">\n",
       "<tr>\n",
       "        <td></td>           <th>coef</th>     <th>std err</th>      <th>z</th>      <th>P>|z|</th> <th>[95.0% Conf. Int.]</th> \n",
       "</tr>\n",
       "<tr>\n",
       "  <th>Chicago</th>       <td>    2.0149</td> <td>    1.065</td> <td>    1.893</td> <td> 0.058</td> <td>   -0.072     4.101</td>\n",
       "</tr>\n",
       "<tr>\n",
       "  <th>New York</th>      <td>    0.9234</td> <td>    0.822</td> <td>    1.123</td> <td> 0.261</td> <td>   -0.688     2.535</td>\n",
       "</tr>\n",
       "<tr>\n",
       "  <th>San Francisco</th> <td>    1.8326</td> <td>    0.978</td> <td>    1.874</td> <td> 0.061</td> <td>   -0.084     3.750</td>\n",
       "</tr>\n",
       "<tr>\n",
       "  <th>Seattle</th>       <td>    2.0149</td> <td>    1.297</td> <td>    1.553</td> <td> 0.120</td> <td>   -0.528     4.558</td>\n",
       "</tr>\n",
       "<tr>\n",
       "  <th>Intercept</th>     <td>    0.2877</td> <td>    0.764</td> <td>    0.377</td> <td> 0.706</td> <td>   -1.209     1.785</td>\n",
       "</tr>\n",
       "</table>"
      ],
      "text/plain": [
       "<class 'statsmodels.iolib.summary.Summary'>\n",
       "\"\"\"\n",
       "                           Logit Regression Results                           \n",
       "==============================================================================\n",
       "Dep. Variable:                 Salary   No. Observations:                  129\n",
       "Model:                          Logit   Df Residuals:                      124\n",
       "Method:                           MLE   Df Model:                            4\n",
       "Date:                Fri, 01 Jul 2016   Pseudo R-squ.:                 0.05371\n",
       "Time:                        07:50:57   Log-Likelihood:                -57.227\n",
       "converged:                       True   LL-Null:                       -60.475\n",
       "                                        LLR p-value:                    0.1650\n",
       "=================================================================================\n",
       "                    coef    std err          z      P>|z|      [95.0% Conf. Int.]\n",
       "---------------------------------------------------------------------------------\n",
       "Chicago           2.0149      1.065      1.893      0.058        -0.072     4.101\n",
       "New York          0.9234      0.822      1.123      0.261        -0.688     2.535\n",
       "San Francisco     1.8326      0.978      1.874      0.061        -0.084     3.750\n",
       "Seattle           2.0149      1.297      1.553      0.120        -0.528     4.558\n",
       "Intercept         0.2877      0.764      0.377      0.706        -1.209     1.785\n",
       "=================================================================================\n",
       "\"\"\""
      ]
     },
     "execution_count": 63,
     "metadata": {},
     "output_type": "execute_result"
    }
   ],
   "source": [
    "#logistic regression model\n",
    "logit = sm.Logit(y_train, X_train)\n",
    "result = logit.fit()\n",
    "result.summary()"
   ]
  },
  {
   "cell_type": "markdown",
   "metadata": {},
   "source": [
    "This summary table displays data for each city that was generated by our model. The coeffiecents discussed are log odds and not probabilities or odds ratios.\n",
    "\n",
    "**Chicago**\n",
    "\n",
    "This table indicates that the coefficient for Chicago is 2.01. This demonstrates that there is a positive relationship between job salary in Chicago and the baseline for our model, which is Austin. This means that you are more likely to have a high paying job in Chicago, the p-value is low enough for the model to argued to be significant, however, we can see that the confidence interval contains zero, so this may not be the best variable for predicting whether a job salary is going to be high or low as it may not be much better than chance.\n",
    "\n",
    "**New York**\n",
    "\n",
    "The coefficient for New York is 0.92. It is positive, but small, so that means you are barely more likely to get a higher paying job in New York versus Austin. It has a high p-value, so it is not a significant indicator of salary. Additionally, the confidence interval contains zero, so it is not good predictor for salaries.\n",
    "\n",
    "**San Francisco**\n",
    "\n",
    "San Francisco has a positive coefficient, so you are more likely to get a high paying job in San Francisco than Austin.\n",
    "The p-value is arguably significant, but the confidence interval contains zero, so it also is not the greatest predictor in this model.\n",
    "\n",
    "**Seattle**\n",
    "\n",
    "Seattle has a positive coefficient as well, so you are also more likely to get a high paying job there. However, the p-value is not very significant and the confidence interval contains zero, so also probably not the greatest predictor for the model. \n",
    "\n",
    "**Intercept**\n",
    "\n",
    "This represents the logistic model with no predictors. It indicates that the model would predict a higher paying job in the absence of the other variables(in Austin). The p-value is very high and the confidence interval contains zero, so this variable is not much better than chance at predicting whether a job would be high or low paying."
   ]
  },
  {
   "cell_type": "code",
   "execution_count": 101,
   "metadata": {
    "collapsed": false
   },
   "outputs": [
    {
     "name": "stdout",
     "output_type": "stream",
     "text": [
      "Chicago          7.500000\n",
      "New York         2.517857\n",
      "San Francisco    6.250000\n",
      "Seattle          7.500000\n",
      "Intercept        1.333333\n",
      "dtype: float64\n",
      "                   2.5%      97.5%        OR\n",
      "Chicago        0.930868  60.427483  7.500000\n",
      "New York       0.502528  12.615436  2.517857\n",
      "San Francisco  0.919021  42.504471  6.250000\n",
      "Seattle        0.589772  95.375877  7.500000\n",
      "Intercept      0.298416   5.957371  1.333333\n"
     ]
    }
   ],
   "source": [
    "print np.exp(result.params)\n",
    "\n",
    "params = result.params\n",
    "conf = result.conf_int()\n",
    "conf['OR'] = params\n",
    "conf.columns = ['2.5%', '97.5%', 'OR']\n",
    "print np.exp(conf)"
   ]
  },
  {
   "cell_type": "markdown",
   "metadata": {},
   "source": [
    "Above is the odds ratio(OR) and how it is effected by small and large confidence intervals. The odds ratio tells the fold change in the relationship between the salary in a given city and the salaries in Austin. For example, in San Francisco, you would have an increase of 6.25 in high salary jobs per 1.00 increase in high salary jobs in Austin. All of the cities outside of Austin have a high odds ratio compared to Austin."
   ]
  },
  {
   "cell_type": "code",
   "execution_count": 102,
   "metadata": {
    "collapsed": false
   },
   "outputs": [
    {
     "name": "stdout",
     "output_type": "stream",
     "text": [
      "Index([u'Chicago', u'New York', u'San Francisco', u'Seattle', u'Intercept',\n",
      "       u'actualSal', u'predictedSal', u'GuessSal'],\n",
      "      dtype='object')\n"
     ]
    },
    {
     "name": "stderr",
     "output_type": "stream",
     "text": [
      "/Users/AlexStrahan/anaconda/lib/python2.7/site-packages/ipykernel/__main__.py:1: SettingWithCopyWarning: \n",
      "A value is trying to be set on a copy of a slice from a DataFrame.\n",
      "Try using .loc[row_indexer,col_indexer] = value instead\n",
      "\n",
      "See the caveats in the documentation: http://pandas.pydata.org/pandas-docs/stable/indexing.html#indexing-view-versus-copy\n",
      "  if __name__ == '__main__':\n"
     ]
    }
   ],
   "source": [
    "X_test[\"actualSal\"] = y_test\n",
    "\n",
    "dfTrain = X_test\n",
    "\n",
    "print dfTrain.columns"
   ]
  },
  {
   "cell_type": "code",
   "execution_count": 103,
   "metadata": {
    "collapsed": false
   },
   "outputs": [
    {
     "name": "stderr",
     "output_type": "stream",
     "text": [
      "/Users/AlexStrahan/anaconda/lib/python2.7/site-packages/ipykernel/__main__.py:1: SettingWithCopyWarning: \n",
      "A value is trying to be set on a copy of a slice from a DataFrame.\n",
      "Try using .loc[row_indexer,col_indexer] = value instead\n",
      "\n",
      "See the caveats in the documentation: http://pandas.pydata.org/pandas-docs/stable/indexing.html#indexing-view-versus-copy\n",
      "  if __name__ == '__main__':\n"
     ]
    }
   ],
   "source": [
    "dfTrain['predictedSal'] = result.predict( dfTrain[ dfTrain.columns[0:5] ] )"
   ]
  },
  {
   "cell_type": "code",
   "execution_count": 104,
   "metadata": {
    "collapsed": false
   },
   "outputs": [
    {
     "data": {
      "text/html": [
       "<div>\n",
       "<table border=\"1\" class=\"dataframe\">\n",
       "  <thead>\n",
       "    <tr style=\"text-align: right;\">\n",
       "      <th></th>\n",
       "      <th>Chicago</th>\n",
       "      <th>New York</th>\n",
       "      <th>San Francisco</th>\n",
       "      <th>Seattle</th>\n",
       "      <th>Intercept</th>\n",
       "      <th>actualSal</th>\n",
       "      <th>predictedSal</th>\n",
       "      <th>GuessSal</th>\n",
       "    </tr>\n",
       "  </thead>\n",
       "  <tbody>\n",
       "    <tr>\n",
       "      <th>63</th>\n",
       "      <td>0.0</td>\n",
       "      <td>0.0</td>\n",
       "      <td>0.0</td>\n",
       "      <td>1.0</td>\n",
       "      <td>1</td>\n",
       "      <td>0</td>\n",
       "      <td>0.909091</td>\n",
       "      <td>1</td>\n",
       "    </tr>\n",
       "    <tr>\n",
       "      <th>176</th>\n",
       "      <td>1.0</td>\n",
       "      <td>0.0</td>\n",
       "      <td>0.0</td>\n",
       "      <td>0.0</td>\n",
       "      <td>1</td>\n",
       "      <td>1</td>\n",
       "      <td>0.909091</td>\n",
       "      <td>1</td>\n",
       "    </tr>\n",
       "    <tr>\n",
       "      <th>46</th>\n",
       "      <td>0.0</td>\n",
       "      <td>0.0</td>\n",
       "      <td>0.0</td>\n",
       "      <td>1.0</td>\n",
       "      <td>1</td>\n",
       "      <td>1</td>\n",
       "      <td>0.909091</td>\n",
       "      <td>1</td>\n",
       "    </tr>\n",
       "    <tr>\n",
       "      <th>28</th>\n",
       "      <td>0.0</td>\n",
       "      <td>0.0</td>\n",
       "      <td>1.0</td>\n",
       "      <td>0.0</td>\n",
       "      <td>1</td>\n",
       "      <td>1</td>\n",
       "      <td>0.892857</td>\n",
       "      <td>1</td>\n",
       "    </tr>\n",
       "    <tr>\n",
       "      <th>172</th>\n",
       "      <td>1.0</td>\n",
       "      <td>0.0</td>\n",
       "      <td>0.0</td>\n",
       "      <td>0.0</td>\n",
       "      <td>1</td>\n",
       "      <td>1</td>\n",
       "      <td>0.909091</td>\n",
       "      <td>1</td>\n",
       "    </tr>\n",
       "  </tbody>\n",
       "</table>\n",
       "</div>"
      ],
      "text/plain": [
       "     Chicago  New York  San Francisco  Seattle  Intercept  actualSal  \\\n",
       "63       0.0       0.0            0.0      1.0          1          0   \n",
       "176      1.0       0.0            0.0      0.0          1          1   \n",
       "46       0.0       0.0            0.0      1.0          1          1   \n",
       "28       0.0       0.0            1.0      0.0          1          1   \n",
       "172      1.0       0.0            0.0      0.0          1          1   \n",
       "\n",
       "     predictedSal  GuessSal  \n",
       "63       0.909091         1  \n",
       "176      0.909091         1  \n",
       "46       0.909091         1  \n",
       "28       0.892857         1  \n",
       "172      0.909091         1  "
      ]
     },
     "execution_count": 104,
     "metadata": {},
     "output_type": "execute_result"
    }
   ],
   "source": [
    "dfTrain.head()"
   ]
  },
  {
   "cell_type": "code",
   "execution_count": 105,
   "metadata": {
    "collapsed": false
   },
   "outputs": [
    {
     "name": "stderr",
     "output_type": "stream",
     "text": [
      "/Users/AlexStrahan/anaconda/lib/python2.7/site-packages/ipykernel/__main__.py:2: SettingWithCopyWarning: \n",
      "A value is trying to be set on a copy of a slice from a DataFrame.\n",
      "Try using .loc[row_indexer,col_indexer] = value instead\n",
      "\n",
      "See the caveats in the documentation: http://pandas.pydata.org/pandas-docs/stable/indexing.html#indexing-view-versus-copy\n",
      "  from ipykernel import kernelapp as app\n"
     ]
    }
   ],
   "source": [
    "threshold = 0.8\n",
    "dfTrain['GuessSal'] = [0 if x < threshold else 1 for x in dfTrain['predictedSal']]"
   ]
  },
  {
   "cell_type": "code",
   "execution_count": 106,
   "metadata": {
    "collapsed": false
   },
   "outputs": [
    {
     "name": "stdout",
     "output_type": "stream",
     "text": [
      "GuessSal   0   1\n",
      "actual          \n",
      "0          8   3\n",
      "1         20  25\n"
     ]
    }
   ],
   "source": [
    "print pd.crosstab(dfTrain['actualSal'], dfTrain['GuessSal'], rownames=['actual'])"
   ]
  },
  {
   "cell_type": "markdown",
   "metadata": {},
   "source": [
    "Here we have a made a confusion matrix of job salaries as predicted from our logit model. Our model is actually relatively good at predicting whether a salary will be high, but not very good at predicting whether a salary will be low. We get a large percentage of true positives to false positives, but a very low percentage of the true negatives to the false negatives. Our model is not picking out many of the true positives, even if we vary the the threshold for the prediction model. Our threshold right now is very high, but if we lower it very much it does not pick out very many, if any, of the true negatives."
   ]
  },
  {
   "cell_type": "code",
   "execution_count": 107,
   "metadata": {
    "collapsed": false
   },
   "outputs": [
    {
     "data": {
      "text/plain": [
       "0.8928571428571429"
      ]
     },
     "execution_count": 107,
     "metadata": {},
     "output_type": "execute_result"
    }
   ],
   "source": [
    "ytrue=dfTrain['actualSal']\n",
    "ypred=dfTrain['GuessSal']\n",
    "precision_score(ytrue,ypred)"
   ]
  },
  {
   "cell_type": "markdown",
   "metadata": {},
   "source": [
    "This is the precision score. This score tells us the fraction of scores that are relevant by taking the true positives over the false positives and the true positives. It is a ratio of the guesses that were right over the guesses that it was possible to get right. We have a high precision score. It tells us that our model is not spitting out very many false positives compared to our predicted true positives. This is not telling us the whole story in this case."
   ]
  },
  {
   "cell_type": "code",
   "execution_count": 99,
   "metadata": {
    "collapsed": false
   },
   "outputs": [
    {
     "data": {
      "text/plain": [
       "0.55555555555555558"
      ]
     },
     "execution_count": 99,
     "metadata": {},
     "output_type": "execute_result"
    }
   ],
   "source": [
    "recall_score(ytrue,ypred)"
   ]
  },
  {
   "cell_type": "markdown",
   "metadata": {},
   "source": [
    "This is the recall score. This score displays the true positive results over the true positives and false negatives. The recall score lets us know how many predicted positives we got right out of all of the actual positives. Our recall score is not good. We only get half of the total actual positives correct. This is basically no better than random chance."
   ]
  },
  {
   "cell_type": "code",
   "execution_count": 100,
   "metadata": {
    "collapsed": false
   },
   "outputs": [
    {
     "data": {
      "text/plain": [
       "0.5892857142857143"
      ]
     },
     "execution_count": 100,
     "metadata": {},
     "output_type": "execute_result"
    }
   ],
   "source": [
    "accuracy_score(ytrue,ypred)"
   ]
  },
  {
   "cell_type": "markdown",
   "metadata": {},
   "source": [
    "We have a low accuracy score. The accuracy score tells the total correct predictions over the total possible correct predictions. The previous measures only look at correct positive predictions, while this takes into account all predictions. Our model produces a large amount of false negatives, which hurts both our recall and accuracy. the larg number of false negatives means that even though we have a low number of false positives, our model is only slightly better than pure chance at determining whether a salary will be high or low."
   ]
  },
  {
   "cell_type": "code",
   "execution_count": null,
   "metadata": {
    "collapsed": true
   },
   "outputs": [],
   "source": []
  },
  {
   "cell_type": "markdown",
   "metadata": {},
   "source": [
    "**Summary**\n",
    "\n",
    "This model is not very good at predicting whether or not a job will be high paying in the five cities that are in the model. It is only slightly better than blind luck. Other methods of regression, such as K nearest neighbor, were not able to be used in this project due to time constraints and the many categorical variables that we had in this data. In the future, k nearest neighbor would be a good complimentary approach, but requires custom functions for categorical variables that were not able to be performed. \n",
    "\n",
    "One limitation of our model is that we only looked at one categorical variable. In the future the model could be strengthened by adding variables such as specific keywords in the job title or the job summary. While location is a good predictor, there was also a limited number of job listings that contained salary information, so we may also have an unintentionally biased model.\n",
    "\n",
    "There were also a lot of duplicates in the data which lowered our predictive power as we had to get rid of them and had a much smaller sample size. This could be addressed through better web scraping code that could prevent the accumulation of duplicate data, or we could simply run the web scraper for more results to account for the duplications. Overall, this model is insufficient to reliably predict salary and needs to be optimized to be useful."
   ]
  },
  {
   "cell_type": "markdown",
   "metadata": {},
   "source": [
    "The cell below contains a link to a tableau visualization that may help better explore the data:"
   ]
  },
  {
   "cell_type": "markdown",
   "metadata": {},
   "source": [
    "[Salary Data](../Assets/Project4/Salaryvisualization.twb)"
   ]
  },
  {
   "cell_type": "code",
   "execution_count": null,
   "metadata": {
    "collapsed": true
   },
   "outputs": [],
   "source": []
  }
 ],
 "metadata": {
  "kernelspec": {
   "display_name": "Python 2",
   "language": "python",
   "name": "python2"
  },
  "language_info": {
   "codemirror_mode": {
    "name": "ipython",
    "version": 2
   },
   "file_extension": ".py",
   "mimetype": "text/x-python",
   "name": "python",
   "nbconvert_exporter": "python",
   "pygments_lexer": "ipython2",
   "version": "2.7.11"
  }
 },
 "nbformat": 4,
 "nbformat_minor": 0
}
