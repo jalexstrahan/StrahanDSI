{
 "cells": [
  {
   "cell_type": "markdown",
   "metadata": {},
   "source": [
    "# Getting started\n",
    "\n",
    "Once you've chosen your scenario, download the data from [the Iowa website](https://data.iowa.gov/Economy/Iowa-Liquor-Sales/m3tr-qhgy) in csv format. Start by loading the data with pandas. You may need to parse the date columns appropriately."
   ]
  },
  {
   "cell_type": "code",
   "execution_count": 4,
   "metadata": {
    "collapsed": false
   },
   "outputs": [
    {
     "data": {
      "text/html": [
       "<div>\n",
       "<table border=\"1\" class=\"dataframe\">\n",
       "  <thead>\n",
       "    <tr style=\"text-align: right;\">\n",
       "      <th></th>\n",
       "      <th>Date</th>\n",
       "      <th>Store Number</th>\n",
       "      <th>City</th>\n",
       "      <th>Zip Code</th>\n",
       "      <th>County Number</th>\n",
       "      <th>County</th>\n",
       "      <th>Category</th>\n",
       "      <th>Category Name</th>\n",
       "      <th>Vendor Number</th>\n",
       "      <th>Item Number</th>\n",
       "      <th>Item Description</th>\n",
       "      <th>Bottle Volume (ml)</th>\n",
       "      <th>State Bottle Cost</th>\n",
       "      <th>State Bottle Retail</th>\n",
       "      <th>Bottles Sold</th>\n",
       "      <th>Sale (Dollars)</th>\n",
       "      <th>Volume Sold (Liters)</th>\n",
       "      <th>Volume Sold (Gallons)</th>\n",
       "    </tr>\n",
       "  </thead>\n",
       "  <tbody>\n",
       "    <tr>\n",
       "      <th>0</th>\n",
       "      <td>2015-11-04</td>\n",
       "      <td>3717</td>\n",
       "      <td>SUMNER</td>\n",
       "      <td>50674</td>\n",
       "      <td>9.0</td>\n",
       "      <td>Bremer</td>\n",
       "      <td>1051100.0</td>\n",
       "      <td>APRICOT BRANDIES</td>\n",
       "      <td>55</td>\n",
       "      <td>54436</td>\n",
       "      <td>Mr. Boston Apricot Brandy</td>\n",
       "      <td>750</td>\n",
       "      <td>$4.50</td>\n",
       "      <td>$6.75</td>\n",
       "      <td>12</td>\n",
       "      <td>$81.00</td>\n",
       "      <td>9.0</td>\n",
       "      <td>2.38</td>\n",
       "    </tr>\n",
       "    <tr>\n",
       "      <th>1</th>\n",
       "      <td>2016-03-02</td>\n",
       "      <td>2614</td>\n",
       "      <td>DAVENPORT</td>\n",
       "      <td>52807</td>\n",
       "      <td>82.0</td>\n",
       "      <td>Scott</td>\n",
       "      <td>1011100.0</td>\n",
       "      <td>BLENDED WHISKIES</td>\n",
       "      <td>395</td>\n",
       "      <td>27605</td>\n",
       "      <td>Tin Cup</td>\n",
       "      <td>750</td>\n",
       "      <td>$13.75</td>\n",
       "      <td>$20.63</td>\n",
       "      <td>2</td>\n",
       "      <td>$41.26</td>\n",
       "      <td>1.5</td>\n",
       "      <td>0.40</td>\n",
       "    </tr>\n",
       "    <tr>\n",
       "      <th>2</th>\n",
       "      <td>2016-02-11</td>\n",
       "      <td>2106</td>\n",
       "      <td>CEDAR FALLS</td>\n",
       "      <td>50613</td>\n",
       "      <td>7.0</td>\n",
       "      <td>Black Hawk</td>\n",
       "      <td>1011200.0</td>\n",
       "      <td>STRAIGHT BOURBON WHISKIES</td>\n",
       "      <td>65</td>\n",
       "      <td>19067</td>\n",
       "      <td>Jim Beam</td>\n",
       "      <td>1000</td>\n",
       "      <td>$12.59</td>\n",
       "      <td>$18.89</td>\n",
       "      <td>24</td>\n",
       "      <td>$453.36</td>\n",
       "      <td>24.0</td>\n",
       "      <td>6.34</td>\n",
       "    </tr>\n",
       "    <tr>\n",
       "      <th>3</th>\n",
       "      <td>2016-02-03</td>\n",
       "      <td>2501</td>\n",
       "      <td>AMES</td>\n",
       "      <td>50010</td>\n",
       "      <td>85.0</td>\n",
       "      <td>Story</td>\n",
       "      <td>1071100.0</td>\n",
       "      <td>AMERICAN COCKTAILS</td>\n",
       "      <td>395</td>\n",
       "      <td>59154</td>\n",
       "      <td>1800 Ultimate Margarita</td>\n",
       "      <td>1750</td>\n",
       "      <td>$9.50</td>\n",
       "      <td>$14.25</td>\n",
       "      <td>6</td>\n",
       "      <td>$85.50</td>\n",
       "      <td>10.5</td>\n",
       "      <td>2.77</td>\n",
       "    </tr>\n",
       "    <tr>\n",
       "      <th>4</th>\n",
       "      <td>2015-08-18</td>\n",
       "      <td>3654</td>\n",
       "      <td>BELMOND</td>\n",
       "      <td>50421</td>\n",
       "      <td>99.0</td>\n",
       "      <td>Wright</td>\n",
       "      <td>1031080.0</td>\n",
       "      <td>VODKA 80 PROOF</td>\n",
       "      <td>297</td>\n",
       "      <td>35918</td>\n",
       "      <td>Five O'clock Vodka</td>\n",
       "      <td>1750</td>\n",
       "      <td>$7.20</td>\n",
       "      <td>$10.80</td>\n",
       "      <td>12</td>\n",
       "      <td>$129.60</td>\n",
       "      <td>21.0</td>\n",
       "      <td>5.55</td>\n",
       "    </tr>\n",
       "  </tbody>\n",
       "</table>\n",
       "</div>"
      ],
      "text/plain": [
       "        Date  Store Number         City Zip Code  County Number      County  \\\n",
       "0 2015-11-04          3717       SUMNER    50674            9.0      Bremer   \n",
       "1 2016-03-02          2614    DAVENPORT    52807           82.0       Scott   \n",
       "2 2016-02-11          2106  CEDAR FALLS    50613            7.0  Black Hawk   \n",
       "3 2016-02-03          2501         AMES    50010           85.0       Story   \n",
       "4 2015-08-18          3654      BELMOND    50421           99.0      Wright   \n",
       "\n",
       "    Category              Category Name  Vendor Number  Item Number  \\\n",
       "0  1051100.0           APRICOT BRANDIES             55        54436   \n",
       "1  1011100.0           BLENDED WHISKIES            395        27605   \n",
       "2  1011200.0  STRAIGHT BOURBON WHISKIES             65        19067   \n",
       "3  1071100.0         AMERICAN COCKTAILS            395        59154   \n",
       "4  1031080.0             VODKA 80 PROOF            297        35918   \n",
       "\n",
       "            Item Description  Bottle Volume (ml) State Bottle Cost  \\\n",
       "0  Mr. Boston Apricot Brandy                 750             $4.50   \n",
       "1                    Tin Cup                 750            $13.75   \n",
       "2                   Jim Beam                1000            $12.59   \n",
       "3    1800 Ultimate Margarita                1750             $9.50   \n",
       "4         Five O'clock Vodka                1750             $7.20   \n",
       "\n",
       "  State Bottle Retail  Bottles Sold Sale (Dollars)  Volume Sold (Liters)  \\\n",
       "0               $6.75            12         $81.00                   9.0   \n",
       "1              $20.63             2         $41.26                   1.5   \n",
       "2              $18.89            24        $453.36                  24.0   \n",
       "3              $14.25             6         $85.50                  10.5   \n",
       "4              $10.80            12        $129.60                  21.0   \n",
       "\n",
       "   Volume Sold (Gallons)  \n",
       "0                   2.38  \n",
       "1                   0.40  \n",
       "2                   6.34  \n",
       "3                   2.77  \n",
       "4                   5.55  "
      ]
     },
     "execution_count": 4,
     "metadata": {},
     "output_type": "execute_result"
    }
   ],
   "source": [
    "import pandas as pd\n",
    "import datetime\n",
    "import numpy as np\n",
    "## Load the data into a DataFrame\n",
    "df = pd.read_csv('../Assets/Project3/Iowa_Liquor_sales_sample_10pct.csv')\n",
    "\n",
    "## Transforming the dates to pandas datetime\n",
    "df[\"Date\"] = pd.to_datetime(df[\"Date\"], format=\"%m/%d/%Y\")\n",
    "df.head()"
   ]
  },
  {
   "cell_type": "code",
   "execution_count": 5,
   "metadata": {
    "collapsed": false
   },
   "outputs": [],
   "source": [
    "#Eliminating unnecessary strings and converting them to floats\n",
    "for column in df[['State Bottle Cost', 'State Bottle Retail', 'Sale (Dollars)']]:\n",
    "    df[column]= df[column].str.replace('$','')\n",
    "    df[column].astype(float)\n",
    "\n",
    "df[['State Bottle Cost','State Bottle Retail', 'Sale (Dollars)']] = df[['State Bottle Cost'\\\n",
    "                                            ,'State Bottle Retail', 'Sale (Dollars)']].apply(pd.to_numeric)"
   ]
  },
  {
   "cell_type": "code",
   "execution_count": 6,
   "metadata": {
    "collapsed": false
   },
   "outputs": [
    {
     "data": {
      "text/plain": [
       "Date                     datetime64[ns]\n",
       "Store Number                      int64\n",
       "City                             object\n",
       "Zip Code                         object\n",
       "County Number                   float64\n",
       "County                           object\n",
       "Category                        float64\n",
       "Category Name                    object\n",
       "Vendor Number                     int64\n",
       "Item Number                       int64\n",
       "Item Description                 object\n",
       "Bottle Volume (ml)                int64\n",
       "State Bottle Cost               float64\n",
       "State Bottle Retail             float64\n",
       "Bottles Sold                      int64\n",
       "Sale (Dollars)                  float64\n",
       "Volume Sold (Liters)            float64\n",
       "Volume Sold (Gallons)           float64\n",
       "dtype: object"
      ]
     },
     "execution_count": 6,
     "metadata": {},
     "output_type": "execute_result"
    }
   ],
   "source": [
    "df.dtypes"
   ]
  },
  {
   "cell_type": "code",
   "execution_count": 7,
   "metadata": {
    "collapsed": false
   },
   "outputs": [
    {
     "data": {
      "text/plain": [
       "Date                     False\n",
       "Store Number             False\n",
       "City                     False\n",
       "Zip Code                 False\n",
       "County Number             True\n",
       "County                    True\n",
       "Category                  True\n",
       "Category Name             True\n",
       "Vendor Number            False\n",
       "Item Number              False\n",
       "Item Description         False\n",
       "Bottle Volume (ml)       False\n",
       "State Bottle Cost        False\n",
       "State Bottle Retail      False\n",
       "Bottles Sold             False\n",
       "Sale (Dollars)           False\n",
       "Volume Sold (Liters)     False\n",
       "Volume Sold (Gallons)    False\n",
       "dtype: bool"
      ]
     },
     "execution_count": 7,
     "metadata": {},
     "output_type": "execute_result"
    }
   ],
   "source": [
    "df.isnull().any()\n",
    "\n",
    "#JB .any is a key addition so you don't have to look through whole matrix. Great!"
   ]
  },
  {
   "cell_type": "code",
   "execution_count": null,
   "metadata": {
    "collapsed": true
   },
   "outputs": [],
   "source": []
  },
  {
   "cell_type": "code",
   "execution_count": 8,
   "metadata": {
    "collapsed": false
   },
   "outputs": [
    {
     "name": "stdout",
     "output_type": "stream",
     "text": [
      "(270955, 18)\n",
      "(270955, 18)\n"
     ]
    }
   ],
   "source": [
    "print df.shape\n",
    "df.dropna()\n",
    "print df.shape\n",
    "\n",
    "#JB you didn't permanently drop the nulls; doing it below"
   ]
  },
  {
   "cell_type": "code",
   "execution_count": 9,
   "metadata": {
    "collapsed": false
   },
   "outputs": [
    {
     "name": "stdout",
     "output_type": "stream",
     "text": [
      "Date                        0\n",
      "Store Number                0\n",
      "City                        0\n",
      "Zip Code                    0\n",
      "County Number            1077\n",
      "County                   1077\n",
      "Category                   68\n",
      "Category Name             632\n",
      "Vendor Number               0\n",
      "Item Number                 0\n",
      "Item Description            0\n",
      "Bottle Volume (ml)          0\n",
      "State Bottle Cost           0\n",
      "State Bottle Retail         0\n",
      "Bottles Sold                0\n",
      "Sale (Dollars)              0\n",
      "Volume Sold (Liters)        0\n",
      "Volume Sold (Gallons)       0\n",
      "dtype: int64\n"
     ]
    },
    {
     "data": {
      "text/plain": [
       "(269258, 18)"
      ]
     },
     "execution_count": 9,
     "metadata": {},
     "output_type": "execute_result"
    }
   ],
   "source": [
    "print df.isnull().sum(axis=0)\n",
    "\n",
    "df.dropna(inplace=True)\n",
    "df.shape\n",
    "\n",
    "#JB more NaN than any one column sum bc nulls are spread out"
   ]
  },
  {
   "cell_type": "markdown",
   "metadata": {},
   "source": [
    "# Explore the data\n",
    "\n",
    "Perform some exploratory statistical analysis and make some plots, such as histograms of transaction totals, bottles sold, etc."
   ]
  },
  {
   "cell_type": "code",
   "execution_count": 10,
   "metadata": {
    "collapsed": false
   },
   "outputs": [],
   "source": [
    "import seaborn as sns\n",
    "import matplotlib.pyplot as plt\n",
    "%matplotlib inline\n"
   ]
  },
  {
   "cell_type": "code",
   "execution_count": 11,
   "metadata": {
    "collapsed": false,
    "scrolled": false
   },
   "outputs": [
    {
     "data": {
      "image/png": "[encoded data removed]",
      "text/plain": [
       "<matplotlib.figure.Figure at 0x1186e4b50>"
      ]
     },
     "metadata": {},
     "output_type": "display_data"
    },
    {
     "data": {
      "image/png": "[encoded data removed]",
      "text/plain": [
       "<matplotlib.figure.Figure at 0x118314fd0>"
      ]
     },
     "metadata": {},
     "output_type": "display_data"
    }
   ],
   "source": [
    "#Plotting histograms of possibly relevant columns of the DataFrame to see the shape of the data\n",
    "plt.hist(df['Bottles Sold'],bins=50, range=(0,100))\n",
    "plt.title('Bottles Sold')\n",
    "plt.show()\n",
    "plt.hist(df['Sale (Dollars)'], bins=50, range=(0,150))\n",
    "plt.title('Sale (Dollars)')\n",
    "plt.show()\n",
    "\n",
    "#JB need unit; is this totol sold by store, total sold of most popular, etc?"
   ]
  },
  {
   "cell_type": "code",
   "execution_count": 12,
   "metadata": {
    "collapsed": false
   },
   "outputs": [
    {
     "data": {
      "text/plain": [
       "<matplotlib.axes._subplots.AxesSubplot at 0x1154095d0>"
      ]
     },
     "execution_count": 12,
     "metadata": {},
     "output_type": "execute_result"
    },
    {
     "data": {
      "image/png": "[encoded data removed]",
      "text/plain": [
       "<matplotlib.figure.Figure at 0x115409950>"
      ]
     },
     "metadata": {},
     "output_type": "display_data"
    }
   ],
   "source": [
    "#Heatmap of correlations in the DataFrame\n",
    "sns.heatmap(df.corr())"
   ]
  },
  {
   "cell_type": "code",
   "execution_count": 13,
   "metadata": {
    "collapsed": false
   },
   "outputs": [
    {
     "data": {
      "text/plain": [
       "(269258, 18)"
      ]
     },
     "execution_count": 13,
     "metadata": {},
     "output_type": "execute_result"
    }
   ],
   "source": [
    "#Number of columns\n",
    "df.shape"
   ]
  },
  {
   "cell_type": "code",
   "execution_count": 14,
   "metadata": {
    "collapsed": false
   },
   "outputs": [
    {
     "data": {
      "text/html": [
       "<div>\n",
       "<table border=\"1\" class=\"dataframe\">\n",
       "  <thead>\n",
       "    <tr style=\"text-align: right;\">\n",
       "      <th></th>\n",
       "      <th>Date</th>\n",
       "      <th>Store Number</th>\n",
       "      <th>City</th>\n",
       "      <th>Zip Code</th>\n",
       "      <th>County Number</th>\n",
       "      <th>County</th>\n",
       "      <th>Category</th>\n",
       "      <th>Category Name</th>\n",
       "      <th>Vendor Number</th>\n",
       "      <th>Item Number</th>\n",
       "      <th>Item Description</th>\n",
       "      <th>Bottle Volume (ml)</th>\n",
       "      <th>State Bottle Cost</th>\n",
       "      <th>State Bottle Retail</th>\n",
       "      <th>Bottles Sold</th>\n",
       "      <th>Sale (Dollars)</th>\n",
       "      <th>Volume Sold (Liters)</th>\n",
       "      <th>Volume Sold (Gallons)</th>\n",
       "    </tr>\n",
       "  </thead>\n",
       "  <tbody>\n",
       "    <tr>\n",
       "      <th>0</th>\n",
       "      <td>2015-11-04</td>\n",
       "      <td>3717</td>\n",
       "      <td>SUMNER</td>\n",
       "      <td>50674</td>\n",
       "      <td>9.0</td>\n",
       "      <td>Bremer</td>\n",
       "      <td>1051100.0</td>\n",
       "      <td>APRICOT BRANDIES</td>\n",
       "      <td>55</td>\n",
       "      <td>54436</td>\n",
       "      <td>Mr. Boston Apricot Brandy</td>\n",
       "      <td>750</td>\n",
       "      <td>4.50</td>\n",
       "      <td>6.75</td>\n",
       "      <td>12</td>\n",
       "      <td>81.00</td>\n",
       "      <td>9.0</td>\n",
       "      <td>2.38</td>\n",
       "    </tr>\n",
       "    <tr>\n",
       "      <th>1</th>\n",
       "      <td>2016-03-02</td>\n",
       "      <td>2614</td>\n",
       "      <td>DAVENPORT</td>\n",
       "      <td>52807</td>\n",
       "      <td>82.0</td>\n",
       "      <td>Scott</td>\n",
       "      <td>1011100.0</td>\n",
       "      <td>BLENDED WHISKIES</td>\n",
       "      <td>395</td>\n",
       "      <td>27605</td>\n",
       "      <td>Tin Cup</td>\n",
       "      <td>750</td>\n",
       "      <td>13.75</td>\n",
       "      <td>20.63</td>\n",
       "      <td>2</td>\n",
       "      <td>41.26</td>\n",
       "      <td>1.5</td>\n",
       "      <td>0.40</td>\n",
       "    </tr>\n",
       "    <tr>\n",
       "      <th>2</th>\n",
       "      <td>2016-02-11</td>\n",
       "      <td>2106</td>\n",
       "      <td>CEDAR FALLS</td>\n",
       "      <td>50613</td>\n",
       "      <td>7.0</td>\n",
       "      <td>Black Hawk</td>\n",
       "      <td>1011200.0</td>\n",
       "      <td>STRAIGHT BOURBON WHISKIES</td>\n",
       "      <td>65</td>\n",
       "      <td>19067</td>\n",
       "      <td>Jim Beam</td>\n",
       "      <td>1000</td>\n",
       "      <td>12.59</td>\n",
       "      <td>18.89</td>\n",
       "      <td>24</td>\n",
       "      <td>453.36</td>\n",
       "      <td>24.0</td>\n",
       "      <td>6.34</td>\n",
       "    </tr>\n",
       "    <tr>\n",
       "      <th>3</th>\n",
       "      <td>2016-02-03</td>\n",
       "      <td>2501</td>\n",
       "      <td>AMES</td>\n",
       "      <td>50010</td>\n",
       "      <td>85.0</td>\n",
       "      <td>Story</td>\n",
       "      <td>1071100.0</td>\n",
       "      <td>AMERICAN COCKTAILS</td>\n",
       "      <td>395</td>\n",
       "      <td>59154</td>\n",
       "      <td>1800 Ultimate Margarita</td>\n",
       "      <td>1750</td>\n",
       "      <td>9.50</td>\n",
       "      <td>14.25</td>\n",
       "      <td>6</td>\n",
       "      <td>85.50</td>\n",
       "      <td>10.5</td>\n",
       "      <td>2.77</td>\n",
       "    </tr>\n",
       "    <tr>\n",
       "      <th>4</th>\n",
       "      <td>2015-08-18</td>\n",
       "      <td>3654</td>\n",
       "      <td>BELMOND</td>\n",
       "      <td>50421</td>\n",
       "      <td>99.0</td>\n",
       "      <td>Wright</td>\n",
       "      <td>1031080.0</td>\n",
       "      <td>VODKA 80 PROOF</td>\n",
       "      <td>297</td>\n",
       "      <td>35918</td>\n",
       "      <td>Five O'clock Vodka</td>\n",
       "      <td>1750</td>\n",
       "      <td>7.20</td>\n",
       "      <td>10.80</td>\n",
       "      <td>12</td>\n",
       "      <td>129.60</td>\n",
       "      <td>21.0</td>\n",
       "      <td>5.55</td>\n",
       "    </tr>\n",
       "  </tbody>\n",
       "</table>\n",
       "</div>"
      ],
      "text/plain": [
       "        Date  Store Number         City Zip Code  County Number      County  \\\n",
       "0 2015-11-04          3717       SUMNER    50674            9.0      Bremer   \n",
       "1 2016-03-02          2614    DAVENPORT    52807           82.0       Scott   \n",
       "2 2016-02-11          2106  CEDAR FALLS    50613            7.0  Black Hawk   \n",
       "3 2016-02-03          2501         AMES    50010           85.0       Story   \n",
       "4 2015-08-18          3654      BELMOND    50421           99.0      Wright   \n",
       "\n",
       "    Category              Category Name  Vendor Number  Item Number  \\\n",
       "0  1051100.0           APRICOT BRANDIES             55        54436   \n",
       "1  1011100.0           BLENDED WHISKIES            395        27605   \n",
       "2  1011200.0  STRAIGHT BOURBON WHISKIES             65        19067   \n",
       "3  1071100.0         AMERICAN COCKTAILS            395        59154   \n",
       "4  1031080.0             VODKA 80 PROOF            297        35918   \n",
       "\n",
       "            Item Description  Bottle Volume (ml)  State Bottle Cost  \\\n",
       "0  Mr. Boston Apricot Brandy                 750               4.50   \n",
       "1                    Tin Cup                 750              13.75   \n",
       "2                   Jim Beam                1000              12.59   \n",
       "3    1800 Ultimate Margarita                1750               9.50   \n",
       "4         Five O'clock Vodka                1750               7.20   \n",
       "\n",
       "   State Bottle Retail  Bottles Sold  Sale (Dollars)  Volume Sold (Liters)  \\\n",
       "0                 6.75            12           81.00                   9.0   \n",
       "1                20.63             2           41.26                   1.5   \n",
       "2                18.89            24          453.36                  24.0   \n",
       "3                14.25             6           85.50                  10.5   \n",
       "4                10.80            12          129.60                  21.0   \n",
       "\n",
       "   Volume Sold (Gallons)  \n",
       "0                   2.38  \n",
       "1                   0.40  \n",
       "2                   6.34  \n",
       "3                   2.77  \n",
       "4                   5.55  "
      ]
     },
     "execution_count": 14,
     "metadata": {},
     "output_type": "execute_result"
    }
   ],
   "source": [
    "df.head()\n"
   ]
  },
  {
   "cell_type": "markdown",
   "metadata": {},
   "source": [
    "## Record your findings\n",
    "\n",
    "Be sure to write out anything observations from your exploratory analysis."
   ]
  },
  {
   "cell_type": "markdown",
   "metadata": {},
   "source": [
    "# Mine the data\n",
    "Now you are ready to compute the variables you will use for your regression from the data. For example, you may want to\n",
    "compute total sales per store from Jan to March of 2015, mean price per bottle, etc. Refer to the readme for more ideas appropriate to your scenario.\n",
    "\n",
    "Pandas is your friend for this task. Take a look at the operations [here](http://pandas.pydata.org/pandas-docs/stable/groupby.html) for ideas on how to make the best use of pandas and feel free to search for blog and Stack Overflow posts to help you group data by certain variables and compute sums, means, etc. You may find it useful to create a new data frame to house this summary data."
   ]
  },
  {
   "cell_type": "code",
   "execution_count": 15,
   "metadata": {
    "collapsed": false
   },
   "outputs": [
    {
     "name": "stdout",
     "output_type": "stream",
     "text": [
      "(1372, 10)\n"
     ]
    }
   ],
   "source": [
    "#Creating DataFrame for all of 2015 data\n",
    "df.sort_values(by=[\"Store Number\", \"Date\"], inplace=True)\n",
    "start_date = pd.Timestamp(\"20150101\")\n",
    "end_date = pd.Timestamp(\"20151231\")\n",
    "mask = (df['Date'] >= start_date) & (df['Date'] <= end_date)\n",
    "lySales = df[mask]\n",
    "\n",
    "\n",
    "lySales = lySales.groupby(by=[\"Store Number\"], as_index=False)\n",
    "\n",
    "#aggregating sums for necessary columns\n",
    "lySales = lySales.agg({\"Sale (Dollars)\": [np.sum, np.mean],\n",
    "                   \"Volume Sold (Liters)\": [np.sum, np.mean],\n",
    "                   \"Zip Code\": lambda x: x.iloc[0], \n",
    "                   \"City\": lambda x: x.iloc[0],\n",
    "                   \"County Number\": lambda x: x.iloc[0],\n",
    "                   \"Category\":lambda x: x.iloc[0],\n",
    "                   \"Category Name\":lambda x: x.iloc[0]})    \n",
    "#Separating aggregated values into their own columns\n",
    "lySales.columns = [''.join(col).strip() for col in lySales.columns.values]\n",
    "\n",
    "lySales.sort_values('Store Number', inplace=True)\n",
    "print lySales.shape"
   ]
  },
  {
   "cell_type": "code",
   "execution_count": 16,
   "metadata": {
    "collapsed": false
   },
   "outputs": [
    {
     "name": "stdout",
     "output_type": "stream",
     "text": [
      "(1261, 10)\n"
     ]
    }
   ],
   "source": [
    "#Creating DataFrame for first quarter of 2015\n",
    "df.sort_values(by=[\"Store Number\", \"Date\"], inplace=True)\n",
    "start_date = pd.Timestamp(\"20150101\")\n",
    "end_date = pd.Timestamp(\"20150331\")\n",
    "mask = (df['Date'] >= start_date) & (df['Date'] <= end_date)\n",
    "qSales = df[mask]\n",
    "\n",
    "\n",
    "qSales = qSales.groupby(by=[\"Store Number\"], as_index=False)\n",
    "\n",
    "#aggregating sums for necessary columns\n",
    "qSales = qSales.agg({\"Sale (Dollars)\": [np.sum, np.mean],\n",
    "                   \"Volume Sold (Liters)\": [np.sum, np.mean],\n",
    "                   \"Zip Code\": lambda x: x.iloc[0], \n",
    "                   \"City\": lambda x: x.iloc[0],\n",
    "                   \"County Number\": lambda x: x.iloc[0],\n",
    "                   \"Category\": lambda x: x.iloc[0],\n",
    "                   \"Category Name\": lambda x: x.iloc[0]})\n",
    "#Separating aggregated values into their own columns\n",
    "qSales.columns = [''.join(col).strip() for col in qSales.columns.values]\n",
    "\n",
    "qSales.sort_values('Store Number', inplace=True)\n",
    "print qSales.shape"
   ]
  },
  {
   "cell_type": "code",
   "execution_count": null,
   "metadata": {
    "collapsed": true
   },
   "outputs": [],
   "source": []
  },
  {
   "cell_type": "code",
   "execution_count": 17,
   "metadata": {
    "collapsed": false
   },
   "outputs": [
    {
     "name": "stdout",
     "output_type": "stream",
     "text": [
      "(1280, 10)\n"
     ]
    },
    {
     "data": {
      "text/html": [
       "<div>\n",
       "<table border=\"1\" class=\"dataframe\">\n",
       "  <thead>\n",
       "    <tr style=\"text-align: right;\">\n",
       "      <th></th>\n",
       "      <th>Store Number</th>\n",
       "      <th>Category&lt;lambda&gt;</th>\n",
       "      <th>City&lt;lambda&gt;</th>\n",
       "      <th>Sale (Dollars)sum</th>\n",
       "      <th>Sale (Dollars)mean</th>\n",
       "      <th>Zip Code&lt;lambda&gt;</th>\n",
       "      <th>County Number&lt;lambda&gt;</th>\n",
       "      <th>Category Name&lt;lambda&gt;</th>\n",
       "      <th>Volume Sold (Liters)sum</th>\n",
       "      <th>Volume Sold (Liters)mean</th>\n",
       "    </tr>\n",
       "  </thead>\n",
       "  <tbody>\n",
       "    <tr>\n",
       "      <th>0</th>\n",
       "      <td>2106</td>\n",
       "      <td>1011200.0</td>\n",
       "      <td>CEDAR FALLS</td>\n",
       "      <td>30478.75</td>\n",
       "      <td>241.894841</td>\n",
       "      <td>50613</td>\n",
       "      <td>7.0</td>\n",
       "      <td>STRAIGHT BOURBON WHISKIES</td>\n",
       "      <td>2116.25</td>\n",
       "      <td>16.795635</td>\n",
       "    </tr>\n",
       "    <tr>\n",
       "      <th>1</th>\n",
       "      <td>2113</td>\n",
       "      <td>1031100.0</td>\n",
       "      <td>GOWRIE</td>\n",
       "      <td>2065.90</td>\n",
       "      <td>55.835135</td>\n",
       "      <td>50543</td>\n",
       "      <td>94.0</td>\n",
       "      <td>100 PROOF VODKA</td>\n",
       "      <td>177.00</td>\n",
       "      <td>4.783784</td>\n",
       "    </tr>\n",
       "    <tr>\n",
       "      <th>2</th>\n",
       "      <td>2130</td>\n",
       "      <td>1042100.0</td>\n",
       "      <td>WATERLOO</td>\n",
       "      <td>27856.11</td>\n",
       "      <td>238.086410</td>\n",
       "      <td>50703</td>\n",
       "      <td>7.0</td>\n",
       "      <td>IMPORTED DRY GINS</td>\n",
       "      <td>1556.90</td>\n",
       "      <td>13.306838</td>\n",
       "    </tr>\n",
       "    <tr>\n",
       "      <th>3</th>\n",
       "      <td>2152</td>\n",
       "      <td>1081315.0</td>\n",
       "      <td>ROCKWELL</td>\n",
       "      <td>904.66</td>\n",
       "      <td>45.233000</td>\n",
       "      <td>50469</td>\n",
       "      <td>17.0</td>\n",
       "      <td>CINNAMON SCHNAPPS</td>\n",
       "      <td>87.50</td>\n",
       "      <td>4.375000</td>\n",
       "    </tr>\n",
       "    <tr>\n",
       "      <th>4</th>\n",
       "      <td>2178</td>\n",
       "      <td>1031080.0</td>\n",
       "      <td>WAUKON</td>\n",
       "      <td>5588.50</td>\n",
       "      <td>96.353448</td>\n",
       "      <td>52172</td>\n",
       "      <td>3.0</td>\n",
       "      <td>VODKA 80 PROOF</td>\n",
       "      <td>520.80</td>\n",
       "      <td>8.979310</td>\n",
       "    </tr>\n",
       "  </tbody>\n",
       "</table>\n",
       "</div>"
      ],
      "text/plain": [
       "   Store Number  Category<lambda> City<lambda>  Sale (Dollars)sum  \\\n",
       "0          2106         1011200.0  CEDAR FALLS           30478.75   \n",
       "1          2113         1031100.0       GOWRIE            2065.90   \n",
       "2          2130         1042100.0     WATERLOO           27856.11   \n",
       "3          2152         1081315.0     ROCKWELL             904.66   \n",
       "4          2178         1031080.0       WAUKON            5588.50   \n",
       "\n",
       "   Sale (Dollars)mean Zip Code<lambda>  County Number<lambda>  \\\n",
       "0          241.894841            50613                    7.0   \n",
       "1           55.835135            50543                   94.0   \n",
       "2          238.086410            50703                    7.0   \n",
       "3           45.233000            50469                   17.0   \n",
       "4           96.353448            52172                    3.0   \n",
       "\n",
       "       Category Name<lambda>  Volume Sold (Liters)sum  \\\n",
       "0  STRAIGHT BOURBON WHISKIES                  2116.25   \n",
       "1            100 PROOF VODKA                   177.00   \n",
       "2          IMPORTED DRY GINS                  1556.90   \n",
       "3          CINNAMON SCHNAPPS                    87.50   \n",
       "4             VODKA 80 PROOF                   520.80   \n",
       "\n",
       "   Volume Sold (Liters)mean  \n",
       "0                 16.795635  \n",
       "1                  4.783784  \n",
       "2                 13.306838  \n",
       "3                  4.375000  \n",
       "4                  8.979310  "
      ]
     },
     "execution_count": 17,
     "metadata": {},
     "output_type": "execute_result"
    }
   ],
   "source": [
    "#Creating DataFrame with current, up to date data from 2016\n",
    "df.sort_values(by=[\"Store Number\", \"Date\"], inplace=True)\n",
    "start_date = pd.Timestamp(\"20160101\")\n",
    "mask = (df['Date'] >= start_date) \n",
    "SalesQ116 = df[mask]\n",
    "\n",
    "\n",
    "SalesQ116 = SalesQ116.groupby(by=[\"Store Number\"], as_index=False)\n",
    "#aggregating sums for necessary columns\n",
    "SalesQ116 = SalesQ116.agg({\"Sale (Dollars)\": [np.sum, np.mean],\n",
    "                   \"Volume Sold (Liters)\": [np.sum, np.mean],\n",
    "                   \"Zip Code\": lambda x: x.iloc[0], \n",
    "                   \"City\": lambda x: x.iloc[0],\n",
    "                   \"County Number\": lambda x: x.iloc[0],\n",
    "                   \"Category\":lambda x: x.iloc[0],\n",
    "                   \"Category Name\":lambda x: x.iloc[0]})    \n",
    "#Separating aggregated values into their own columns\n",
    "SalesQ116.columns = [''.join(col).strip() for col in SalesQ116.columns.values]\n",
    "\n",
    "SalesQ116.sort_values('Store Number', inplace=True)\n",
    "print SalesQ116.shape\n",
    "SalesQ116.head()"
   ]
  },
  {
   "cell_type": "code",
   "execution_count": 18,
   "metadata": {
    "collapsed": false
   },
   "outputs": [
    {
     "name": "stdout",
     "output_type": "stream",
     "text": [
      "Date                     0\n",
      "Store Number             0\n",
      "City                     0\n",
      "Zip Code                 0\n",
      "County Number            0\n",
      "County                   0\n",
      "Category                 0\n",
      "Category Name            0\n",
      "Vendor Number            0\n",
      "Item Number              0\n",
      "Item Description         0\n",
      "Bottle Volume (ml)       0\n",
      "State Bottle Cost        0\n",
      "State Bottle Retail      0\n",
      "Bottles Sold             0\n",
      "Sale (Dollars)           0\n",
      "Volume Sold (Liters)     0\n",
      "Volume Sold (Gallons)    0\n",
      "dtype: int64\n"
     ]
    },
    {
     "data": {
      "text/html": [
       "<div>\n",
       "<table border=\"1\" class=\"dataframe\">\n",
       "  <thead>\n",
       "    <tr style=\"text-align: right;\">\n",
       "      <th></th>\n",
       "      <th>StoreNumber16</th>\n",
       "      <th>Category</th>\n",
       "      <th>City</th>\n",
       "      <th>Predictor</th>\n",
       "      <th>SaleMean16</th>\n",
       "      <th>ZipCode16</th>\n",
       "      <th>CountyNumber16</th>\n",
       "      <th>CategoryName16</th>\n",
       "      <th>VolumeSoldSum16</th>\n",
       "      <th>VolumeSoldMean16</th>\n",
       "    </tr>\n",
       "  </thead>\n",
       "  <tbody>\n",
       "    <tr>\n",
       "      <th>0</th>\n",
       "      <td>2106</td>\n",
       "      <td>1011200.0</td>\n",
       "      <td>CEDAR FALLS</td>\n",
       "      <td>30478.75</td>\n",
       "      <td>241.894841</td>\n",
       "      <td>50613</td>\n",
       "      <td>7.0</td>\n",
       "      <td>STRAIGHT BOURBON WHISKIES</td>\n",
       "      <td>2116.25</td>\n",
       "      <td>16.795635</td>\n",
       "    </tr>\n",
       "    <tr>\n",
       "      <th>1</th>\n",
       "      <td>2113</td>\n",
       "      <td>1031100.0</td>\n",
       "      <td>GOWRIE</td>\n",
       "      <td>2065.90</td>\n",
       "      <td>55.835135</td>\n",
       "      <td>50543</td>\n",
       "      <td>94.0</td>\n",
       "      <td>100 PROOF VODKA</td>\n",
       "      <td>177.00</td>\n",
       "      <td>4.783784</td>\n",
       "    </tr>\n",
       "    <tr>\n",
       "      <th>2</th>\n",
       "      <td>2130</td>\n",
       "      <td>1042100.0</td>\n",
       "      <td>WATERLOO</td>\n",
       "      <td>27856.11</td>\n",
       "      <td>238.086410</td>\n",
       "      <td>50703</td>\n",
       "      <td>7.0</td>\n",
       "      <td>IMPORTED DRY GINS</td>\n",
       "      <td>1556.90</td>\n",
       "      <td>13.306838</td>\n",
       "    </tr>\n",
       "    <tr>\n",
       "      <th>3</th>\n",
       "      <td>2152</td>\n",
       "      <td>1081315.0</td>\n",
       "      <td>ROCKWELL</td>\n",
       "      <td>904.66</td>\n",
       "      <td>45.233000</td>\n",
       "      <td>50469</td>\n",
       "      <td>17.0</td>\n",
       "      <td>CINNAMON SCHNAPPS</td>\n",
       "      <td>87.50</td>\n",
       "      <td>4.375000</td>\n",
       "    </tr>\n",
       "    <tr>\n",
       "      <th>4</th>\n",
       "      <td>2178</td>\n",
       "      <td>1031080.0</td>\n",
       "      <td>WAUKON</td>\n",
       "      <td>5588.50</td>\n",
       "      <td>96.353448</td>\n",
       "      <td>52172</td>\n",
       "      <td>3.0</td>\n",
       "      <td>VODKA 80 PROOF</td>\n",
       "      <td>520.80</td>\n",
       "      <td>8.979310</td>\n",
       "    </tr>\n",
       "  </tbody>\n",
       "</table>\n",
       "</div>"
      ],
      "text/plain": [
       "   StoreNumber16   Category         City  Predictor  SaleMean16 ZipCode16  \\\n",
       "0           2106  1011200.0  CEDAR FALLS   30478.75  241.894841     50613   \n",
       "1           2113  1031100.0       GOWRIE    2065.90   55.835135     50543   \n",
       "2           2130  1042100.0     WATERLOO   27856.11  238.086410     50703   \n",
       "3           2152  1081315.0     ROCKWELL     904.66   45.233000     50469   \n",
       "4           2178  1031080.0       WAUKON    5588.50   96.353448     52172   \n",
       "\n",
       "   CountyNumber16             CategoryName16  VolumeSoldSum16  \\\n",
       "0             7.0  STRAIGHT BOURBON WHISKIES          2116.25   \n",
       "1            94.0            100 PROOF VODKA           177.00   \n",
       "2             7.0          IMPORTED DRY GINS          1556.90   \n",
       "3            17.0          CINNAMON SCHNAPPS            87.50   \n",
       "4             3.0             VODKA 80 PROOF           520.80   \n",
       "\n",
       "   VolumeSoldMean16  \n",
       "0         16.795635  \n",
       "1          4.783784  \n",
       "2         13.306838  \n",
       "3          4.375000  \n",
       "4          8.979310  "
      ]
     },
     "execution_count": 18,
     "metadata": {},
     "output_type": "execute_result"
    }
   ],
   "source": [
    "#Renaming columns and dropping nulls \n",
    "SalesQ116.columns = ['StoreNumber16', 'Category', 'City',\n",
    "       'Predictor', 'SaleMean16', 'ZipCode16',\n",
    "       'CountyNumber16', 'CategoryName16',\n",
    "       'VolumeSoldSum16', 'VolumeSoldMean16']\n",
    "print df.isnull().sum(axis=0)\n",
    "SalesQ116.dropna()\n",
    "SalesQ116.head()\n",
    "\n",
    "#JB no nulls anyway, since your source had none. Any other possible reason? But if there were, you're missing 'inplace'"
   ]
  },
  {
   "cell_type": "code",
   "execution_count": 19,
   "metadata": {
    "collapsed": false
   },
   "outputs": [],
   "source": [
    "#Merging complete 2015 DataFrame with Q1 2015 DataFrame \n",
    "lySales = pd.merge(lySales, qSales, on='Store Number')\n",
    "\n",
    "#lySales.dropna() do we need this? Why shouldn't there be nulls anyway?\n",
    "\n",
    "#JB merge is helpful here by suffixing your df's with _x and _y\n",
    "# you could use code that checks if column contains _x or _y to add to a predictor matrix!\n",
    "# when would dropna be good/bad here? What about stores not open in Q1-2015?"
   ]
  },
  {
   "cell_type": "code",
   "execution_count": 20,
   "metadata": {
    "collapsed": false
   },
   "outputs": [
    {
     "data": {
      "text/html": [
       "<div>\n",
       "<table border=\"1\" class=\"dataframe\">\n",
       "  <thead>\n",
       "    <tr style=\"text-align: right;\">\n",
       "      <th></th>\n",
       "      <th>StoreNumber15</th>\n",
       "      <th>Category15</th>\n",
       "      <th>City15</th>\n",
       "      <th>SaleSum15</th>\n",
       "      <th>SaleMean15</th>\n",
       "      <th>ZipCode15</th>\n",
       "      <th>CountyNumber15</th>\n",
       "      <th>CategoryName15</th>\n",
       "      <th>VolumeSoldSumL15</th>\n",
       "      <th>VolumeSoldMeanL15</th>\n",
       "      <th>CategoryQ115</th>\n",
       "      <th>CityQ115</th>\n",
       "      <th>Predictor</th>\n",
       "      <th>SaleMeanQ115</th>\n",
       "      <th>ZipCodeQ115</th>\n",
       "      <th>CountyNumberQ115</th>\n",
       "      <th>CategoryNameQ115</th>\n",
       "      <th>VolumeSoldSumLQ115</th>\n",
       "      <th>VolumeSoldMeanQ115</th>\n",
       "    </tr>\n",
       "  </thead>\n",
       "  <tbody>\n",
       "    <tr>\n",
       "      <th>0</th>\n",
       "      <td>2106</td>\n",
       "      <td>1062200.0</td>\n",
       "      <td>CEDAR FALLS</td>\n",
       "      <td>146038.70</td>\n",
       "      <td>277.640114</td>\n",
       "      <td>50613</td>\n",
       "      <td>7.0</td>\n",
       "      <td>PUERTO RICO &amp; VIRGIN ISLANDS RUM</td>\n",
       "      <td>9719.85</td>\n",
       "      <td>18.478802</td>\n",
       "      <td>1062200.0</td>\n",
       "      <td>CEDAR FALLS</td>\n",
       "      <td>39287.29</td>\n",
       "      <td>304.552636</td>\n",
       "      <td>50613</td>\n",
       "      <td>7.0</td>\n",
       "      <td>PUERTO RICO &amp; VIRGIN ISLANDS RUM</td>\n",
       "      <td>2526.10</td>\n",
       "      <td>19.582171</td>\n",
       "    </tr>\n",
       "    <tr>\n",
       "      <th>1</th>\n",
       "      <td>2113</td>\n",
       "      <td>1062310.0</td>\n",
       "      <td>GOWRIE</td>\n",
       "      <td>9310.22</td>\n",
       "      <td>63.334830</td>\n",
       "      <td>50543</td>\n",
       "      <td>94.0</td>\n",
       "      <td>SPICED RUM</td>\n",
       "      <td>659.85</td>\n",
       "      <td>4.488776</td>\n",
       "      <td>1062310.0</td>\n",
       "      <td>GOWRIE</td>\n",
       "      <td>2833.25</td>\n",
       "      <td>67.458333</td>\n",
       "      <td>50543</td>\n",
       "      <td>94.0</td>\n",
       "      <td>SPICED RUM</td>\n",
       "      <td>177.11</td>\n",
       "      <td>4.216905</td>\n",
       "    </tr>\n",
       "    <tr>\n",
       "      <th>2</th>\n",
       "      <td>2130</td>\n",
       "      <td>1081390.0</td>\n",
       "      <td>WATERLOO</td>\n",
       "      <td>111583.91</td>\n",
       "      <td>285.380844</td>\n",
       "      <td>50703</td>\n",
       "      <td>7.0</td>\n",
       "      <td>IMPORTED SCHNAPPS</td>\n",
       "      <td>6879.37</td>\n",
       "      <td>17.594297</td>\n",
       "      <td>1081390.0</td>\n",
       "      <td>WATERLOO</td>\n",
       "      <td>24272.57</td>\n",
       "      <td>278.995057</td>\n",
       "      <td>50703</td>\n",
       "      <td>7.0</td>\n",
       "      <td>IMPORTED SCHNAPPS</td>\n",
       "      <td>1447.25</td>\n",
       "      <td>16.635057</td>\n",
       "    </tr>\n",
       "    <tr>\n",
       "      <th>3</th>\n",
       "      <td>2152</td>\n",
       "      <td>1011300.0</td>\n",
       "      <td>ROCKWELL</td>\n",
       "      <td>7721.08</td>\n",
       "      <td>54.759433</td>\n",
       "      <td>50469</td>\n",
       "      <td>17.0</td>\n",
       "      <td>TENNESSEE WHISKIES</td>\n",
       "      <td>633.37</td>\n",
       "      <td>4.491986</td>\n",
       "      <td>1011300.0</td>\n",
       "      <td>ROCKWELL</td>\n",
       "      <td>2003.46</td>\n",
       "      <td>62.608125</td>\n",
       "      <td>50469</td>\n",
       "      <td>17.0</td>\n",
       "      <td>TENNESSEE WHISKIES</td>\n",
       "      <td>151.74</td>\n",
       "      <td>4.741875</td>\n",
       "    </tr>\n",
       "    <tr>\n",
       "      <th>4</th>\n",
       "      <td>2178</td>\n",
       "      <td>1081030.0</td>\n",
       "      <td>WAUKON</td>\n",
       "      <td>24324.18</td>\n",
       "      <td>102.633671</td>\n",
       "      <td>52172</td>\n",
       "      <td>3.0</td>\n",
       "      <td>COFFEE LIQUEURS</td>\n",
       "      <td>1917.12</td>\n",
       "      <td>8.089114</td>\n",
       "      <td>1081030.0</td>\n",
       "      <td>WAUKON</td>\n",
       "      <td>5856.41</td>\n",
       "      <td>122.008542</td>\n",
       "      <td>52172</td>\n",
       "      <td>3.0</td>\n",
       "      <td>COFFEE LIQUEURS</td>\n",
       "      <td>409.81</td>\n",
       "      <td>8.537708</td>\n",
       "    </tr>\n",
       "  </tbody>\n",
       "</table>\n",
       "</div>"
      ],
      "text/plain": [
       "   StoreNumber15  Category15       City15  SaleSum15  SaleMean15 ZipCode15  \\\n",
       "0           2106   1062200.0  CEDAR FALLS  146038.70  277.640114     50613   \n",
       "1           2113   1062310.0       GOWRIE    9310.22   63.334830     50543   \n",
       "2           2130   1081390.0     WATERLOO  111583.91  285.380844     50703   \n",
       "3           2152   1011300.0     ROCKWELL    7721.08   54.759433     50469   \n",
       "4           2178   1081030.0       WAUKON   24324.18  102.633671     52172   \n",
       "\n",
       "   CountyNumber15                    CategoryName15  VolumeSoldSumL15  \\\n",
       "0             7.0  PUERTO RICO & VIRGIN ISLANDS RUM           9719.85   \n",
       "1            94.0                        SPICED RUM            659.85   \n",
       "2             7.0                 IMPORTED SCHNAPPS           6879.37   \n",
       "3            17.0                TENNESSEE WHISKIES            633.37   \n",
       "4             3.0                   COFFEE LIQUEURS           1917.12   \n",
       "\n",
       "   VolumeSoldMeanL15  CategoryQ115     CityQ115  Predictor  SaleMeanQ115  \\\n",
       "0          18.478802     1062200.0  CEDAR FALLS   39287.29    304.552636   \n",
       "1           4.488776     1062310.0       GOWRIE    2833.25     67.458333   \n",
       "2          17.594297     1081390.0     WATERLOO   24272.57    278.995057   \n",
       "3           4.491986     1011300.0     ROCKWELL    2003.46     62.608125   \n",
       "4           8.089114     1081030.0       WAUKON    5856.41    122.008542   \n",
       "\n",
       "  ZipCodeQ115  CountyNumberQ115                  CategoryNameQ115  \\\n",
       "0       50613               7.0  PUERTO RICO & VIRGIN ISLANDS RUM   \n",
       "1       50543              94.0                        SPICED RUM   \n",
       "2       50703               7.0                 IMPORTED SCHNAPPS   \n",
       "3       50469              17.0                TENNESSEE WHISKIES   \n",
       "4       52172               3.0                   COFFEE LIQUEURS   \n",
       "\n",
       "   VolumeSoldSumLQ115  VolumeSoldMeanQ115  \n",
       "0             2526.10           19.582171  \n",
       "1              177.11            4.216905  \n",
       "2             1447.25           16.635057  \n",
       "3              151.74            4.741875  \n",
       "4              409.81            8.537708  "
      ]
     },
     "execution_count": 20,
     "metadata": {},
     "output_type": "execute_result"
    }
   ],
   "source": [
    "#Renaming columns in merged column, 'Predictor' is the name of the Q1 2015 sale data, is named this way to make plugging\n",
    "#it into the model easier later\n",
    "\n",
    "lySales.columns = [u'StoreNumber15', u'Category15', u'City15',\n",
    "       u'SaleSum15', u'SaleMean15', u'ZipCode15',\n",
    "       u'CountyNumber15', u'CategoryName15',\n",
    "       u'VolumeSoldSumL15', u'VolumeSoldMeanL15',\n",
    "       u'CategoryQ115', u'CityQ115', u'Predictor',\n",
    "       u'SaleMeanQ115', u'ZipCodeQ115',\n",
    "       u'CountyNumberQ115', u'CategoryNameQ115',\n",
    "       u'VolumeSoldSumLQ115', u'VolumeSoldMeanQ115']\n",
    "lySales.head()\n",
    "\n",
    "#JB boy, that 'predictor' label is confusing..."
   ]
  },
  {
   "cell_type": "markdown",
   "metadata": {},
   "source": [
    "# Refine the data\n",
    "Look for any statistical relationships, correlations, or other relevant properties of the dataset."
   ]
  },
  {
   "cell_type": "code",
   "execution_count": 21,
   "metadata": {
    "collapsed": false
   },
   "outputs": [
    {
     "data": {
      "text/html": [
       "<div>\n",
       "<table border=\"1\" class=\"dataframe\">\n",
       "  <thead>\n",
       "    <tr style=\"text-align: right;\">\n",
       "      <th></th>\n",
       "      <th>StoreNumber15</th>\n",
       "      <th>Category15</th>\n",
       "      <th>SaleSum15</th>\n",
       "      <th>SaleMean15</th>\n",
       "      <th>CountyNumber15</th>\n",
       "      <th>VolumeSoldSumL15</th>\n",
       "      <th>VolumeSoldMeanL15</th>\n",
       "      <th>CategoryQ115</th>\n",
       "      <th>Predictor</th>\n",
       "      <th>SaleMeanQ115</th>\n",
       "      <th>CountyNumberQ115</th>\n",
       "      <th>VolumeSoldSumLQ115</th>\n",
       "      <th>VolumeSoldMeanQ115</th>\n",
       "    </tr>\n",
       "  </thead>\n",
       "  <tbody>\n",
       "    <tr>\n",
       "      <th>StoreNumber15</th>\n",
       "      <td>1.000000</td>\n",
       "      <td>-0.075910</td>\n",
       "      <td>-0.348360</td>\n",
       "      <td>0.025952</td>\n",
       "      <td>-0.009329</td>\n",
       "      <td>-0.386335</td>\n",
       "      <td>-0.048313</td>\n",
       "      <td>-0.075910</td>\n",
       "      <td>-0.343348</td>\n",
       "      <td>0.001564</td>\n",
       "      <td>-0.009329</td>\n",
       "      <td>-0.383800</td>\n",
       "      <td>-0.057238</td>\n",
       "    </tr>\n",
       "    <tr>\n",
       "      <th>Category15</th>\n",
       "      <td>-0.075910</td>\n",
       "      <td>1.000000</td>\n",
       "      <td>0.072513</td>\n",
       "      <td>0.049195</td>\n",
       "      <td>-0.040497</td>\n",
       "      <td>0.071505</td>\n",
       "      <td>0.037521</td>\n",
       "      <td>1.000000</td>\n",
       "      <td>0.072119</td>\n",
       "      <td>0.035867</td>\n",
       "      <td>-0.040497</td>\n",
       "      <td>0.068915</td>\n",
       "      <td>0.003479</td>\n",
       "    </tr>\n",
       "    <tr>\n",
       "      <th>SaleSum15</th>\n",
       "      <td>-0.348360</td>\n",
       "      <td>0.072513</td>\n",
       "      <td>1.000000</td>\n",
       "      <td>0.423918</td>\n",
       "      <td>0.044439</td>\n",
       "      <td>0.992395</td>\n",
       "      <td>0.412188</td>\n",
       "      <td>0.072513</td>\n",
       "      <td>0.981436</td>\n",
       "      <td>0.403911</td>\n",
       "      <td>0.044439</td>\n",
       "      <td>0.964870</td>\n",
       "      <td>0.357001</td>\n",
       "    </tr>\n",
       "    <tr>\n",
       "      <th>SaleMean15</th>\n",
       "      <td>0.025952</td>\n",
       "      <td>0.049195</td>\n",
       "      <td>0.423918</td>\n",
       "      <td>1.000000</td>\n",
       "      <td>0.010093</td>\n",
       "      <td>0.416074</td>\n",
       "      <td>0.911140</td>\n",
       "      <td>0.049195</td>\n",
       "      <td>0.395257</td>\n",
       "      <td>0.898731</td>\n",
       "      <td>0.010093</td>\n",
       "      <td>0.383478</td>\n",
       "      <td>0.765914</td>\n",
       "    </tr>\n",
       "    <tr>\n",
       "      <th>CountyNumber15</th>\n",
       "      <td>-0.009329</td>\n",
       "      <td>-0.040497</td>\n",
       "      <td>0.044439</td>\n",
       "      <td>0.010093</td>\n",
       "      <td>1.000000</td>\n",
       "      <td>0.036678</td>\n",
       "      <td>-0.015398</td>\n",
       "      <td>-0.040497</td>\n",
       "      <td>0.048049</td>\n",
       "      <td>0.007376</td>\n",
       "      <td>1.000000</td>\n",
       "      <td>0.039732</td>\n",
       "      <td>-0.028949</td>\n",
       "    </tr>\n",
       "    <tr>\n",
       "      <th>VolumeSoldSumL15</th>\n",
       "      <td>-0.386335</td>\n",
       "      <td>0.071505</td>\n",
       "      <td>0.992395</td>\n",
       "      <td>0.416074</td>\n",
       "      <td>0.036678</td>\n",
       "      <td>1.000000</td>\n",
       "      <td>0.433721</td>\n",
       "      <td>0.071505</td>\n",
       "      <td>0.972707</td>\n",
       "      <td>0.397473</td>\n",
       "      <td>0.036678</td>\n",
       "      <td>0.970622</td>\n",
       "      <td>0.377768</td>\n",
       "    </tr>\n",
       "    <tr>\n",
       "      <th>VolumeSoldMeanL15</th>\n",
       "      <td>-0.048313</td>\n",
       "      <td>0.037521</td>\n",
       "      <td>0.412188</td>\n",
       "      <td>0.911140</td>\n",
       "      <td>-0.015398</td>\n",
       "      <td>0.433721</td>\n",
       "      <td>1.000000</td>\n",
       "      <td>0.037521</td>\n",
       "      <td>0.389723</td>\n",
       "      <td>0.848942</td>\n",
       "      <td>-0.015398</td>\n",
       "      <td>0.406368</td>\n",
       "      <td>0.861608</td>\n",
       "    </tr>\n",
       "    <tr>\n",
       "      <th>CategoryQ115</th>\n",
       "      <td>-0.075910</td>\n",
       "      <td>1.000000</td>\n",
       "      <td>0.072513</td>\n",
       "      <td>0.049195</td>\n",
       "      <td>-0.040497</td>\n",
       "      <td>0.071505</td>\n",
       "      <td>0.037521</td>\n",
       "      <td>1.000000</td>\n",
       "      <td>0.072119</td>\n",
       "      <td>0.035867</td>\n",
       "      <td>-0.040497</td>\n",
       "      <td>0.068915</td>\n",
       "      <td>0.003479</td>\n",
       "    </tr>\n",
       "    <tr>\n",
       "      <th>Predictor</th>\n",
       "      <td>-0.343348</td>\n",
       "      <td>0.072119</td>\n",
       "      <td>0.981436</td>\n",
       "      <td>0.395257</td>\n",
       "      <td>0.048049</td>\n",
       "      <td>0.972707</td>\n",
       "      <td>0.389723</td>\n",
       "      <td>0.072119</td>\n",
       "      <td>1.000000</td>\n",
       "      <td>0.420662</td>\n",
       "      <td>0.048049</td>\n",
       "      <td>0.986541</td>\n",
       "      <td>0.385183</td>\n",
       "    </tr>\n",
       "    <tr>\n",
       "      <th>SaleMeanQ115</th>\n",
       "      <td>0.001564</td>\n",
       "      <td>0.035867</td>\n",
       "      <td>0.403911</td>\n",
       "      <td>0.898731</td>\n",
       "      <td>0.007376</td>\n",
       "      <td>0.397473</td>\n",
       "      <td>0.848942</td>\n",
       "      <td>0.035867</td>\n",
       "      <td>0.420662</td>\n",
       "      <td>1.000000</td>\n",
       "      <td>0.007376</td>\n",
       "      <td>0.414241</td>\n",
       "      <td>0.884800</td>\n",
       "    </tr>\n",
       "    <tr>\n",
       "      <th>CountyNumberQ115</th>\n",
       "      <td>-0.009329</td>\n",
       "      <td>-0.040497</td>\n",
       "      <td>0.044439</td>\n",
       "      <td>0.010093</td>\n",
       "      <td>1.000000</td>\n",
       "      <td>0.036678</td>\n",
       "      <td>-0.015398</td>\n",
       "      <td>-0.040497</td>\n",
       "      <td>0.048049</td>\n",
       "      <td>0.007376</td>\n",
       "      <td>1.000000</td>\n",
       "      <td>0.039732</td>\n",
       "      <td>-0.028949</td>\n",
       "    </tr>\n",
       "    <tr>\n",
       "      <th>VolumeSoldSumLQ115</th>\n",
       "      <td>-0.383800</td>\n",
       "      <td>0.068915</td>\n",
       "      <td>0.964870</td>\n",
       "      <td>0.383478</td>\n",
       "      <td>0.039732</td>\n",
       "      <td>0.970622</td>\n",
       "      <td>0.406368</td>\n",
       "      <td>0.068915</td>\n",
       "      <td>0.986541</td>\n",
       "      <td>0.414241</td>\n",
       "      <td>0.039732</td>\n",
       "      <td>1.000000</td>\n",
       "      <td>0.426421</td>\n",
       "    </tr>\n",
       "    <tr>\n",
       "      <th>VolumeSoldMeanQ115</th>\n",
       "      <td>-0.057238</td>\n",
       "      <td>0.003479</td>\n",
       "      <td>0.357001</td>\n",
       "      <td>0.765914</td>\n",
       "      <td>-0.028949</td>\n",
       "      <td>0.377768</td>\n",
       "      <td>0.861608</td>\n",
       "      <td>0.003479</td>\n",
       "      <td>0.385183</td>\n",
       "      <td>0.884800</td>\n",
       "      <td>-0.028949</td>\n",
       "      <td>0.426421</td>\n",
       "      <td>1.000000</td>\n",
       "    </tr>\n",
       "  </tbody>\n",
       "</table>\n",
       "</div>"
      ],
      "text/plain": [
       "                    StoreNumber15  Category15  SaleSum15  SaleMean15  \\\n",
       "StoreNumber15            1.000000   -0.075910  -0.348360    0.025952   \n",
       "Category15              -0.075910    1.000000   0.072513    0.049195   \n",
       "SaleSum15               -0.348360    0.072513   1.000000    0.423918   \n",
       "SaleMean15               0.025952    0.049195   0.423918    1.000000   \n",
       "CountyNumber15          -0.009329   -0.040497   0.044439    0.010093   \n",
       "VolumeSoldSumL15        -0.386335    0.071505   0.992395    0.416074   \n",
       "VolumeSoldMeanL15       -0.048313    0.037521   0.412188    0.911140   \n",
       "CategoryQ115            -0.075910    1.000000   0.072513    0.049195   \n",
       "Predictor               -0.343348    0.072119   0.981436    0.395257   \n",
       "SaleMeanQ115             0.001564    0.035867   0.403911    0.898731   \n",
       "CountyNumberQ115        -0.009329   -0.040497   0.044439    0.010093   \n",
       "VolumeSoldSumLQ115      -0.383800    0.068915   0.964870    0.383478   \n",
       "VolumeSoldMeanQ115      -0.057238    0.003479   0.357001    0.765914   \n",
       "\n",
       "                    CountyNumber15  VolumeSoldSumL15  VolumeSoldMeanL15  \\\n",
       "StoreNumber15            -0.009329         -0.386335          -0.048313   \n",
       "Category15               -0.040497          0.071505           0.037521   \n",
       "SaleSum15                 0.044439          0.992395           0.412188   \n",
       "SaleMean15                0.010093          0.416074           0.911140   \n",
       "CountyNumber15            1.000000          0.036678          -0.015398   \n",
       "VolumeSoldSumL15          0.036678          1.000000           0.433721   \n",
       "VolumeSoldMeanL15        -0.015398          0.433721           1.000000   \n",
       "CategoryQ115             -0.040497          0.071505           0.037521   \n",
       "Predictor                 0.048049          0.972707           0.389723   \n",
       "SaleMeanQ115              0.007376          0.397473           0.848942   \n",
       "CountyNumberQ115          1.000000          0.036678          -0.015398   \n",
       "VolumeSoldSumLQ115        0.039732          0.970622           0.406368   \n",
       "VolumeSoldMeanQ115       -0.028949          0.377768           0.861608   \n",
       "\n",
       "                    CategoryQ115  Predictor  SaleMeanQ115  CountyNumberQ115  \\\n",
       "StoreNumber15          -0.075910  -0.343348      0.001564         -0.009329   \n",
       "Category15              1.000000   0.072119      0.035867         -0.040497   \n",
       "SaleSum15               0.072513   0.981436      0.403911          0.044439   \n",
       "SaleMean15              0.049195   0.395257      0.898731          0.010093   \n",
       "CountyNumber15         -0.040497   0.048049      0.007376          1.000000   \n",
       "VolumeSoldSumL15        0.071505   0.972707      0.397473          0.036678   \n",
       "VolumeSoldMeanL15       0.037521   0.389723      0.848942         -0.015398   \n",
       "CategoryQ115            1.000000   0.072119      0.035867         -0.040497   \n",
       "Predictor               0.072119   1.000000      0.420662          0.048049   \n",
       "SaleMeanQ115            0.035867   0.420662      1.000000          0.007376   \n",
       "CountyNumberQ115       -0.040497   0.048049      0.007376          1.000000   \n",
       "VolumeSoldSumLQ115      0.068915   0.986541      0.414241          0.039732   \n",
       "VolumeSoldMeanQ115      0.003479   0.385183      0.884800         -0.028949   \n",
       "\n",
       "                    VolumeSoldSumLQ115  VolumeSoldMeanQ115  \n",
       "StoreNumber15                -0.383800           -0.057238  \n",
       "Category15                    0.068915            0.003479  \n",
       "SaleSum15                     0.964870            0.357001  \n",
       "SaleMean15                    0.383478            0.765914  \n",
       "CountyNumber15                0.039732           -0.028949  \n",
       "VolumeSoldSumL15              0.970622            0.377768  \n",
       "VolumeSoldMeanL15             0.406368            0.861608  \n",
       "CategoryQ115                  0.068915            0.003479  \n",
       "Predictor                     0.986541            0.385183  \n",
       "SaleMeanQ115                  0.414241            0.884800  \n",
       "CountyNumberQ115              0.039732           -0.028949  \n",
       "VolumeSoldSumLQ115            1.000000            0.426421  \n",
       "VolumeSoldMeanQ115            0.426421            1.000000  "
      ]
     },
     "execution_count": 21,
     "metadata": {},
     "output_type": "execute_result"
    }
   ],
   "source": [
    "#Correlation table of merged table\n",
    "lySales.corr()"
   ]
  },
  {
   "cell_type": "code",
   "execution_count": 22,
   "metadata": {
    "collapsed": false
   },
   "outputs": [
    {
     "data": {
      "text/plain": [
       "<matplotlib.axes._subplots.AxesSubplot at 0x11d161050>"
      ]
     },
     "execution_count": 22,
     "metadata": {},
     "output_type": "execute_result"
    },
    {
     "data": {
      "image/png": "[encoded data removed]",
      "text/plain": [
       "<matplotlib.figure.Figure at 0x11d124450>"
      ]
     },
     "metadata": {},
     "output_type": "display_data"
    }
   ],
   "source": [
    "#Heatmap of same table\n",
    "sns.heatmap(lySales.corr())\n",
    "\n",
    "#JB anything look like expected, or totally off?"
   ]
  },
  {
   "cell_type": "code",
   "execution_count": 23,
   "metadata": {
    "collapsed": false,
    "scrolled": true
   },
   "outputs": [
    {
     "data": {
      "text/html": [
       "<div>\n",
       "<table border=\"1\" class=\"dataframe\">\n",
       "  <thead>\n",
       "    <tr style=\"text-align: right;\">\n",
       "      <th></th>\n",
       "      <th>Store Number</th>\n",
       "      <th>Category&lt;lambda&gt;</th>\n",
       "      <th>Sale (Dollars)sum</th>\n",
       "      <th>Sale (Dollars)mean</th>\n",
       "      <th>County Number&lt;lambda&gt;</th>\n",
       "      <th>Volume Sold (Liters)sum</th>\n",
       "      <th>Volume Sold (Liters)mean</th>\n",
       "    </tr>\n",
       "  </thead>\n",
       "  <tbody>\n",
       "    <tr>\n",
       "      <th>Store Number</th>\n",
       "      <td>1.000000</td>\n",
       "      <td>-0.075910</td>\n",
       "      <td>-0.343348</td>\n",
       "      <td>0.001564</td>\n",
       "      <td>-0.009329</td>\n",
       "      <td>-0.383800</td>\n",
       "      <td>-0.057238</td>\n",
       "    </tr>\n",
       "    <tr>\n",
       "      <th>Category&lt;lambda&gt;</th>\n",
       "      <td>-0.075910</td>\n",
       "      <td>1.000000</td>\n",
       "      <td>0.072119</td>\n",
       "      <td>0.035867</td>\n",
       "      <td>-0.040497</td>\n",
       "      <td>0.068915</td>\n",
       "      <td>0.003479</td>\n",
       "    </tr>\n",
       "    <tr>\n",
       "      <th>Sale (Dollars)sum</th>\n",
       "      <td>-0.343348</td>\n",
       "      <td>0.072119</td>\n",
       "      <td>1.000000</td>\n",
       "      <td>0.420662</td>\n",
       "      <td>0.048049</td>\n",
       "      <td>0.986541</td>\n",
       "      <td>0.385183</td>\n",
       "    </tr>\n",
       "    <tr>\n",
       "      <th>Sale (Dollars)mean</th>\n",
       "      <td>0.001564</td>\n",
       "      <td>0.035867</td>\n",
       "      <td>0.420662</td>\n",
       "      <td>1.000000</td>\n",
       "      <td>0.007376</td>\n",
       "      <td>0.414241</td>\n",
       "      <td>0.884800</td>\n",
       "    </tr>\n",
       "    <tr>\n",
       "      <th>County Number&lt;lambda&gt;</th>\n",
       "      <td>-0.009329</td>\n",
       "      <td>-0.040497</td>\n",
       "      <td>0.048049</td>\n",
       "      <td>0.007376</td>\n",
       "      <td>1.000000</td>\n",
       "      <td>0.039732</td>\n",
       "      <td>-0.028949</td>\n",
       "    </tr>\n",
       "    <tr>\n",
       "      <th>Volume Sold (Liters)sum</th>\n",
       "      <td>-0.383800</td>\n",
       "      <td>0.068915</td>\n",
       "      <td>0.986541</td>\n",
       "      <td>0.414241</td>\n",
       "      <td>0.039732</td>\n",
       "      <td>1.000000</td>\n",
       "      <td>0.426421</td>\n",
       "    </tr>\n",
       "    <tr>\n",
       "      <th>Volume Sold (Liters)mean</th>\n",
       "      <td>-0.057238</td>\n",
       "      <td>0.003479</td>\n",
       "      <td>0.385183</td>\n",
       "      <td>0.884800</td>\n",
       "      <td>-0.028949</td>\n",
       "      <td>0.426421</td>\n",
       "      <td>1.000000</td>\n",
       "    </tr>\n",
       "  </tbody>\n",
       "</table>\n",
       "</div>"
      ],
      "text/plain": [
       "                          Store Number  Category<lambda>  Sale (Dollars)sum  \\\n",
       "Store Number                  1.000000         -0.075910          -0.343348   \n",
       "Category<lambda>             -0.075910          1.000000           0.072119   \n",
       "Sale (Dollars)sum            -0.343348          0.072119           1.000000   \n",
       "Sale (Dollars)mean            0.001564          0.035867           0.420662   \n",
       "County Number<lambda>        -0.009329         -0.040497           0.048049   \n",
       "Volume Sold (Liters)sum      -0.383800          0.068915           0.986541   \n",
       "Volume Sold (Liters)mean     -0.057238          0.003479           0.385183   \n",
       "\n",
       "                          Sale (Dollars)mean  County Number<lambda>  \\\n",
       "Store Number                        0.001564              -0.009329   \n",
       "Category<lambda>                    0.035867              -0.040497   \n",
       "Sale (Dollars)sum                   0.420662               0.048049   \n",
       "Sale (Dollars)mean                  1.000000               0.007376   \n",
       "County Number<lambda>               0.007376               1.000000   \n",
       "Volume Sold (Liters)sum             0.414241               0.039732   \n",
       "Volume Sold (Liters)mean            0.884800              -0.028949   \n",
       "\n",
       "                          Volume Sold (Liters)sum  Volume Sold (Liters)mean  \n",
       "Store Number                            -0.383800                 -0.057238  \n",
       "Category<lambda>                         0.068915                  0.003479  \n",
       "Sale (Dollars)sum                        0.986541                  0.385183  \n",
       "Sale (Dollars)mean                       0.414241                  0.884800  \n",
       "County Number<lambda>                    0.039732                 -0.028949  \n",
       "Volume Sold (Liters)sum                  1.000000                  0.426421  \n",
       "Volume Sold (Liters)mean                 0.426421                  1.000000  "
      ]
     },
     "execution_count": 23,
     "metadata": {},
     "output_type": "execute_result"
    }
   ],
   "source": [
    "#Correlation table for Q1 2015 to see if it looks similar to the table above\n",
    "qSales.corr()\n",
    "\n",
    "#JB some factors are highly correlated; should we drop?"
   ]
  },
  {
   "cell_type": "code",
   "execution_count": 24,
   "metadata": {
    "collapsed": false
   },
   "outputs": [
    {
     "data": {
      "text/plain": [
       "StoreNumber15           int64\n",
       "Category15            float64\n",
       "City15                 object\n",
       "SaleSum15             float64\n",
       "SaleMean15            float64\n",
       "ZipCode15              object\n",
       "CountyNumber15        float64\n",
       "CategoryName15         object\n",
       "VolumeSoldSumL15      float64\n",
       "VolumeSoldMeanL15     float64\n",
       "CategoryQ115          float64\n",
       "CityQ115               object\n",
       "Predictor             float64\n",
       "SaleMeanQ115          float64\n",
       "ZipCodeQ115            object\n",
       "CountyNumberQ115      float64\n",
       "CategoryNameQ115       object\n",
       "VolumeSoldSumLQ115    float64\n",
       "VolumeSoldMeanQ115    float64\n",
       "dtype: object"
      ]
     },
     "execution_count": 24,
     "metadata": {},
     "output_type": "execute_result"
    }
   ],
   "source": [
    "#Ensuring data types are what they should be\n",
    "lySales.dtypes"
   ]
  },
  {
   "cell_type": "markdown",
   "metadata": {},
   "source": [
    "# Build your models\n",
    "\n",
    "Using scikit-learn or statsmodels, build the necessary models for your scenario. Evaluate model fit."
   ]
  },
  {
   "cell_type": "code",
   "execution_count": 27,
   "metadata": {
    "collapsed": false
   },
   "outputs": [
    {
     "data": {
      "text/html": [
       "<table class=\"simpletable\">\n",
       "<caption>OLS Regression Results</caption>\n",
       "<tr>\n",
       "  <th>Dep. Variable:</th>        <td>Predictor</td>    <th>  R-squared:         </th> <td>   0.963</td> \n",
       "</tr>\n",
       "<tr>\n",
       "  <th>Model:</th>                   <td>OLS</td>       <th>  Adj. R-squared:    </th> <td>   0.963</td> \n",
       "</tr>\n",
       "<tr>\n",
       "  <th>Method:</th>             <td>Least Squares</td>  <th>  F-statistic:       </th> <td>3.297e+04</td>\n",
       "</tr>\n",
       "<tr>\n",
       "  <th>Date:</th>             <td>Fri, 24 Jun 2016</td> <th>  Prob (F-statistic):</th>  <td>  0.00</td>  \n",
       "</tr>\n",
       "<tr>\n",
       "  <th>Time:</th>                 <td>14:50:58</td>     <th>  Log-Likelihood:    </th> <td> -11504.</td> \n",
       "</tr>\n",
       "<tr>\n",
       "  <th>No. Observations:</th>      <td>  1261</td>      <th>  AIC:               </th> <td>2.301e+04</td>\n",
       "</tr>\n",
       "<tr>\n",
       "  <th>Df Residuals:</th>          <td>  1259</td>      <th>  BIC:               </th> <td>2.302e+04</td>\n",
       "</tr>\n",
       "<tr>\n",
       "  <th>Df Model:</th>              <td>     1</td>      <th>                     </th>     <td> </td>    \n",
       "</tr>\n",
       "<tr>\n",
       "  <th>Covariance Type:</th>      <td>nonrobust</td>    <th>                     </th>     <td> </td>    \n",
       "</tr>\n",
       "</table>\n",
       "<table class=\"simpletable\">\n",
       "<tr>\n",
       "      <td></td>         <th>coef</th>     <th>std err</th>      <th>t</th>      <th>P>|t|</th> <th>[95.0% Conf. Int.]</th> \n",
       "</tr>\n",
       "<tr>\n",
       "  <th>Intercept</th> <td>  117.2738</td> <td>   67.753</td> <td>    1.731</td> <td> 0.084</td> <td>  -15.648   250.196</td>\n",
       "</tr>\n",
       "<tr>\n",
       "  <th>SaleSum15</th> <td>    0.2157</td> <td>    0.001</td> <td>  181.574</td> <td> 0.000</td> <td>    0.213     0.218</td>\n",
       "</tr>\n",
       "</table>\n",
       "<table class=\"simpletable\">\n",
       "<tr>\n",
       "  <th>Omnibus:</th>       <td>350.522</td> <th>  Durbin-Watson:     </th> <td>   1.979</td> \n",
       "</tr>\n",
       "<tr>\n",
       "  <th>Prob(Omnibus):</th> <td> 0.000</td>  <th>  Jarque-Bera (JB):  </th> <td>30996.716</td>\n",
       "</tr>\n",
       "<tr>\n",
       "  <th>Skew:</th>          <td> 0.051</td>  <th>  Prob(JB):          </th> <td>    0.00</td> \n",
       "</tr>\n",
       "<tr>\n",
       "  <th>Kurtosis:</th>      <td>27.289</td>  <th>  Cond. No.          </th> <td>6.18e+04</td> \n",
       "</tr>\n",
       "</table>"
      ],
      "text/plain": [
       "<class 'statsmodels.iolib.summary.Summary'>\n",
       "\"\"\"\n",
       "                            OLS Regression Results                            \n",
       "==============================================================================\n",
       "Dep. Variable:              Predictor   R-squared:                       0.963\n",
       "Model:                            OLS   Adj. R-squared:                  0.963\n",
       "Method:                 Least Squares   F-statistic:                 3.297e+04\n",
       "Date:                Fri, 24 Jun 2016   Prob (F-statistic):               0.00\n",
       "Time:                        14:50:58   Log-Likelihood:                -11504.\n",
       "No. Observations:                1261   AIC:                         2.301e+04\n",
       "Df Residuals:                    1259   BIC:                         2.302e+04\n",
       "Df Model:                           1                                         \n",
       "Covariance Type:            nonrobust                                         \n",
       "==============================================================================\n",
       "                 coef    std err          t      P>|t|      [95.0% Conf. Int.]\n",
       "------------------------------------------------------------------------------\n",
       "Intercept    117.2738     67.753      1.731      0.084       -15.648   250.196\n",
       "SaleSum15      0.2157      0.001    181.574      0.000         0.213     0.218\n",
       "==============================================================================\n",
       "Omnibus:                      350.522   Durbin-Watson:                   1.979\n",
       "Prob(Omnibus):                  0.000   Jarque-Bera (JB):            30996.716\n",
       "Skew:                           0.051   Prob(JB):                         0.00\n",
       "Kurtosis:                      27.289   Cond. No.                     6.18e+04\n",
       "==============================================================================\n",
       "\n",
       "Warnings:\n",
       "[1] Standard Errors assume that the covariance matrix of the errors is correctly specified.\n",
       "[2] The condition number is large, 6.18e+04. This might indicate that there are\n",
       "strong multicollinearity or other numerical problems.\n",
       "\"\"\""
      ]
     },
     "execution_count": 27,
     "metadata": {},
     "output_type": "execute_result"
    }
   ],
   "source": [
    "import statsmodels.formula.api as smf\n",
    "\n",
    "#Model using Q1 2015 data as a predictor for the rest of the 2015 data\n",
    "lm1 = smf.ols(formula='Predictor  ~ SaleSum15', data=lySales)\n",
    "\n",
    "model = lm1.fit_regularized()#using buit in regularization\n",
    "\n",
    "predictions1= model.predict(lySales[['SaleSum15']])\n",
    "\n",
    "model.summary()\n",
    "\n",
    "#JB need to you highlight metrics of import here."
   ]
  },
  {
   "cell_type": "code",
   "execution_count": 396,
   "metadata": {
    "collapsed": false
   },
   "outputs": [
    {
     "data": {
      "text/html": [
       "<table class=\"simpletable\">\n",
       "<caption>OLS Regression Results</caption>\n",
       "<tr>\n",
       "  <th>Dep. Variable:</th>        <td>SaleSum15</td>    <th>  R-squared:         </th> <td>   0.964</td> \n",
       "</tr>\n",
       "<tr>\n",
       "  <th>Model:</th>                   <td>OLS</td>       <th>  Adj. R-squared:    </th> <td>   0.964</td> \n",
       "</tr>\n",
       "<tr>\n",
       "  <th>Method:</th>             <td>Least Squares</td>  <th>  F-statistic:       </th> <td>1.667e+04</td>\n",
       "</tr>\n",
       "<tr>\n",
       "  <th>Date:</th>             <td>Fri, 24 Jun 2016</td> <th>  Prob (F-statistic):</th>  <td>  0.00</td>  \n",
       "</tr>\n",
       "<tr>\n",
       "  <th>Time:</th>                 <td>12:29:00</td>     <th>  Log-Likelihood:    </th> <td> -13407.</td> \n",
       "</tr>\n",
       "<tr>\n",
       "  <th>No. Observations:</th>      <td>  1261</td>      <th>  AIC:               </th> <td>2.682e+04</td>\n",
       "</tr>\n",
       "<tr>\n",
       "  <th>Df Residuals:</th>          <td>  1258</td>      <th>  BIC:               </th> <td>2.684e+04</td>\n",
       "</tr>\n",
       "<tr>\n",
       "  <th>Df Model:</th>              <td>     2</td>      <th>                     </th>     <td> </td>    \n",
       "</tr>\n",
       "<tr>\n",
       "  <th>Covariance Type:</th>      <td>nonrobust</td>    <th>                     </th>     <td> </td>    \n",
       "</tr>\n",
       "</table>\n",
       "<table class=\"simpletable\">\n",
       "<tr>\n",
       "           <td></td>             <th>coef</th>     <th>std err</th>      <th>t</th>      <th>P>|t|</th> <th>[95.0% Conf. Int.]</th> \n",
       "</tr>\n",
       "<tr>\n",
       "  <th>Intercept</th>          <td>  624.3486</td> <td>  319.277</td> <td>    1.956</td> <td> 0.051</td> <td>   -2.025  1250.722</td>\n",
       "</tr>\n",
       "<tr>\n",
       "  <th>Predictor</th>          <td>    5.0288</td> <td>    0.150</td> <td>   33.617</td> <td> 0.000</td> <td>    4.735     5.322</td>\n",
       "</tr>\n",
       "<tr>\n",
       "  <th>VolumeSoldSumLQ115</th> <td>   -9.0096</td> <td>    2.359</td> <td>   -3.819</td> <td> 0.000</td> <td>  -13.639    -4.381</td>\n",
       "</tr>\n",
       "</table>\n",
       "<table class=\"simpletable\">\n",
       "<tr>\n",
       "  <th>Omnibus:</th>       <td>612.282</td> <th>  Durbin-Watson:     </th> <td>   1.911</td> \n",
       "</tr>\n",
       "<tr>\n",
       "  <th>Prob(Omnibus):</th> <td> 0.000</td>  <th>  Jarque-Bera (JB):  </th> <td>34492.343</td>\n",
       "</tr>\n",
       "<tr>\n",
       "  <th>Skew:</th>          <td> 1.452</td>  <th>  Prob(JB):          </th> <td>    0.00</td> \n",
       "</tr>\n",
       "<tr>\n",
       "  <th>Kurtosis:</th>      <td>28.457</td>  <th>  Cond. No.          </th> <td>1.42e+04</td> \n",
       "</tr>\n",
       "</table>"
      ],
      "text/plain": [
       "<class 'statsmodels.iolib.summary.Summary'>\n",
       "\"\"\"\n",
       "                            OLS Regression Results                            \n",
       "==============================================================================\n",
       "Dep. Variable:              SaleSum15   R-squared:                       0.964\n",
       "Model:                            OLS   Adj. R-squared:                  0.964\n",
       "Method:                 Least Squares   F-statistic:                 1.667e+04\n",
       "Date:                Fri, 24 Jun 2016   Prob (F-statistic):               0.00\n",
       "Time:                        12:29:00   Log-Likelihood:                -13407.\n",
       "No. Observations:                1261   AIC:                         2.682e+04\n",
       "Df Residuals:                    1258   BIC:                         2.684e+04\n",
       "Df Model:                           2                                         \n",
       "Covariance Type:            nonrobust                                         \n",
       "======================================================================================\n",
       "                         coef    std err          t      P>|t|      [95.0% Conf. Int.]\n",
       "--------------------------------------------------------------------------------------\n",
       "Intercept            624.3486    319.277      1.956      0.051        -2.025  1250.722\n",
       "Predictor              5.0288      0.150     33.617      0.000         4.735     5.322\n",
       "VolumeSoldSumLQ115    -9.0096      2.359     -3.819      0.000       -13.639    -4.381\n",
       "==============================================================================\n",
       "Omnibus:                      612.282   Durbin-Watson:                   1.911\n",
       "Prob(Omnibus):                  0.000   Jarque-Bera (JB):            34492.343\n",
       "Skew:                           1.452   Prob(JB):                         0.00\n",
       "Kurtosis:                      28.457   Cond. No.                     1.42e+04\n",
       "==============================================================================\n",
       "\n",
       "Warnings:\n",
       "[1] Standard Errors assume that the covariance matrix of the errors is correctly specified.\n",
       "[2] The condition number is large, 1.42e+04. This might indicate that there are\n",
       "strong multicollinearity or other numerical problems.\n",
       "\"\"\""
      ]
     },
     "execution_count": 396,
     "metadata": {},
     "output_type": "execute_result"
    }
   ],
   "source": [
    "#In addition to this model, I added in Volume of liquor sold in Q1 of 2015 and there was no effect on the R-squared value, \n",
    "#so the previous model was used. \n",
    "lm2 = smf.ols(formula = 'SaleSum15 ~ Predictor + VolumeSoldSumLQ115', data = lySales)\n",
    "model2=lm2.fit()\n",
    "predictionsNA = model2.predict(lySales[['Predictor','VolumeSoldSumLQ115']])\n",
    "\n",
    "model2.summary()"
   ]
  },
  {
   "cell_type": "code",
   "execution_count": 397,
   "metadata": {
    "collapsed": false
   },
   "outputs": [
    {
     "name": "stdout",
     "output_type": "stream",
     "text": [
      "2016: 28094959.2072 Q116: 6209454.71 2015: 27816516.03 Q115: 6148321.01\n"
     ]
    }
   ],
   "source": [
    "#Using the above best model to predict 2016 sales using 2016 Sales data to current date as a predictor in the model\n",
    "predictions2 = model.predict(SalesQ116[['Predictor']])\n",
    "print '2016:', sum(predictions2), 'Q116:',sum(SalesQ116['Predictor']), '2015:', sum(predictions1), 'Q115:',sum(lySales['Predictor'])\n",
    "\n",
    "#JB added more data for validation"
   ]
  },
  {
   "cell_type": "markdown",
   "metadata": {},
   "source": [
    "## Plot your results\n",
    "\n",
    "Again make sure that you record any valuable information. For example, in the tax scenario, did you find the sales from the first three months of the year to be a good predictor of the total sales for the year? Plot the predictions versus the true values and discuss the successes and limitations of your models"
   ]
  },
  {
   "cell_type": "code",
   "execution_count": 398,
   "metadata": {
    "collapsed": false
   },
   "outputs": [
    {
     "data": {
      "text/plain": [
       "[<matplotlib.lines.Line2D at 0x1823f1b50>]"
      ]
     },
     "execution_count": 398,
     "metadata": {},
     "output_type": "execute_result"
    },
    {
     "data": {
      "image/png": "[encoded data removed]",
      "text/plain": [
       "<matplotlib.figure.Figure at 0x175f33e10>"
      ]
     },
     "metadata": {},
     "output_type": "display_data"
    }
   ],
   "source": [
    "#Plot of Sales in all of 2015 vs. predictions based on the sales of Q1 in 2015\n",
    "plt.scatter(lySales['Predictor'], lySales['SaleSum15'])\n",
    "plt.plot(lySales['Predictor'], predictions1)"
   ]
  },
  {
   "cell_type": "code",
   "execution_count": 29,
   "metadata": {
    "collapsed": false
   },
   "outputs": [
    {
     "name": "stdout",
     "output_type": "stream",
     "text": [
      " Predicted sum of sales for 2015: 6148321.01\n",
      "Actual sum of sales for 2015: 27816516.03\n"
     ]
    }
   ],
   "source": [
    "\n",
    "#JB why is the number the same? Good model, but not perfect so there should be a diff. Let's look into this!!"
   ]
  },
  {
   "cell_type": "code",
   "execution_count": 400,
   "metadata": {
    "collapsed": false
   },
   "outputs": [
    {
     "data": {
      "text/plain": [
       "[<matplotlib.lines.Line2D at 0x178f18590>]"
      ]
     },
     "execution_count": 400,
     "metadata": {},
     "output_type": "execute_result"
    },
    {
     "data": {
      "image/png": "[encoded data removed]",
      "text/plain": [
       "<matplotlib.figure.Figure at 0x178f20bd0>"
      ]
     },
     "metadata": {},
     "output_type": "display_data"
    }
   ],
   "source": [
    "\n",
    "plt.scatter(lySales['Predictor'], lySales['SaleSum15'])\n",
    "plt.plot(SalesQ116['Predictor'], predictions2,color='r')\n",
    "\n",
    "#JB what are you plotting here? Data is 2016, but line is predicting 2016 inputs, so results don't tell us anything."
   ]
  },
  {
   "cell_type": "code",
   "execution_count": 401,
   "metadata": {
    "collapsed": false
   },
   "outputs": [
    {
     "name": "stdout",
     "output_type": "stream",
     "text": [
      "Predicted sum of sales for 2016: 28094959.2072\n"
     ]
    }
   ],
   "source": [
    "print 'Predicted sum of sales for 2016:', sum(predictions2)"
   ]
  },
  {
   "cell_type": "code",
   "execution_count": 31,
   "metadata": {
    "collapsed": false
   },
   "outputs": [
    {
     "name": "stdout",
     "output_type": "stream",
     "text": [
      " Score: 0.964294149318\n"
     ]
    },
    {
     "data": {
      "image/png": "[encoded data removed]",
      "text/plain": [
       "<matplotlib.figure.Figure at 0x11548c1d0>"
      ]
     },
     "metadata": {},
     "output_type": "display_data"
    }
   ],
   "source": [
    "from sklearn import datasets, linear_model\n",
    "from sklearn.cross_validation import train_test_split\n",
    "\n",
    "#Creating training and testing variables in so that we can train, test, split\n",
    "X_train, X_test, y_train, y_test = train_test_split(lySales[['Predictor']], lySales[['SaleSum15']],test_size=0.7)\n",
    "\n",
    "lm = linear_model.LinearRegression()\n",
    "\n",
    "model = lm.fit(X_train, y_train)\n",
    "predictions3 = lm.predict(X_test)\n",
    "\n",
    "plt.scatter(y_test, predictions3)\n",
    "plt.xlabel(\"True Values\")\n",
    "plt.ylabel(\"Predictions\")\n",
    "\n",
    "print \"Score:\", model.score(X_test, y_test)  \n",
    "\n",
    "#JB what were our results? Benefits to train_test_split?"
   ]
  },
  {
   "cell_type": "code",
   "execution_count": 32,
   "metadata": {
    "collapsed": false,
    "scrolled": true
   },
   "outputs": [
    {
     "name": "stdout",
     "output_type": "stream",
     "text": [
      "Cross-validated scores: [ 0.94926032  0.92871836  0.77410183  0.67600114  0.98632698]\n",
      "Cross-Predicted Accuracy: 0.958552284186\n"
     ]
    },
    {
     "data": {
      "image/png": "[encoded data removed]",
      "text/plain": [
       "<matplotlib.figure.Figure at 0x1184f1250>"
      ]
     },
     "metadata": {},
     "output_type": "display_data"
    }
   ],
   "source": [
    "from sklearn.cross_validation import cross_val_score, cross_val_predict\n",
    "from sklearn import metrics\n",
    "\n",
    "\n",
    "#Using train, test, split variables to do cross validation\n",
    "scores = cross_val_score(model, lySales[['Predictor']], lySales[['SaleSum15']], cv=5)\n",
    "print \"Cross-validated scores:\", scores\n",
    "# Make cross validated predictions\n",
    "predictions3 = cross_val_predict(model, lySales[['Predictor']], lySales[['SaleSum15']], cv=5)\n",
    "plt.scatter(lySales[['SaleSum15']], predictions3)\n",
    "accuracy = metrics.r2_score(lySales[['SaleSum15']], predictions3)\n",
    "print \"Cross-Predicted Accuracy:\", accuracy\n",
    "\n",
    "\n",
    "#JB why did R^2 go down?"
   ]
  },
  {
   "cell_type": "markdown",
   "metadata": {},
   "source": [
    "**REPORT FOR TAX COMMITTEE**\n",
    "\n",
    "Taxes are an important revenue stream for any government. In Iowa, around $7 billion total in taxes were taken in in the fiscal year of 2012 (http://www.governing.com/gov-data/state-tax-revenue-data.html). Being able to predict tax revenue is crucial to planning budgets for the state government. A large source of tax revenue are taxes on sales, such as the sale of alcohol.   \n",
    "\n",
    "Planning state spending is dependent on predicting tax revenue, which in the case of a sales tax, is based on total sales over the year. The tax committee of the Iowa legislature has asked us to see if we can project whether the tax revenue from liquor sales will increase or decrease in the rest of 2016. In order answer this question, we can look at previous years alcohol sales in order to build a linear regression model of the total sales for the rest of the current year.  \n",
    "\n",
    "To do this we first made a model of 2015 liquor sales using the first few months of 2015 and then compared it to the known sales to see if this is a valid way to build a model for the rest of the year. The following shows that model overlaid on the data for the the entire year of 2015:"
   ]
  },
  {
   "cell_type": "code",
   "execution_count": 404,
   "metadata": {
    "collapsed": false
   },
   "outputs": [
    {
     "data": {
      "text/plain": [
       "[<matplotlib.lines.Line2D at 0x18a245d50>]"
      ]
     },
     "execution_count": 404,
     "metadata": {},
     "output_type": "execute_result"
    },
    {
     "data": {
      "image/png": "[encoded data removed]",
      "text/plain": [
       "<matplotlib.figure.Figure at 0x179097390>"
      ]
     },
     "metadata": {},
     "output_type": "display_data"
    }
   ],
   "source": [
    "plt.scatter(lySales['Predictor'], lySales['SaleSum15'])\n",
    "plt.plot(lySales['Predictor'], predictions1)"
   ]
  },
  {
   "cell_type": "code",
   "execution_count": 33,
   "metadata": {
    "collapsed": false
   },
   "outputs": [
    {
     "name": "stdout",
     "output_type": "stream",
     "text": [
      "Predicted sum of sales for 2015: [ 27177690.61220213]\n",
      "Actual sum of sales for 2015: 27816516.03\n"
     ]
    }
   ],
   "source": [
    "print 'Predicted sum of sales for 2015 using cross validated model:', sum(predictions3)\n",
    "print 'Actual sum of sales for 2015:', sum(lySales['SaleSum15'])"
   ]
  },
  {
   "cell_type": "markdown",
   "metadata": {},
   "source": [
    "This model is a very good predictor of the total liquor sales in Iowa for 2015, because we have that data and can fit the model to that data. This model has been validated as very accurate. We can use this same model, but instead plug in the data for 2016 up to the current date and see what it predicts for total sales for the rest of 2016. Here are the results of that model: "
   ]
  },
  {
   "cell_type": "code",
   "execution_count": 406,
   "metadata": {
    "collapsed": false
   },
   "outputs": [
    {
     "data": {
      "text/plain": [
       "[<matplotlib.lines.Line2D at 0x182447650>]"
      ]
     },
     "execution_count": 406,
     "metadata": {},
     "output_type": "execute_result"
    },
    {
     "data": {
      "image/png": "[encoded data removed]",
      "text/plain": [
       "<matplotlib.figure.Figure at 0x175f50e10>"
      ]
     },
     "metadata": {},
     "output_type": "display_data"
    }
   ],
   "source": [
    "plt.scatter(lySales['Predictor'], lySales['SaleSum15'])\n",
    "plt.plot(SalesQ116['Predictor'], predictions2,color='r')\n",
    "\n",
    "#JB needs to be fixed with previous attempt"
   ]
  },
  {
   "cell_type": "code",
   "execution_count": 407,
   "metadata": {
    "collapsed": false
   },
   "outputs": [
    {
     "name": "stdout",
     "output_type": "stream",
     "text": [
      "Predicted sum of sales for 2016: 28094959.2072\n"
     ]
    }
   ],
   "source": [
    "print 'Predicted sum of sales for 2016:',sum(predictions2)"
   ]
  },
  {
   "cell_type": "markdown",
   "metadata": {
    "collapsed": true
   },
   "source": [
    "This model shows that the sum of sales for 2016 should surpass those of 2015 by around $1.1 million dollars. This would be a predicted 3.8% increase in the sales revenue for liquor stores in Iowa in 2016. "
   ]
  },
  {
   "cell_type": "code",
   "execution_count": 408,
   "metadata": {
    "collapsed": false
   },
   "outputs": [
    {
     "data": {
      "text/plain": [
       "278443.17717069015"
      ]
     },
     "execution_count": 408,
     "metadata": {},
     "output_type": "execute_result"
    }
   ],
   "source": [
    "#JB where's the exact math on this? Like this?:\n",
    "\n",
    "sum(predictions2) - sum(lySales['SaleSum15'])"
   ]
  },
  {
   "cell_type": "code",
   "execution_count": 409,
   "metadata": {
    "collapsed": false
   },
   "outputs": [
    {
     "data": {
      "image/png": "[encoded data removed]",
      "text/plain": [
       "<matplotlib.figure.Figure at 0x18246f950>"
      ]
     },
     "metadata": {},
     "output_type": "display_data"
    }
   ],
   "source": [
    "\n",
    "x=['2015 Sales','2016 Predicted Sales']\n",
    "y=[sum(predictions1), sum(predictions2)]\n",
    "sns.set_context(rc={\"figure.figsize\": (10,7)})\n",
    "nd=np.arange(2)\n",
    "width=0.6\n",
    "plt.xticks(nd+width/2., ('2015 Sales','2016 Predicted Sales'))\n",
    "plt.xlim(-0.75,3)\n",
    "fig = plt.bar(nd, y, color=sns.color_palette(\"cubehelix\", 8))\n",
    "plt.title('2015 Sales vs. 2016 Modeled Sales\\n' , fontsize=25)\n",
    "plt.xlabel('Year', fontsize=16)\n",
    "plt.ylabel('Revenue (Millions)')\n",
    "plt.show()"
   ]
  },
  {
   "cell_type": "markdown",
   "metadata": {},
   "source": [
    "This predicted increase in sales should translate into increased tax revenue for the state of Iowa through liquor taxes, barring any unforseen events that occur in 2016 that did not occur in 2015. With just the sales tax of 6% (not including taxes on specific types of alcohol) we predict that there will be an increase in just sales tax revenue to 1.738  million dollars from the 1.672 million dollars collected in 2015."
   ]
  },
  {
   "cell_type": "markdown",
   "metadata": {
    "collapsed": true
   },
   "source": [
    "Score | 16/21\n",
    "----|----\n",
    "Identify: Write a detailed problem statement + Describe Goals & Criteria for Success | 1\n",
    "Acquire: Import with Pandas & create at least one exploratory plot| 3\n",
    "Parse: State risks & assumptions of your data| 2\n",
    "Mine: Create necessary columns + Clean/format/process data| 3\n",
    "Refine: Determine outliers + distribution, correlation, & statistical analysis| 2\n",
    "Model: Create linear models; calculate probabilities, evaluate model, perform CV| 2\n",
    "Present: Create executive summary, present findings, summarize, tailored for your audience (based on your scenario)|2\n",
    "Bonus: perform Ridge and Lasso regularization and explain what they do | 1"
   ]
  },
  {
   "cell_type": "code",
   "execution_count": null,
   "metadata": {
    "collapsed": true
   },
   "outputs": [],
   "source": []
  }
 ],
 "metadata": {
  "kernelspec": {
   "display_name": "Python 2",
   "language": "python",
   "name": "python2"
  },
  "language_info": {
   "codemirror_mode": {
    "name": "ipython",
    "version": 2
   },
   "file_extension": ".py",
   "mimetype": "text/x-python",
   "name": "python",
   "nbconvert_exporter": "python",
   "pygments_lexer": "ipython2",
   "version": "2.7.11"
  }
 },
 "nbformat": 4,
 "nbformat_minor": 0
}
